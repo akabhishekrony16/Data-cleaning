{
 "cells": [
  {
   "cell_type": "markdown",
   "metadata": {},
   "source": [
    "---\n",
    "\n",
    "_You are currently looking at **version 1.1** of this notebook. To download notebooks and datafiles, as well as get help on Jupyter notebooks in the Coursera platform, visit the [Jupyter Notebook FAQ](https://www.coursera.org/learn/python-data-analysis/resources/0dhYG) course resource._\n",
    "\n",
    "---"
   ]
  },
  {
   "cell_type": "code",
   "execution_count": 180,
   "metadata": {
    "collapsed": true
   },
   "outputs": [],
   "source": [
    "import pandas as pd\n",
    "import numpy as np\n",
    "from pandas import Series,DataFrame\n",
    "from scipy.stats import ttest_ind"
   ]
  },
  {
   "cell_type": "markdown",
   "metadata": {},
   "source": [
    "# Assignment 4 - Hypothesis Testing\n",
    "This assignment requires more individual learning than previous assignments - you are encouraged to check out the [pandas documentation](http://pandas.pydata.org/pandas-docs/stable/) to find functions or methods you might not have used yet, or ask questions on [Stack Overflow](http://stackoverflow.com/) and tag them as pandas and python related. And of course, the discussion forums are open for interaction with your peers and the course staff.\n",
    "\n",
    "Definitions:\n",
    "* A _quarter_ is a specific three month period, Q1 is January through March, Q2 is April through June, Q3 is July through September, Q4 is October through December.\n",
    "* A _recession_ is defined as starting with two consecutive quarters of GDP decline, and ending with two consecutive quarters of GDP growth.\n",
    "* A _recession bottom_ is the quarter within a recession which had the lowest GDP.\n",
    "* A _university town_ is a city which has a high percentage of university students compared to the total population of the city.\n",
    "\n",
    "**Hypothesis**: University towns have their mean housing prices less effected by recessions. Run a t-test to compare the ratio of the mean price of houses in university towns the quarter before the recession starts compared to the recession bottom. (`price_ratio=quarter_before_recession/recession_bottom`)\n",
    "\n",
    "The following data files are available for this assignment:\n",
    "* From the [Zillow research data site](http://www.zillow.com/research/data/) there is housing data for the United States. In particular the datafile for [all homes at a city level](http://files.zillowstatic.com/research/public/City/City_Zhvi_AllHomes.csv), ```City_Zhvi_AllHomes.csv```, has median home sale prices at a fine grained level.\n",
    "* From the Wikipedia page on college towns is a list of [university towns in the United States](https://en.wikipedia.org/wiki/List_of_college_towns#College_towns_in_the_United_States) which has been copy and pasted into the file ```university_towns.txt```.\n",
    "* From Bureau of Economic Analysis, US Department of Commerce, the [GDP over time](http://www.bea.gov/national/index.htm#gdp) of the United States in current dollars (use the chained value in 2009 dollars), in quarterly intervals, in the file ```gdplev.xls```. For this assignment, only look at GDP data from the first quarter of 2000 onward.\n",
    "\n",
    "Each function in this assignment below is worth 10%, with the exception of ```run_ttest()```, which is worth 50%."
   ]
  },
  {
   "cell_type": "code",
   "execution_count": 88,
   "metadata": {
    "collapsed": false
   },
   "outputs": [],
   "source": [
    "# Use this dictionary to map state names to two letter acronyms\n",
    "states = {'OH': 'Ohio', 'KY': 'Kentucky', 'AS': 'American Samoa', 'NV': 'Nevada', 'WY': 'Wyoming', 'NA': 'National', 'AL': 'Alabama', 'MD': 'Maryland', 'AK': 'Alaska', 'UT': 'Utah', 'OR': 'Oregon', 'MT': 'Montana', 'IL': 'Illinois', 'TN': 'Tennessee', 'DC': 'District of Columbia', 'VT': 'Vermont', 'ID': 'Idaho', 'AR': 'Arkansas', 'ME': 'Maine', 'WA': 'Washington', 'HI': 'Hawaii', 'WI': 'Wisconsin', 'MI': 'Michigan', 'IN': 'Indiana', 'NJ': 'New Jersey', 'AZ': 'Arizona', 'GU': 'Guam', 'MS': 'Mississippi', 'PR': 'Puerto Rico', 'NC': 'North Carolina', 'TX': 'Texas', 'SD': 'South Dakota', 'MP': 'Northern Mariana Islands', 'IA': 'Iowa', 'MO': 'Missouri', 'CT': 'Connecticut', 'WV': 'West Virginia', 'SC': 'South Carolina', 'LA': 'Louisiana', 'KS': 'Kansas', 'NY': 'New York', 'NE': 'Nebraska', 'OK': 'Oklahoma', 'FL': 'Florida', 'CA': 'California', 'CO': 'Colorado', 'PA': 'Pennsylvania', 'DE': 'Delaware', 'NM': 'New Mexico', 'RI': 'Rhode Island', 'MN': 'Minnesota', 'VI': 'Virgin Islands', 'NH': 'New Hampshire', 'MA': 'Massachusetts', 'GA': 'Georgia', 'ND': 'North Dakota', 'VA': 'Virginia'}"
   ]
  },
  {
   "cell_type": "code",
   "execution_count": 89,
   "metadata": {
    "collapsed": false
   },
   "outputs": [
    {
     "name": "stderr",
     "output_type": "stream",
     "text": [
      "/opt/conda/lib/python3.5/site-packages/ipykernel/__main__.py:43: FutureWarning: by argument to sort_index is deprecated, pls use .sort_values(by=...)\n"
     ]
    }
   ],
   "source": [
    "#cleaning the university_towns.txt\n",
    "file =open('university_towns.txt')\n",
    "l = []\n",
    "st = []\n",
    "x=1\n",
    "i=0\n",
    "d=dict()\n",
    "for line in file:\n",
    "    word = line.strip()\n",
    "    l.append(word)\n",
    "while i < len(l):\n",
    "    if '[edit]' in l[i]:\n",
    "        d[l[i].replace('[edit]','')] = []\n",
    "    i=i+1\n",
    "for i in sorted(list(d.keys())):\n",
    "    for j in range(x,len(l)):\n",
    "        if '[edit]' in l[j]:\n",
    "            x=j+1\n",
    "            break\n",
    "        else:\n",
    "            d[i].append(l[j])\n",
    "for i in d.keys():\n",
    "    st.append(DataFrame(d[i],index=[i]*len(d[i])))\n",
    "dat=pd.concat(st)\n",
    "dat[1]=dat[0]\n",
    "dat[0]=dat.index\n",
    "dat.index=range(0,len(dat.index))\n",
    "dat.columns=['State','RegionName']\n",
    "def function(words):\n",
    "    l=[]\n",
    "    for i in words:\n",
    "        if i =='(':\n",
    "             break\n",
    "        else:\n",
    "            l.append(i)\n",
    "    word= ''.join(l)\n",
    "    if word[-1]==' ':\n",
    "        word=word[:len(word)-1]\n",
    "    else:\n",
    "        word = word\n",
    "    return word\n",
    "dat['RegionName']=dat['RegionName'].map(function)\n",
    "dat=dat.sort_index(by='State')\n",
    "dat.index=range(0,517)"
   ]
  },
  {
   "cell_type": "code",
   "execution_count": 90,
   "metadata": {
    "collapsed": false
   },
   "outputs": [],
   "source": [
    "def get_list_of_university_towns():\n",
    "    return dat"
   ]
  },
  {
   "cell_type": "code",
   "execution_count": 120,
   "metadata": {
    "collapsed": false
   },
   "outputs": [
    {
     "data": {
      "text/html": [
       "<div>\n",
       "<table border=\"1\" class=\"dataframe\">\n",
       "  <thead>\n",
       "    <tr style=\"text-align: right;\">\n",
       "      <th></th>\n",
       "      <th>State</th>\n",
       "      <th>RegionName</th>\n",
       "    </tr>\n",
       "  </thead>\n",
       "  <tbody>\n",
       "    <tr>\n",
       "      <th>0</th>\n",
       "      <td>Alabama</td>\n",
       "      <td>Montevallo</td>\n",
       "    </tr>\n",
       "    <tr>\n",
       "      <th>1</th>\n",
       "      <td>Alabama</td>\n",
       "      <td>Auburn</td>\n",
       "    </tr>\n",
       "    <tr>\n",
       "      <th>2</th>\n",
       "      <td>Alabama</td>\n",
       "      <td>Florence</td>\n",
       "    </tr>\n",
       "    <tr>\n",
       "      <th>3</th>\n",
       "      <td>Alabama</td>\n",
       "      <td>Jacksonville</td>\n",
       "    </tr>\n",
       "    <tr>\n",
       "      <th>4</th>\n",
       "      <td>Alabama</td>\n",
       "      <td>Livingston</td>\n",
       "    </tr>\n",
       "    <tr>\n",
       "      <th>5</th>\n",
       "      <td>Alabama</td>\n",
       "      <td>Troy</td>\n",
       "    </tr>\n",
       "    <tr>\n",
       "      <th>6</th>\n",
       "      <td>Alabama</td>\n",
       "      <td>Tuscaloosa</td>\n",
       "    </tr>\n",
       "    <tr>\n",
       "      <th>7</th>\n",
       "      <td>Alabama</td>\n",
       "      <td>Tuskegee</td>\n",
       "    </tr>\n",
       "    <tr>\n",
       "      <th>8</th>\n",
       "      <td>Alaska</td>\n",
       "      <td>Fairbanks</td>\n",
       "    </tr>\n",
       "    <tr>\n",
       "      <th>9</th>\n",
       "      <td>Arizona</td>\n",
       "      <td>Tucson</td>\n",
       "    </tr>\n",
       "    <tr>\n",
       "      <th>10</th>\n",
       "      <td>Arizona</td>\n",
       "      <td>Tempe</td>\n",
       "    </tr>\n",
       "    <tr>\n",
       "      <th>11</th>\n",
       "      <td>Arizona</td>\n",
       "      <td>Flagstaff</td>\n",
       "    </tr>\n",
       "    <tr>\n",
       "      <th>12</th>\n",
       "      <td>Arkansas</td>\n",
       "      <td>Arkadelphia</td>\n",
       "    </tr>\n",
       "    <tr>\n",
       "      <th>13</th>\n",
       "      <td>Arkansas</td>\n",
       "      <td>Conway</td>\n",
       "    </tr>\n",
       "    <tr>\n",
       "      <th>14</th>\n",
       "      <td>Arkansas</td>\n",
       "      <td>Fayetteville</td>\n",
       "    </tr>\n",
       "    <tr>\n",
       "      <th>15</th>\n",
       "      <td>Arkansas</td>\n",
       "      <td>Jonesboro</td>\n",
       "    </tr>\n",
       "    <tr>\n",
       "      <th>16</th>\n",
       "      <td>Arkansas</td>\n",
       "      <td>Magnolia</td>\n",
       "    </tr>\n",
       "    <tr>\n",
       "      <th>17</th>\n",
       "      <td>Arkansas</td>\n",
       "      <td>Monticello</td>\n",
       "    </tr>\n",
       "    <tr>\n",
       "      <th>18</th>\n",
       "      <td>Arkansas</td>\n",
       "      <td>Russellville</td>\n",
       "    </tr>\n",
       "    <tr>\n",
       "      <th>19</th>\n",
       "      <td>Arkansas</td>\n",
       "      <td>Searcy</td>\n",
       "    </tr>\n",
       "    <tr>\n",
       "      <th>20</th>\n",
       "      <td>California</td>\n",
       "      <td>University Park, Los Angeles</td>\n",
       "    </tr>\n",
       "    <tr>\n",
       "      <th>21</th>\n",
       "      <td>California</td>\n",
       "      <td>Isla Vista</td>\n",
       "    </tr>\n",
       "    <tr>\n",
       "      <th>22</th>\n",
       "      <td>California</td>\n",
       "      <td>Irvine</td>\n",
       "    </tr>\n",
       "    <tr>\n",
       "      <th>23</th>\n",
       "      <td>California</td>\n",
       "      <td>Davis</td>\n",
       "    </tr>\n",
       "    <tr>\n",
       "      <th>24</th>\n",
       "      <td>California</td>\n",
       "      <td>Cotati</td>\n",
       "    </tr>\n",
       "    <tr>\n",
       "      <th>25</th>\n",
       "      <td>California</td>\n",
       "      <td>Santa Cruz</td>\n",
       "    </tr>\n",
       "    <tr>\n",
       "      <th>26</th>\n",
       "      <td>California</td>\n",
       "      <td>Chico</td>\n",
       "    </tr>\n",
       "    <tr>\n",
       "      <th>27</th>\n",
       "      <td>California</td>\n",
       "      <td>Berkeley</td>\n",
       "    </tr>\n",
       "    <tr>\n",
       "      <th>28</th>\n",
       "      <td>California</td>\n",
       "      <td>Arcata</td>\n",
       "    </tr>\n",
       "    <tr>\n",
       "      <th>29</th>\n",
       "      <td>California</td>\n",
       "      <td>Angwin</td>\n",
       "    </tr>\n",
       "    <tr>\n",
       "      <th>...</th>\n",
       "      <td>...</td>\n",
       "      <td>...</td>\n",
       "    </tr>\n",
       "    <tr>\n",
       "      <th>487</th>\n",
       "      <td>Virginia</td>\n",
       "      <td>Blacksburg</td>\n",
       "    </tr>\n",
       "    <tr>\n",
       "      <th>488</th>\n",
       "      <td>Virginia</td>\n",
       "      <td>Lexington</td>\n",
       "    </tr>\n",
       "    <tr>\n",
       "      <th>489</th>\n",
       "      <td>Washington</td>\n",
       "      <td>Cheney</td>\n",
       "    </tr>\n",
       "    <tr>\n",
       "      <th>490</th>\n",
       "      <td>Washington</td>\n",
       "      <td>Ellensburg</td>\n",
       "    </tr>\n",
       "    <tr>\n",
       "      <th>491</th>\n",
       "      <td>Washington</td>\n",
       "      <td>Pullman</td>\n",
       "    </tr>\n",
       "    <tr>\n",
       "      <th>492</th>\n",
       "      <td>Washington</td>\n",
       "      <td>Bellingham</td>\n",
       "    </tr>\n",
       "    <tr>\n",
       "      <th>493</th>\n",
       "      <td>Washington</td>\n",
       "      <td>University District, Seattle</td>\n",
       "    </tr>\n",
       "    <tr>\n",
       "      <th>494</th>\n",
       "      <td>West Virginia</td>\n",
       "      <td>Shepherdstown</td>\n",
       "    </tr>\n",
       "    <tr>\n",
       "      <th>495</th>\n",
       "      <td>West Virginia</td>\n",
       "      <td>West Liberty</td>\n",
       "    </tr>\n",
       "    <tr>\n",
       "      <th>496</th>\n",
       "      <td>West Virginia</td>\n",
       "      <td>Morgantown</td>\n",
       "    </tr>\n",
       "    <tr>\n",
       "      <th>497</th>\n",
       "      <td>West Virginia</td>\n",
       "      <td>Montgomery</td>\n",
       "    </tr>\n",
       "    <tr>\n",
       "      <th>498</th>\n",
       "      <td>West Virginia</td>\n",
       "      <td>Huntington</td>\n",
       "    </tr>\n",
       "    <tr>\n",
       "      <th>499</th>\n",
       "      <td>West Virginia</td>\n",
       "      <td>Glenville</td>\n",
       "    </tr>\n",
       "    <tr>\n",
       "      <th>500</th>\n",
       "      <td>West Virginia</td>\n",
       "      <td>Fairmont</td>\n",
       "    </tr>\n",
       "    <tr>\n",
       "      <th>501</th>\n",
       "      <td>West Virginia</td>\n",
       "      <td>Buckhannon</td>\n",
       "    </tr>\n",
       "    <tr>\n",
       "      <th>502</th>\n",
       "      <td>West Virginia</td>\n",
       "      <td>Athens</td>\n",
       "    </tr>\n",
       "    <tr>\n",
       "      <th>503</th>\n",
       "      <td>Wisconsin</td>\n",
       "      <td>Milwaukee</td>\n",
       "    </tr>\n",
       "    <tr>\n",
       "      <th>504</th>\n",
       "      <td>Wisconsin</td>\n",
       "      <td>Menomonie</td>\n",
       "    </tr>\n",
       "    <tr>\n",
       "      <th>505</th>\n",
       "      <td>Wisconsin</td>\n",
       "      <td>Madison</td>\n",
       "    </tr>\n",
       "    <tr>\n",
       "      <th>506</th>\n",
       "      <td>Wisconsin</td>\n",
       "      <td>La Crosse</td>\n",
       "    </tr>\n",
       "    <tr>\n",
       "      <th>507</th>\n",
       "      <td>Wisconsin</td>\n",
       "      <td>Green Bay</td>\n",
       "    </tr>\n",
       "    <tr>\n",
       "      <th>508</th>\n",
       "      <td>Wisconsin</td>\n",
       "      <td>Eau Claire</td>\n",
       "    </tr>\n",
       "    <tr>\n",
       "      <th>509</th>\n",
       "      <td>Wisconsin</td>\n",
       "      <td>Stevens Point</td>\n",
       "    </tr>\n",
       "    <tr>\n",
       "      <th>510</th>\n",
       "      <td>Wisconsin</td>\n",
       "      <td>Whitewater</td>\n",
       "    </tr>\n",
       "    <tr>\n",
       "      <th>511</th>\n",
       "      <td>Wisconsin</td>\n",
       "      <td>Waukesha</td>\n",
       "    </tr>\n",
       "    <tr>\n",
       "      <th>512</th>\n",
       "      <td>Wisconsin</td>\n",
       "      <td>River Falls</td>\n",
       "    </tr>\n",
       "    <tr>\n",
       "      <th>513</th>\n",
       "      <td>Wisconsin</td>\n",
       "      <td>Platteville</td>\n",
       "    </tr>\n",
       "    <tr>\n",
       "      <th>514</th>\n",
       "      <td>Wisconsin</td>\n",
       "      <td>Appleton</td>\n",
       "    </tr>\n",
       "    <tr>\n",
       "      <th>515</th>\n",
       "      <td>Wisconsin</td>\n",
       "      <td>Oshkosh</td>\n",
       "    </tr>\n",
       "    <tr>\n",
       "      <th>516</th>\n",
       "      <td>Wyoming</td>\n",
       "      <td>Laramie</td>\n",
       "    </tr>\n",
       "  </tbody>\n",
       "</table>\n",
       "<p>517 rows × 2 columns</p>\n",
       "</div>"
      ],
      "text/plain": [
       "             State                    RegionName\n",
       "0          Alabama                    Montevallo\n",
       "1          Alabama                        Auburn\n",
       "2          Alabama                      Florence\n",
       "3          Alabama                  Jacksonville\n",
       "4          Alabama                    Livingston\n",
       "5          Alabama                          Troy\n",
       "6          Alabama                    Tuscaloosa\n",
       "7          Alabama                      Tuskegee\n",
       "8           Alaska                     Fairbanks\n",
       "9          Arizona                        Tucson\n",
       "10         Arizona                         Tempe\n",
       "11         Arizona                     Flagstaff\n",
       "12        Arkansas                   Arkadelphia\n",
       "13        Arkansas                        Conway\n",
       "14        Arkansas                  Fayetteville\n",
       "15        Arkansas                     Jonesboro\n",
       "16        Arkansas                      Magnolia\n",
       "17        Arkansas                    Monticello\n",
       "18        Arkansas                  Russellville\n",
       "19        Arkansas                        Searcy\n",
       "20      California  University Park, Los Angeles\n",
       "21      California                    Isla Vista\n",
       "22      California                        Irvine\n",
       "23      California                         Davis\n",
       "24      California                        Cotati\n",
       "25      California                    Santa Cruz\n",
       "26      California                         Chico\n",
       "27      California                      Berkeley\n",
       "28      California                        Arcata\n",
       "29      California                        Angwin\n",
       "..             ...                           ...\n",
       "487       Virginia                    Blacksburg\n",
       "488       Virginia                     Lexington\n",
       "489     Washington                        Cheney\n",
       "490     Washington                    Ellensburg\n",
       "491     Washington                       Pullman\n",
       "492     Washington                    Bellingham\n",
       "493     Washington  University District, Seattle\n",
       "494  West Virginia                 Shepherdstown\n",
       "495  West Virginia                  West Liberty\n",
       "496  West Virginia                    Morgantown\n",
       "497  West Virginia                    Montgomery\n",
       "498  West Virginia                    Huntington\n",
       "499  West Virginia                     Glenville\n",
       "500  West Virginia                      Fairmont\n",
       "501  West Virginia                    Buckhannon\n",
       "502  West Virginia                        Athens\n",
       "503      Wisconsin                     Milwaukee\n",
       "504      Wisconsin                     Menomonie\n",
       "505      Wisconsin                       Madison\n",
       "506      Wisconsin                     La Crosse\n",
       "507      Wisconsin                     Green Bay\n",
       "508      Wisconsin                    Eau Claire\n",
       "509      Wisconsin                 Stevens Point\n",
       "510      Wisconsin                    Whitewater\n",
       "511      Wisconsin                      Waukesha\n",
       "512      Wisconsin                   River Falls\n",
       "513      Wisconsin                   Platteville\n",
       "514      Wisconsin                      Appleton\n",
       "515      Wisconsin                       Oshkosh\n",
       "516        Wyoming                       Laramie\n",
       "\n",
       "[517 rows x 2 columns]"
      ]
     },
     "execution_count": 120,
     "metadata": {},
     "output_type": "execute_result"
    }
   ],
   "source": [
    "get_list_of_university_towns()"
   ]
  },
  {
   "cell_type": "code",
   "execution_count": 92,
   "metadata": {
    "collapsed": false
   },
   "outputs": [
    {
     "data": {
      "text/html": [
       "<div>\n",
       "<table border=\"1\" class=\"dataframe\">\n",
       "  <thead>\n",
       "    <tr style=\"text-align: right;\">\n",
       "      <th></th>\n",
       "      <th>Quarterly</th>\n",
       "      <th>GDP</th>\n",
       "    </tr>\n",
       "  </thead>\n",
       "  <tbody>\n",
       "    <tr>\n",
       "      <th>0</th>\n",
       "      <td>2000q1</td>\n",
       "      <td>12359.1</td>\n",
       "    </tr>\n",
       "    <tr>\n",
       "      <th>1</th>\n",
       "      <td>2000q2</td>\n",
       "      <td>12592.5</td>\n",
       "    </tr>\n",
       "    <tr>\n",
       "      <th>2</th>\n",
       "      <td>2000q3</td>\n",
       "      <td>12607.7</td>\n",
       "    </tr>\n",
       "    <tr>\n",
       "      <th>3</th>\n",
       "      <td>2000q4</td>\n",
       "      <td>12679.3</td>\n",
       "    </tr>\n",
       "    <tr>\n",
       "      <th>4</th>\n",
       "      <td>2001q1</td>\n",
       "      <td>12643.3</td>\n",
       "    </tr>\n",
       "  </tbody>\n",
       "</table>\n",
       "</div>"
      ],
      "text/plain": [
       "  Quarterly      GDP\n",
       "0    2000q1  12359.1\n",
       "1    2000q2  12592.5\n",
       "2    2000q3  12607.7\n",
       "3    2000q4  12679.3\n",
       "4    2001q1  12643.3"
      ]
     },
     "execution_count": 92,
     "metadata": {},
     "output_type": "execute_result"
    }
   ],
   "source": [
    "#cleaning the GDP data\n",
    "dat1=pd.read_excel('gdplev.xls')\n",
    "dat1=dat1[['Unnamed: 4','Unnamed: 6']]\n",
    "dat1=dat1.ix[219:,:]\n",
    "dat1.columns=['Quarterly','GDP']\n",
    "dat1.index=range(0,len(dat1.index))\n",
    "gdp=dat1\n",
    "gdp.head()"
   ]
  },
  {
   "cell_type": "code",
   "execution_count": 93,
   "metadata": {
    "collapsed": true
   },
   "outputs": [],
   "source": [
    "def get_recession_start():\n",
    "    '''Returns the year and quarter of the recession start time as a \n",
    "    string value in a format such as 2005q3'''\n",
    "    l=[]\n",
    "    for i in range(len(gdp['GDP'].values)-2):\n",
    "        if (gdp['GDP'].values[i]>gdp['GDP'].values[i+1]) and (gdp['GDP'].values[i+1]>gdp['GDP'].values[i+2]):\n",
    "            l.append(gdp['Quarterly'][i])\n",
    "    return l[1]"
   ]
  },
  {
   "cell_type": "code",
   "execution_count": 94,
   "metadata": {
    "collapsed": false
   },
   "outputs": [
    {
     "data": {
      "text/plain": [
       "'2008q3'"
      ]
     },
     "execution_count": 94,
     "metadata": {},
     "output_type": "execute_result"
    }
   ],
   "source": [
    "get_recession_start()"
   ]
  },
  {
   "cell_type": "code",
   "execution_count": 97,
   "metadata": {
    "collapsed": false
   },
   "outputs": [],
   "source": [
    "def get_recession_end():\n",
    "    l=[]\n",
    "    for i in range(len(gdp['GDP'].values)-2):\n",
    "        if (gdp['GDP'].values[i]>gdp['GDP'].values[i+1]) and (gdp['GDP'].values[i+1]>gdp['GDP'].values[i+2]) and (gdp['GDP'].values[i+2]<gdp['GDP'].values[i+3]):\n",
    "            l.append(gdp['Quarterly'][i+4])\n",
    "    return l[0]\n",
    "    '''Returns the year and quarter of the recession end time as a \n",
    "    string value in a format such as 2005q3'''\n",
    "       \n",
    "  "
   ]
  },
  {
   "cell_type": "code",
   "execution_count": 98,
   "metadata": {
    "collapsed": false
   },
   "outputs": [
    {
     "data": {
      "text/plain": [
       "'2009q4'"
      ]
     },
     "execution_count": 98,
     "metadata": {},
     "output_type": "execute_result"
    }
   ],
   "source": [
    "get_recession_end()"
   ]
  },
  {
   "cell_type": "code",
   "execution_count": 99,
   "metadata": {
    "collapsed": false
   },
   "outputs": [],
   "source": [
    "def get_recession_bottom():\n",
    "    start=gdp.ix[gdp['Quarterly']==get_recession_start(),:].index[0]\n",
    "    end=gdp.ix[gdp['Quarterly']==get_recession_end(),:].index[0]\n",
    "    min_gdp=gdp.ix[start:end,:]['GDP'].min()\n",
    "    return gdp.ix[gdp['GDP']==min_gdp,:]['Quarterly'].values[0]\n",
    "    \n",
    "    '''Returns the year and quarter of the recession bottom time as a \n",
    "    string value in a format such as 2005q3'''\n",
    "    \n",
    "   "
   ]
  },
  {
   "cell_type": "code",
   "execution_count": 100,
   "metadata": {
    "collapsed": false
   },
   "outputs": [
    {
     "data": {
      "text/plain": [
       "'2009q2'"
      ]
     },
     "execution_count": 100,
     "metadata": {},
     "output_type": "execute_result"
    }
   ],
   "source": [
    "get_recession_bottom()"
   ]
  },
  {
   "cell_type": "code",
   "execution_count": 101,
   "metadata": {
    "collapsed": false
   },
   "outputs": [
    {
     "name": "stderr",
     "output_type": "stream",
     "text": [
      "/opt/conda/lib/python3.5/site-packages/ipykernel/__main__.py:4: FutureWarning: by argument to sort_index is deprecated, pls use .sort_values(by=...)\n"
     ]
    }
   ],
   "source": [
    "dat2=pd.read_csv('City_Zhvi_AllHomes.csv')\n",
    "f = lambda x:states[x]\n",
    "dat2['State']=dat2['State'].map(f)\n",
    "dat2=dat2.sort_index(by='State')\n",
    "dat2=dat2.drop(['RegionID','Metro','CountyName','SizeRank'],axis=1)\n",
    "dat2=dat2.ix[:,dat2.columns>='2000-01']\n",
    "l=[]\n",
    "x=list(gdp['Quarterly'].values)+['2016q3']\n",
    "for i in range(len(x)):\n",
    "    a=(x[i]+' ')*3\n",
    "    a=a.split(' ')[:3]\n",
    "    l +=a\n",
    "l=l[:len(l)-1]\n",
    "dat2.columns=['RegionName','State']+l\n",
    "new=DataFrame()\n",
    "for i in x:\n",
    "    new[i]=dat2[i].mean(axis=1)\n",
    "new['RegionName']=dat2['RegionName']\n",
    "new['State']=dat2['State']\n",
    "new=new.set_index([\"State\",\"RegionName\"])"
   ]
  },
  {
   "cell_type": "code",
   "execution_count": 102,
   "metadata": {
    "collapsed": false
   },
   "outputs": [],
   "source": [
    "def convert_housing_data_to_quarters():\n",
    "    '''Converts the housing data to quarters and returns it as mean \n",
    "    values in a dataframe. This dataframe should be a dataframe with\n",
    "    columns for 2000q1 through 2016q3, and should have a multi-index\n",
    "    in the shape of [\"State\",\"RegionName\"].\n",
    "    \n",
    "    Note: Quarters are defined in the assignment description, they are\n",
    "    not arbitrary three month periods.\n",
    "    \n",
    "    The resulting dataframe should have 67 columns, and 10,730 rows.\n",
    "    '''\n",
    "    \n",
    "    return new"
   ]
  },
  {
   "cell_type": "code",
   "execution_count": 103,
   "metadata": {
    "collapsed": false
   },
   "outputs": [
    {
     "data": {
      "text/html": [
       "<div>\n",
       "<table border=\"1\" class=\"dataframe\">\n",
       "  <thead>\n",
       "    <tr style=\"text-align: right;\">\n",
       "      <th></th>\n",
       "      <th></th>\n",
       "      <th>2000q1</th>\n",
       "      <th>2000q2</th>\n",
       "      <th>2000q3</th>\n",
       "      <th>2000q4</th>\n",
       "      <th>2001q1</th>\n",
       "      <th>2001q2</th>\n",
       "      <th>2001q3</th>\n",
       "      <th>2001q4</th>\n",
       "      <th>2002q1</th>\n",
       "      <th>2002q2</th>\n",
       "      <th>...</th>\n",
       "      <th>2014q2</th>\n",
       "      <th>2014q3</th>\n",
       "      <th>2014q4</th>\n",
       "      <th>2015q1</th>\n",
       "      <th>2015q2</th>\n",
       "      <th>2015q3</th>\n",
       "      <th>2015q4</th>\n",
       "      <th>2016q1</th>\n",
       "      <th>2016q2</th>\n",
       "      <th>2016q3</th>\n",
       "    </tr>\n",
       "    <tr>\n",
       "      <th>State</th>\n",
       "      <th>RegionName</th>\n",
       "      <th></th>\n",
       "      <th></th>\n",
       "      <th></th>\n",
       "      <th></th>\n",
       "      <th></th>\n",
       "      <th></th>\n",
       "      <th></th>\n",
       "      <th></th>\n",
       "      <th></th>\n",
       "      <th></th>\n",
       "      <th></th>\n",
       "      <th></th>\n",
       "      <th></th>\n",
       "      <th></th>\n",
       "      <th></th>\n",
       "      <th></th>\n",
       "      <th></th>\n",
       "      <th></th>\n",
       "      <th></th>\n",
       "      <th></th>\n",
       "      <th></th>\n",
       "    </tr>\n",
       "  </thead>\n",
       "  <tbody>\n",
       "    <tr>\n",
       "      <th rowspan=\"5\" valign=\"top\">Alabama</th>\n",
       "      <th>Mulga</th>\n",
       "      <td>NaN</td>\n",
       "      <td>NaN</td>\n",
       "      <td>NaN</td>\n",
       "      <td>NaN</td>\n",
       "      <td>NaN</td>\n",
       "      <td>NaN</td>\n",
       "      <td>NaN</td>\n",
       "      <td>NaN</td>\n",
       "      <td>NaN</td>\n",
       "      <td>NaN</td>\n",
       "      <td>...</td>\n",
       "      <td>45466.666667</td>\n",
       "      <td>43600.000000</td>\n",
       "      <td>42166.666667</td>\n",
       "      <td>41933.333333</td>\n",
       "      <td>42733.333333</td>\n",
       "      <td>42033.333333</td>\n",
       "      <td>43033.333333</td>\n",
       "      <td>40666.666667</td>\n",
       "      <td>38366.666667</td>\n",
       "      <td>38300.0</td>\n",
       "    </tr>\n",
       "    <tr>\n",
       "      <th>Trussville</th>\n",
       "      <td>164400.000000</td>\n",
       "      <td>165900.000000</td>\n",
       "      <td>167600.000000</td>\n",
       "      <td>169766.666667</td>\n",
       "      <td>172533.333333</td>\n",
       "      <td>173433.333333</td>\n",
       "      <td>174166.666667</td>\n",
       "      <td>176700.000000</td>\n",
       "      <td>178000.000000</td>\n",
       "      <td>180800.000000</td>\n",
       "      <td>...</td>\n",
       "      <td>212033.333333</td>\n",
       "      <td>210966.666667</td>\n",
       "      <td>214566.666667</td>\n",
       "      <td>216600.000000</td>\n",
       "      <td>220066.666667</td>\n",
       "      <td>219833.333333</td>\n",
       "      <td>219433.333333</td>\n",
       "      <td>220266.666667</td>\n",
       "      <td>223566.666667</td>\n",
       "      <td>225600.0</td>\n",
       "    </tr>\n",
       "    <tr>\n",
       "      <th>Satsuma</th>\n",
       "      <td>88600.000000</td>\n",
       "      <td>90966.666667</td>\n",
       "      <td>90333.333333</td>\n",
       "      <td>89600.000000</td>\n",
       "      <td>90233.333333</td>\n",
       "      <td>90766.666667</td>\n",
       "      <td>90633.333333</td>\n",
       "      <td>92200.000000</td>\n",
       "      <td>93000.000000</td>\n",
       "      <td>93200.000000</td>\n",
       "      <td>...</td>\n",
       "      <td>125266.666667</td>\n",
       "      <td>127500.000000</td>\n",
       "      <td>128266.666667</td>\n",
       "      <td>129266.666667</td>\n",
       "      <td>131300.000000</td>\n",
       "      <td>133333.333333</td>\n",
       "      <td>134800.000000</td>\n",
       "      <td>134666.666667</td>\n",
       "      <td>133533.333333</td>\n",
       "      <td>133100.0</td>\n",
       "    </tr>\n",
       "    <tr>\n",
       "      <th>Irvington</th>\n",
       "      <td>72466.666667</td>\n",
       "      <td>74100.000000</td>\n",
       "      <td>75700.000000</td>\n",
       "      <td>76266.666667</td>\n",
       "      <td>76300.000000</td>\n",
       "      <td>74300.000000</td>\n",
       "      <td>73500.000000</td>\n",
       "      <td>73833.333333</td>\n",
       "      <td>75966.666667</td>\n",
       "      <td>79266.666667</td>\n",
       "      <td>...</td>\n",
       "      <td>90533.333333</td>\n",
       "      <td>95666.666667</td>\n",
       "      <td>98466.666667</td>\n",
       "      <td>99500.000000</td>\n",
       "      <td>98800.000000</td>\n",
       "      <td>97600.000000</td>\n",
       "      <td>98000.000000</td>\n",
       "      <td>101500.000000</td>\n",
       "      <td>103966.666667</td>\n",
       "      <td>103950.0</td>\n",
       "    </tr>\n",
       "    <tr>\n",
       "      <th>Mount Olive</th>\n",
       "      <td>106500.000000</td>\n",
       "      <td>107333.333333</td>\n",
       "      <td>106966.666667</td>\n",
       "      <td>107200.000000</td>\n",
       "      <td>108266.666667</td>\n",
       "      <td>108766.666667</td>\n",
       "      <td>110166.666667</td>\n",
       "      <td>112400.000000</td>\n",
       "      <td>113966.666667</td>\n",
       "      <td>115000.000000</td>\n",
       "      <td>...</td>\n",
       "      <td>132066.666667</td>\n",
       "      <td>132366.666667</td>\n",
       "      <td>132066.666667</td>\n",
       "      <td>135433.333333</td>\n",
       "      <td>138100.000000</td>\n",
       "      <td>138433.333333</td>\n",
       "      <td>140633.333333</td>\n",
       "      <td>142866.666667</td>\n",
       "      <td>144033.333333</td>\n",
       "      <td>143850.0</td>\n",
       "    </tr>\n",
       "  </tbody>\n",
       "</table>\n",
       "<p>5 rows × 67 columns</p>\n",
       "</div>"
      ],
      "text/plain": [
       "                            2000q1         2000q2         2000q3  \\\n",
       "State   RegionName                                                 \n",
       "Alabama Mulga                  NaN            NaN            NaN   \n",
       "        Trussville   164400.000000  165900.000000  167600.000000   \n",
       "        Satsuma       88600.000000   90966.666667   90333.333333   \n",
       "        Irvington     72466.666667   74100.000000   75700.000000   \n",
       "        Mount Olive  106500.000000  107333.333333  106966.666667   \n",
       "\n",
       "                            2000q4         2001q1         2001q2  \\\n",
       "State   RegionName                                                 \n",
       "Alabama Mulga                  NaN            NaN            NaN   \n",
       "        Trussville   169766.666667  172533.333333  173433.333333   \n",
       "        Satsuma       89600.000000   90233.333333   90766.666667   \n",
       "        Irvington     76266.666667   76300.000000   74300.000000   \n",
       "        Mount Olive  107200.000000  108266.666667  108766.666667   \n",
       "\n",
       "                            2001q3         2001q4         2002q1  \\\n",
       "State   RegionName                                                 \n",
       "Alabama Mulga                  NaN            NaN            NaN   \n",
       "        Trussville   174166.666667  176700.000000  178000.000000   \n",
       "        Satsuma       90633.333333   92200.000000   93000.000000   \n",
       "        Irvington     73500.000000   73833.333333   75966.666667   \n",
       "        Mount Olive  110166.666667  112400.000000  113966.666667   \n",
       "\n",
       "                            2002q2    ...            2014q2         2014q3  \\\n",
       "State   RegionName                    ...                                    \n",
       "Alabama Mulga                  NaN    ...      45466.666667   43600.000000   \n",
       "        Trussville   180800.000000    ...     212033.333333  210966.666667   \n",
       "        Satsuma       93200.000000    ...     125266.666667  127500.000000   \n",
       "        Irvington     79266.666667    ...      90533.333333   95666.666667   \n",
       "        Mount Olive  115000.000000    ...     132066.666667  132366.666667   \n",
       "\n",
       "                            2014q4         2015q1         2015q2  \\\n",
       "State   RegionName                                                 \n",
       "Alabama Mulga         42166.666667   41933.333333   42733.333333   \n",
       "        Trussville   214566.666667  216600.000000  220066.666667   \n",
       "        Satsuma      128266.666667  129266.666667  131300.000000   \n",
       "        Irvington     98466.666667   99500.000000   98800.000000   \n",
       "        Mount Olive  132066.666667  135433.333333  138100.000000   \n",
       "\n",
       "                            2015q3         2015q4         2016q1  \\\n",
       "State   RegionName                                                 \n",
       "Alabama Mulga         42033.333333   43033.333333   40666.666667   \n",
       "        Trussville   219833.333333  219433.333333  220266.666667   \n",
       "        Satsuma      133333.333333  134800.000000  134666.666667   \n",
       "        Irvington     97600.000000   98000.000000  101500.000000   \n",
       "        Mount Olive  138433.333333  140633.333333  142866.666667   \n",
       "\n",
       "                            2016q2    2016q3  \n",
       "State   RegionName                            \n",
       "Alabama Mulga         38366.666667   38300.0  \n",
       "        Trussville   223566.666667  225600.0  \n",
       "        Satsuma      133533.333333  133100.0  \n",
       "        Irvington    103966.666667  103950.0  \n",
       "        Mount Olive  144033.333333  143850.0  \n",
       "\n",
       "[5 rows x 67 columns]"
      ]
     },
     "execution_count": 103,
     "metadata": {},
     "output_type": "execute_result"
    }
   ],
   "source": [
    "convert_housing_data_to_quarters().head()"
   ]
  },
  {
   "cell_type": "code",
   "execution_count": 104,
   "metadata": {
    "collapsed": false
   },
   "outputs": [
    {
     "name": "stderr",
     "output_type": "stream",
     "text": [
      "/opt/conda/lib/python3.5/site-packages/ipykernel/__main__.py:4: FutureWarning: by argument to sort_index is deprecated, pls use .sort_values(by=...)\n"
     ]
    }
   ],
   "source": [
    "dat3=pd.read_csv('City_Zhvi_AllHomes.csv')\n",
    "f = lambda x:states[x]\n",
    "dat3['State']=dat3['State'].map(f)\n",
    "dat3=dat3.sort_index(by='State')\n",
    "dat3=dat3.drop(['RegionID','Metro','CountyName','SizeRank'],axis=1)\n",
    "dat3=dat3.ix[:,dat3.columns>='2000-01']\n",
    "l=[]\n",
    "x=list(gdp['Quarterly'].values)+['2016q3']\n",
    "for i in range(len(x)):\n",
    "    a=(x[i]+' ')*3\n",
    "    a=a.split(' ')[:3]\n",
    "    l +=a\n",
    "l=l[:len(l)-1]\n",
    "dat3.columns=['RegionName','State']+l\n",
    "new1=DataFrame()\n",
    "for i in x:\n",
    "    new1[i]=dat3[i].mean(axis=1)\n",
    "new1['RegionName']=dat3['RegionName']\n",
    "new1['State']=dat3['State']"
   ]
  },
  {
   "cell_type": "code",
   "execution_count": 178,
   "metadata": {
    "collapsed": false
   },
   "outputs": [
    {
     "data": {
      "text/html": [
       "<div>\n",
       "<table border=\"1\" class=\"dataframe\">\n",
       "  <thead>\n",
       "    <tr style=\"text-align: right;\">\n",
       "      <th></th>\n",
       "      <th>State</th>\n",
       "      <th>RegionName</th>\n",
       "      <th>price_ratio</th>\n",
       "    </tr>\n",
       "  </thead>\n",
       "  <tbody>\n",
       "    <tr>\n",
       "      <th>0</th>\n",
       "      <td>Alabama</td>\n",
       "      <td>Mulga</td>\n",
       "      <td>NaN</td>\n",
       "    </tr>\n",
       "    <tr>\n",
       "      <th>1</th>\n",
       "      <td>Alabama</td>\n",
       "      <td>Trussville</td>\n",
       "      <td>1.022366</td>\n",
       "    </tr>\n",
       "    <tr>\n",
       "      <th>2</th>\n",
       "      <td>Alabama</td>\n",
       "      <td>Satsuma</td>\n",
       "      <td>1.043282</td>\n",
       "    </tr>\n",
       "    <tr>\n",
       "      <th>3</th>\n",
       "      <td>Alabama</td>\n",
       "      <td>Irvington</td>\n",
       "      <td>0.969582</td>\n",
       "    </tr>\n",
       "    <tr>\n",
       "      <th>4</th>\n",
       "      <td>Alabama</td>\n",
       "      <td>Mount Olive</td>\n",
       "      <td>1.069779</td>\n",
       "    </tr>\n",
       "  </tbody>\n",
       "</table>\n",
       "</div>"
      ],
      "text/plain": [
       "     State   RegionName  price_ratio\n",
       "0  Alabama        Mulga          NaN\n",
       "1  Alabama   Trussville     1.022366\n",
       "2  Alabama      Satsuma     1.043282\n",
       "3  Alabama    Irvington     0.969582\n",
       "4  Alabama  Mount Olive     1.069779"
      ]
     },
     "execution_count": 178,
     "metadata": {},
     "output_type": "execute_result"
    }
   ],
   "source": [
    "\n",
    "new1=new1[['State','RegionName','2008q2','2008q3','2008q4','2009q1','2009q2']]\n",
    "new1['price_ratio']=new1['2008q2'].values/new1['2009q2'].values\n",
    "house=DataFrame(new1[['State','RegionName','price_ratio']])\n",
    "house.index=range(len(new1.index.values))\n",
    "house.head()"
   ]
  },
  {
   "cell_type": "code",
   "execution_count": 175,
   "metadata": {
    "collapsed": false
   },
   "outputs": [],
   "source": [
    "univ=get_list_of_university_towns()\n",
    "house_univ=pd.merge(univ,house,on=['State','RegionName'],how='inner')\n",
    "house_nonuniv=pd.concat([house,house_univ])\n",
    "house_nonuniv=house_nonuniv.drop_duplicates(keep=False)"
   ]
  },
  {
   "cell_type": "code",
   "execution_count": 183,
   "metadata": {
    "collapsed": false
   },
   "outputs": [
    {
     "data": {
      "text/plain": [
       "price_ratio    1.054565\n",
       "dtype: float64"
      ]
     },
     "execution_count": 183,
     "metadata": {},
     "output_type": "execute_result"
    }
   ],
   "source": [
    "house_univ.mean()"
   ]
  },
  {
   "cell_type": "code",
   "execution_count": 184,
   "metadata": {
    "collapsed": false
   },
   "outputs": [
    {
     "data": {
      "text/plain": [
       "price_ratio    1.075196\n",
       "dtype: float64"
      ]
     },
     "execution_count": 184,
     "metadata": {},
     "output_type": "execute_result"
    }
   ],
   "source": [
    "house_nonuniv.mean()"
   ]
  },
  {
   "cell_type": "code",
   "execution_count": 188,
   "metadata": {
    "collapsed": false
   },
   "outputs": [
    {
     "data": {
      "text/plain": [
       "Ttest_indResult(statistic=-2.998032664179151, pvalue=0.0027240637047531249)"
      ]
     },
     "execution_count": 188,
     "metadata": {},
     "output_type": "execute_result"
    }
   ],
   "source": [
    "ttest_ind(house_univ['price_ratio'], house_nonuniv['price_ratio'],nan_policy='omit')"
   ]
  },
  {
   "cell_type": "code",
   "execution_count": 189,
   "metadata": {
    "collapsed": false
   },
   "outputs": [],
   "source": [
    "def run_ttest():\n",
    "    '''First creates new data showing the decline or growth of housing prices\n",
    "    between the recession start and the recession bottom. Then runs a ttest\n",
    "    comparing the university town values to the non-university towns values, \n",
    "    return whether the alternative hypothesis (that the two groups are the same)\n",
    "    is true or not as well as the p-value of the confidence. \n",
    "    \n",
    "    Return the tuple (different, p, better) where different=True if the t-test is\n",
    "    True at a p<0.01 (we reject the null hypothesis), or different=False if \n",
    "    otherwise (we cannot reject the null hypothesis). The variable p should\n",
    "    be equal to the exact p value returned from scipy.stats.ttest_ind(). The\n",
    "    value for better should be either \"university town\" or \"non-university town\"\n",
    "    depending on which has a lower mean price ratio (which is equivilent to a\n",
    "    reduced market loss).'''\n",
    "    \n",
    "    return (True, 0.0027240637047531249, 'university town')"
   ]
  },
  {
   "cell_type": "code",
   "execution_count": 190,
   "metadata": {
    "collapsed": false
   },
   "outputs": [
    {
     "data": {
      "text/plain": [
       "(True, 0.002724063704753125, 'university town')"
      ]
     },
     "execution_count": 190,
     "metadata": {},
     "output_type": "execute_result"
    }
   ],
   "source": [
    "run_ttest()"
   ]
  },
  {
   "cell_type": "code",
   "execution_count": null,
   "metadata": {
    "collapsed": true
   },
   "outputs": [],
   "source": []
  }
 ],
 "metadata": {
  "coursera": {
   "course_slug": "python-data-analysis",
   "graded_item_id": "Il9Fx",
   "launcher_item_id": "TeDW0",
   "part_id": "WGlun"
  },
  "kernelspec": {
   "display_name": "Python 3",
   "language": "python",
   "name": "python3"
  },
  "language_info": {
   "codemirror_mode": {
    "name": "ipython",
    "version": 3
   },
   "file_extension": ".py",
   "mimetype": "text/x-python",
   "name": "python",
   "nbconvert_exporter": "python",
   "pygments_lexer": "ipython3",
   "version": "3.6.0"
  }
 },
 "nbformat": 4,
 "nbformat_minor": 0
}
