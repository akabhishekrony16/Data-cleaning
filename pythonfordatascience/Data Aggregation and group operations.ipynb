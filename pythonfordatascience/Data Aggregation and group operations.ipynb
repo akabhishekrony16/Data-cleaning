{
 "cells": [
  {
   "cell_type": "markdown",
   "metadata": {
    "collapsed": true
   },
   "source": [
    "# GroupBy Mechanics"
   ]
  },
  {
   "cell_type": "code",
   "execution_count": 1,
   "metadata": {
    "collapsed": true
   },
   "outputs": [],
   "source": [
    "#rows(axis=0) and column(axis=1)\n",
    "import numpy as np\n",
    "import pandas as pd\n",
    "from pandas import DataFrame,Series"
   ]
  },
  {
   "cell_type": "code",
   "execution_count": 5,
   "metadata": {
    "collapsed": false
   },
   "outputs": [
    {
     "data": {
      "text/html": [
       "<div>\n",
       "<table border=\"1\" class=\"dataframe\">\n",
       "  <thead>\n",
       "    <tr style=\"text-align: right;\">\n",
       "      <th></th>\n",
       "      <th>data1</th>\n",
       "      <th>data2</th>\n",
       "      <th>key1</th>\n",
       "      <th>key2</th>\n",
       "    </tr>\n",
       "  </thead>\n",
       "  <tbody>\n",
       "    <tr>\n",
       "      <th>0</th>\n",
       "      <td>0.124734</td>\n",
       "      <td>0.225007</td>\n",
       "      <td>a</td>\n",
       "      <td>one</td>\n",
       "    </tr>\n",
       "    <tr>\n",
       "      <th>1</th>\n",
       "      <td>-0.716090</td>\n",
       "      <td>0.872185</td>\n",
       "      <td>a</td>\n",
       "      <td>two</td>\n",
       "    </tr>\n",
       "    <tr>\n",
       "      <th>2</th>\n",
       "      <td>-1.342068</td>\n",
       "      <td>0.158098</td>\n",
       "      <td>b</td>\n",
       "      <td>one</td>\n",
       "    </tr>\n",
       "    <tr>\n",
       "      <th>3</th>\n",
       "      <td>0.353907</td>\n",
       "      <td>-1.143855</td>\n",
       "      <td>b</td>\n",
       "      <td>two</td>\n",
       "    </tr>\n",
       "    <tr>\n",
       "      <th>4</th>\n",
       "      <td>1.099746</td>\n",
       "      <td>0.409517</td>\n",
       "      <td>a</td>\n",
       "      <td>one</td>\n",
       "    </tr>\n",
       "  </tbody>\n",
       "</table>\n",
       "</div>"
      ],
      "text/plain": [
       "      data1     data2 key1 key2\n",
       "0  0.124734  0.225007    a  one\n",
       "1 -0.716090  0.872185    a  two\n",
       "2 -1.342068  0.158098    b  one\n",
       "3  0.353907 -1.143855    b  two\n",
       "4  1.099746  0.409517    a  one"
      ]
     },
     "execution_count": 5,
     "metadata": {},
     "output_type": "execute_result"
    }
   ],
   "source": [
    "df = DataFrame({'key1':['a','a','b','b','a'],'key2':['one','two','one','two','one'],'data1':np.random.randn(5),'data2':np.random.randn(5)})\n",
    "df"
   ]
  },
  {
   "cell_type": "code",
   "execution_count": 14,
   "metadata": {
    "collapsed": true
   },
   "outputs": [],
   "source": [
    "#to compute the mean of the data1 column using the group labels from key1"
   ]
  },
  {
   "cell_type": "code",
   "execution_count": 16,
   "metadata": {
    "collapsed": false
   },
   "outputs": [
    {
     "data": {
      "text/plain": [
       "<pandas.core.groupby.SeriesGroupBy object at 0x0000020D5236BDA0>"
      ]
     },
     "execution_count": 16,
     "metadata": {},
     "output_type": "execute_result"
    }
   ],
   "source": [
    "grouped = df['data1'].groupby(df['key1'])\n",
    "grouped #the grouped variable is a group by object"
   ]
  },
  {
   "cell_type": "code",
   "execution_count": 17,
   "metadata": {
    "collapsed": false
   },
   "outputs": [
    {
     "data": {
      "text/plain": [
       "key1\n",
       "a    0.667273\n",
       "b    0.180570\n",
       "Name: data1, dtype: float64"
      ]
     },
     "execution_count": 17,
     "metadata": {},
     "output_type": "execute_result"
    }
   ],
   "source": [
    "grouped.mean()"
   ]
  },
  {
   "cell_type": "code",
   "execution_count": 18,
   "metadata": {
    "collapsed": true
   },
   "outputs": [],
   "source": [
    "#passing multiple arrays as a list"
   ]
  },
  {
   "cell_type": "code",
   "execution_count": 19,
   "metadata": {
    "collapsed": true
   },
   "outputs": [],
   "source": [
    "means = df['data1'].groupby([df['key1'],df['key2']]).mean()"
   ]
  },
  {
   "cell_type": "code",
   "execution_count": 20,
   "metadata": {
    "collapsed": false
   },
   "outputs": [
    {
     "data": {
      "text/plain": [
       "key1  key2\n",
       "a     one     1.115611\n",
       "      two    -0.229403\n",
       "b     one    -1.271214\n",
       "      two     1.632354\n",
       "Name: data1, dtype: float64"
      ]
     },
     "execution_count": 20,
     "metadata": {},
     "output_type": "execute_result"
    }
   ],
   "source": [
    "means"
   ]
  },
  {
   "cell_type": "code",
   "execution_count": 21,
   "metadata": {
    "collapsed": false
   },
   "outputs": [
    {
     "data": {
      "text/html": [
       "<div>\n",
       "<table border=\"1\" class=\"dataframe\">\n",
       "  <thead>\n",
       "    <tr style=\"text-align: right;\">\n",
       "      <th>key2</th>\n",
       "      <th>one</th>\n",
       "      <th>two</th>\n",
       "    </tr>\n",
       "    <tr>\n",
       "      <th>key1</th>\n",
       "      <th></th>\n",
       "      <th></th>\n",
       "    </tr>\n",
       "  </thead>\n",
       "  <tbody>\n",
       "    <tr>\n",
       "      <th>a</th>\n",
       "      <td>1.115611</td>\n",
       "      <td>-0.229403</td>\n",
       "    </tr>\n",
       "    <tr>\n",
       "      <th>b</th>\n",
       "      <td>-1.271214</td>\n",
       "      <td>1.632354</td>\n",
       "    </tr>\n",
       "  </tbody>\n",
       "</table>\n",
       "</div>"
      ],
      "text/plain": [
       "key2       one       two\n",
       "key1                    \n",
       "a     1.115611 -0.229403\n",
       "b    -1.271214  1.632354"
      ]
     },
     "execution_count": 21,
     "metadata": {},
     "output_type": "execute_result"
    }
   ],
   "source": [
    "means.unstack()"
   ]
  },
  {
   "cell_type": "code",
   "execution_count": 22,
   "metadata": {
    "collapsed": true
   },
   "outputs": [],
   "source": [
    "#the group keys are Series and they could be any arrays of the right length"
   ]
  },
  {
   "cell_type": "code",
   "execution_count": 24,
   "metadata": {
    "collapsed": false
   },
   "outputs": [
    {
     "data": {
      "text/plain": [
       "California  2005   -0.229403\n",
       "            2006   -1.271214\n",
       "Ohio        2005    1.399882\n",
       "            2006    1.063813\n",
       "Name: data1, dtype: float64"
      ]
     },
     "execution_count": 24,
     "metadata": {},
     "output_type": "execute_result"
    }
   ],
   "source": [
    "states = np.array(['Ohio','California','California','Ohio','Ohio'])\n",
    "years = np.array([2005,2005,2006,2005,2006])\n",
    "df['data1'].groupby([states,years]).mean()"
   ]
  },
  {
   "cell_type": "code",
   "execution_count": 25,
   "metadata": {
    "collapsed": true
   },
   "outputs": [],
   "source": [
    "#pass columns names as group keys"
   ]
  },
  {
   "cell_type": "code",
   "execution_count": 26,
   "metadata": {
    "collapsed": false
   },
   "outputs": [
    {
     "data": {
      "text/html": [
       "<div>\n",
       "<table border=\"1\" class=\"dataframe\">\n",
       "  <thead>\n",
       "    <tr style=\"text-align: right;\">\n",
       "      <th></th>\n",
       "      <th>data1</th>\n",
       "      <th>data2</th>\n",
       "    </tr>\n",
       "    <tr>\n",
       "      <th>key1</th>\n",
       "      <th></th>\n",
       "      <th></th>\n",
       "    </tr>\n",
       "  </thead>\n",
       "  <tbody>\n",
       "    <tr>\n",
       "      <th>a</th>\n",
       "      <td>0.667273</td>\n",
       "      <td>0.315857</td>\n",
       "    </tr>\n",
       "    <tr>\n",
       "      <th>b</th>\n",
       "      <td>0.180570</td>\n",
       "      <td>0.440091</td>\n",
       "    </tr>\n",
       "  </tbody>\n",
       "</table>\n",
       "</div>"
      ],
      "text/plain": [
       "         data1     data2\n",
       "key1                    \n",
       "a     0.667273  0.315857\n",
       "b     0.180570  0.440091"
      ]
     },
     "execution_count": 26,
     "metadata": {},
     "output_type": "execute_result"
    }
   ],
   "source": [
    "df.groupby('key1').mean()"
   ]
  },
  {
   "cell_type": "code",
   "execution_count": 27,
   "metadata": {
    "collapsed": false
   },
   "outputs": [
    {
     "data": {
      "text/html": [
       "<div>\n",
       "<table border=\"1\" class=\"dataframe\">\n",
       "  <thead>\n",
       "    <tr style=\"text-align: right;\">\n",
       "      <th></th>\n",
       "      <th></th>\n",
       "      <th>data1</th>\n",
       "      <th>data2</th>\n",
       "    </tr>\n",
       "    <tr>\n",
       "      <th>key1</th>\n",
       "      <th>key2</th>\n",
       "      <th></th>\n",
       "      <th></th>\n",
       "    </tr>\n",
       "  </thead>\n",
       "  <tbody>\n",
       "    <tr>\n",
       "      <th rowspan=\"2\" valign=\"top\">a</th>\n",
       "      <th>one</th>\n",
       "      <td>1.115611</td>\n",
       "      <td>-0.226710</td>\n",
       "    </tr>\n",
       "    <tr>\n",
       "      <th>two</th>\n",
       "      <td>-0.229403</td>\n",
       "      <td>1.400989</td>\n",
       "    </tr>\n",
       "    <tr>\n",
       "      <th rowspan=\"2\" valign=\"top\">b</th>\n",
       "      <th>one</th>\n",
       "      <td>-1.271214</td>\n",
       "      <td>1.020517</td>\n",
       "    </tr>\n",
       "    <tr>\n",
       "      <th>two</th>\n",
       "      <td>1.632354</td>\n",
       "      <td>-0.140334</td>\n",
       "    </tr>\n",
       "  </tbody>\n",
       "</table>\n",
       "</div>"
      ],
      "text/plain": [
       "              data1     data2\n",
       "key1 key2                    \n",
       "a    one   1.115611 -0.226710\n",
       "     two  -0.229403  1.400989\n",
       "b    one  -1.271214  1.020517\n",
       "     two   1.632354 -0.140334"
      ]
     },
     "execution_count": 27,
     "metadata": {},
     "output_type": "execute_result"
    }
   ],
   "source": [
    "df.groupby(['key1','key2']).mean()"
   ]
  },
  {
   "cell_type": "code",
   "execution_count": 28,
   "metadata": {
    "collapsed": false
   },
   "outputs": [
    {
     "data": {
      "text/plain": [
       "key1  key2\n",
       "a     one     2\n",
       "      two     1\n",
       "b     one     1\n",
       "      two     1\n",
       "dtype: int64"
      ]
     },
     "execution_count": 28,
     "metadata": {},
     "output_type": "execute_result"
    }
   ],
   "source": [
    "df.groupby(['key1','key2']).size()"
   ]
  },
  {
   "cell_type": "markdown",
   "metadata": {},
   "source": [
    "# Iterating over Groups"
   ]
  },
  {
   "cell_type": "code",
   "execution_count": 30,
   "metadata": {
    "collapsed": false
   },
   "outputs": [
    {
     "name": "stdout",
     "output_type": "stream",
     "text": [
      "a\n",
      "      data1     data2 key1 key2\n",
      "0  1.167409 -1.396789    a  one\n",
      "1 -0.229403  1.400989    a  two\n",
      "4  1.063813  0.943370    a  one\n",
      "b\n",
      "      data1     data2 key1 key2\n",
      "2 -1.271214  1.020517    b  one\n",
      "3  1.632354 -0.140334    b  two\n"
     ]
    }
   ],
   "source": [
    "for name,group in df.groupby('key1'):\n",
    "    print(name)\n",
    "    print(group)"
   ]
  },
  {
   "cell_type": "code",
   "execution_count": 31,
   "metadata": {
    "collapsed": false
   },
   "outputs": [
    {
     "name": "stdout",
     "output_type": "stream",
     "text": [
      "a one\n",
      "      data1     data2 key1 key2\n",
      "0  1.167409 -1.396789    a  one\n",
      "4  1.063813  0.943370    a  one\n",
      "a two\n",
      "      data1     data2 key1 key2\n",
      "1 -0.229403  1.400989    a  two\n",
      "b one\n",
      "      data1     data2 key1 key2\n",
      "2 -1.271214  1.020517    b  one\n",
      "b two\n",
      "      data1     data2 key1 key2\n",
      "3  1.632354 -0.140334    b  two\n"
     ]
    }
   ],
   "source": [
    "#In case of multiple keys\n",
    "for (k1,k2),group in df.groupby(['key1','key2']):\n",
    "    print (k1,k2)\n",
    "    print (group)"
   ]
  },
  {
   "cell_type": "code",
   "execution_count": 32,
   "metadata": {
    "collapsed": true
   },
   "outputs": [],
   "source": [
    "#computing a dict of the data pieces as a one liner"
   ]
  },
  {
   "cell_type": "code",
   "execution_count": 36,
   "metadata": {
    "collapsed": false
   },
   "outputs": [
    {
     "data": {
      "text/html": [
       "<div>\n",
       "<table border=\"1\" class=\"dataframe\">\n",
       "  <thead>\n",
       "    <tr style=\"text-align: right;\">\n",
       "      <th></th>\n",
       "      <th>data1</th>\n",
       "      <th>data2</th>\n",
       "      <th>key1</th>\n",
       "      <th>key2</th>\n",
       "    </tr>\n",
       "  </thead>\n",
       "  <tbody>\n",
       "    <tr>\n",
       "      <th>2</th>\n",
       "      <td>-1.271214</td>\n",
       "      <td>1.020517</td>\n",
       "      <td>b</td>\n",
       "      <td>one</td>\n",
       "    </tr>\n",
       "    <tr>\n",
       "      <th>3</th>\n",
       "      <td>1.632354</td>\n",
       "      <td>-0.140334</td>\n",
       "      <td>b</td>\n",
       "      <td>two</td>\n",
       "    </tr>\n",
       "  </tbody>\n",
       "</table>\n",
       "</div>"
      ],
      "text/plain": [
       "      data1     data2 key1 key2\n",
       "2 -1.271214  1.020517    b  one\n",
       "3  1.632354 -0.140334    b  two"
      ]
     },
     "execution_count": 36,
     "metadata": {},
     "output_type": "execute_result"
    }
   ],
   "source": [
    "pieces = dict(list(df.groupby('key1')))\n",
    "pieces['b']"
   ]
  },
  {
   "cell_type": "code",
   "execution_count": 39,
   "metadata": {
    "collapsed": true
   },
   "outputs": [],
   "source": [
    "#By default group by groups on axis=0,but we can group on any other axes.group the columns by dtype:"
   ]
  },
  {
   "cell_type": "code",
   "execution_count": 40,
   "metadata": {
    "collapsed": false
   },
   "outputs": [
    {
     "data": {
      "text/plain": [
       "data1    float64\n",
       "data2    float64\n",
       "key1      object\n",
       "key2      object\n",
       "dtype: object"
      ]
     },
     "execution_count": 40,
     "metadata": {},
     "output_type": "execute_result"
    }
   ],
   "source": [
    "df.dtypes"
   ]
  },
  {
   "cell_type": "code",
   "execution_count": 44,
   "metadata": {
    "collapsed": false
   },
   "outputs": [
    {
     "data": {
      "text/html": [
       "<div>\n",
       "<table border=\"1\" class=\"dataframe\">\n",
       "  <thead>\n",
       "    <tr style=\"text-align: right;\">\n",
       "      <th></th>\n",
       "      <th>data1</th>\n",
       "      <th>data2</th>\n",
       "      <th>key1</th>\n",
       "      <th>key2</th>\n",
       "    </tr>\n",
       "  </thead>\n",
       "  <tbody>\n",
       "    <tr>\n",
       "      <th>0</th>\n",
       "      <td>1.167409</td>\n",
       "      <td>-1.396789</td>\n",
       "      <td>a</td>\n",
       "      <td>one</td>\n",
       "    </tr>\n",
       "    <tr>\n",
       "      <th>1</th>\n",
       "      <td>-0.229403</td>\n",
       "      <td>1.400989</td>\n",
       "      <td>a</td>\n",
       "      <td>two</td>\n",
       "    </tr>\n",
       "    <tr>\n",
       "      <th>2</th>\n",
       "      <td>-1.271214</td>\n",
       "      <td>1.020517</td>\n",
       "      <td>b</td>\n",
       "      <td>one</td>\n",
       "    </tr>\n",
       "    <tr>\n",
       "      <th>3</th>\n",
       "      <td>1.632354</td>\n",
       "      <td>-0.140334</td>\n",
       "      <td>b</td>\n",
       "      <td>two</td>\n",
       "    </tr>\n",
       "    <tr>\n",
       "      <th>4</th>\n",
       "      <td>1.063813</td>\n",
       "      <td>0.943370</td>\n",
       "      <td>a</td>\n",
       "      <td>one</td>\n",
       "    </tr>\n",
       "  </tbody>\n",
       "</table>\n",
       "</div>"
      ],
      "text/plain": [
       "      data1     data2 key1 key2\n",
       "0  1.167409 -1.396789    a  one\n",
       "1 -0.229403  1.400989    a  two\n",
       "2 -1.271214  1.020517    b  one\n",
       "3  1.632354 -0.140334    b  two\n",
       "4  1.063813  0.943370    a  one"
      ]
     },
     "execution_count": 44,
     "metadata": {},
     "output_type": "execute_result"
    }
   ],
   "source": [
    "df"
   ]
  },
  {
   "cell_type": "code",
   "execution_count": 49,
   "metadata": {
    "collapsed": true
   },
   "outputs": [],
   "source": [
    "grouped=df.groupby(df.dtypes,axis=1)"
   ]
  },
  {
   "cell_type": "code",
   "execution_count": 50,
   "metadata": {
    "collapsed": false
   },
   "outputs": [
    {
     "name": "stdout",
     "output_type": "stream",
     "text": [
      "float64\n",
      "      data1     data2\n",
      "0  1.167409 -1.396789\n",
      "1 -0.229403  1.400989\n",
      "2 -1.271214  1.020517\n",
      "3  1.632354 -0.140334\n",
      "4  1.063813  0.943370\n",
      "object\n",
      "  key1 key2\n",
      "0    a  one\n",
      "1    a  two\n",
      "2    b  one\n",
      "3    b  two\n",
      "4    a  one\n"
     ]
    }
   ],
   "source": [
    "for i,j in grouped:\n",
    "    print(i)\n",
    "    print(j)"
   ]
  },
  {
   "cell_type": "markdown",
   "metadata": {},
   "source": [
    "# Selecting a column or subset of columns"
   ]
  },
  {
   "cell_type": "code",
   "execution_count": 52,
   "metadata": {
    "collapsed": false
   },
   "outputs": [
    {
     "data": {
      "text/plain": [
       "0    a\n",
       "1    a\n",
       "2    b\n",
       "3    b\n",
       "4    a\n",
       "Name: key1, dtype: object"
      ]
     },
     "execution_count": 52,
     "metadata": {},
     "output_type": "execute_result"
    }
   ],
   "source": [
    "df['key1']"
   ]
  },
  {
   "cell_type": "code",
   "execution_count": 53,
   "metadata": {
    "collapsed": false
   },
   "outputs": [
    {
     "data": {
      "text/html": [
       "<div>\n",
       "<table border=\"1\" class=\"dataframe\">\n",
       "  <thead>\n",
       "    <tr style=\"text-align: right;\">\n",
       "      <th></th>\n",
       "      <th>key1</th>\n",
       "    </tr>\n",
       "  </thead>\n",
       "  <tbody>\n",
       "    <tr>\n",
       "      <th>0</th>\n",
       "      <td>a</td>\n",
       "    </tr>\n",
       "    <tr>\n",
       "      <th>1</th>\n",
       "      <td>a</td>\n",
       "    </tr>\n",
       "    <tr>\n",
       "      <th>2</th>\n",
       "      <td>b</td>\n",
       "    </tr>\n",
       "    <tr>\n",
       "      <th>3</th>\n",
       "      <td>b</td>\n",
       "    </tr>\n",
       "    <tr>\n",
       "      <th>4</th>\n",
       "      <td>a</td>\n",
       "    </tr>\n",
       "  </tbody>\n",
       "</table>\n",
       "</div>"
      ],
      "text/plain": [
       "  key1\n",
       "0    a\n",
       "1    a\n",
       "2    b\n",
       "3    b\n",
       "4    a"
      ]
     },
     "execution_count": 53,
     "metadata": {},
     "output_type": "execute_result"
    }
   ],
   "source": [
    "df[['key1']]"
   ]
  },
  {
   "cell_type": "code",
   "execution_count": 56,
   "metadata": {
    "collapsed": false
   },
   "outputs": [],
   "source": [
    "#df.groupby('key1')['data1'] is same as df['data1'].groupby(df['key1])\n",
    "#df.groupby('key1')[['data2']] is same as df[['data2']].groupby(df['key1])"
   ]
  },
  {
   "cell_type": "code",
   "execution_count": 58,
   "metadata": {
    "collapsed": false
   },
   "outputs": [
    {
     "data": {
      "text/html": [
       "<div>\n",
       "<table border=\"1\" class=\"dataframe\">\n",
       "  <thead>\n",
       "    <tr style=\"text-align: right;\">\n",
       "      <th></th>\n",
       "      <th></th>\n",
       "      <th>data2</th>\n",
       "    </tr>\n",
       "    <tr>\n",
       "      <th>key1</th>\n",
       "      <th>key2</th>\n",
       "      <th></th>\n",
       "    </tr>\n",
       "  </thead>\n",
       "  <tbody>\n",
       "    <tr>\n",
       "      <th rowspan=\"2\" valign=\"top\">a</th>\n",
       "      <th>one</th>\n",
       "      <td>-0.226710</td>\n",
       "    </tr>\n",
       "    <tr>\n",
       "      <th>two</th>\n",
       "      <td>1.400989</td>\n",
       "    </tr>\n",
       "    <tr>\n",
       "      <th rowspan=\"2\" valign=\"top\">b</th>\n",
       "      <th>one</th>\n",
       "      <td>1.020517</td>\n",
       "    </tr>\n",
       "    <tr>\n",
       "      <th>two</th>\n",
       "      <td>-0.140334</td>\n",
       "    </tr>\n",
       "  </tbody>\n",
       "</table>\n",
       "</div>"
      ],
      "text/plain": [
       "              data2\n",
       "key1 key2          \n",
       "a    one  -0.226710\n",
       "     two   1.400989\n",
       "b    one   1.020517\n",
       "     two  -0.140334"
      ]
     },
     "execution_count": 58,
     "metadata": {},
     "output_type": "execute_result"
    }
   ],
   "source": [
    "#compute means for the data2 column and get the result as a dataframe\n",
    "df.groupby(['key1','key2'])[['data2']].mean()"
   ]
  },
  {
   "cell_type": "code",
   "execution_count": 59,
   "metadata": {
    "collapsed": false
   },
   "outputs": [
    {
     "data": {
      "text/plain": [
       "<pandas.core.groupby.SeriesGroupBy object at 0x0000020D52391C50>"
      ]
     },
     "execution_count": 59,
     "metadata": {},
     "output_type": "execute_result"
    }
   ],
   "source": [
    "s_grouped = df.groupby(['key1','key2'])['data2']\n",
    "s_grouped"
   ]
  },
  {
   "cell_type": "code",
   "execution_count": 60,
   "metadata": {
    "collapsed": false
   },
   "outputs": [
    {
     "data": {
      "text/plain": [
       "key1  key2\n",
       "a     one    -0.226710\n",
       "      two     1.400989\n",
       "b     one     1.020517\n",
       "      two    -0.140334\n",
       "Name: data2, dtype: float64"
      ]
     },
     "execution_count": 60,
     "metadata": {},
     "output_type": "execute_result"
    }
   ],
   "source": [
    "s_grouped.mean()"
   ]
  },
  {
   "cell_type": "markdown",
   "metadata": {
    "collapsed": true
   },
   "source": [
    "# Grouping with Dicts and Series"
   ]
  },
  {
   "cell_type": "code",
   "execution_count": 14,
   "metadata": {
    "collapsed": true
   },
   "outputs": [],
   "source": [
    "people =DataFrame(np.random.randn(5,5),columns=['a','b','c','d','e'],index=['Joe','Steve','Wes','Jim','Travis'])"
   ]
  },
  {
   "cell_type": "code",
   "execution_count": 4,
   "metadata": {
    "collapsed": true
   },
   "outputs": [],
   "source": [
    "people.ix[2:3,['b','c']]=np.nan #add a few NA values"
   ]
  },
  {
   "cell_type": "code",
   "execution_count": 5,
   "metadata": {
    "collapsed": false
   },
   "outputs": [
    {
     "data": {
      "text/html": [
       "<div>\n",
       "<table border=\"1\" class=\"dataframe\">\n",
       "  <thead>\n",
       "    <tr style=\"text-align: right;\">\n",
       "      <th></th>\n",
       "      <th>a</th>\n",
       "      <th>b</th>\n",
       "      <th>c</th>\n",
       "      <th>d</th>\n",
       "      <th>e</th>\n",
       "    </tr>\n",
       "  </thead>\n",
       "  <tbody>\n",
       "    <tr>\n",
       "      <th>Joe</th>\n",
       "      <td>-1.247329</td>\n",
       "      <td>0.036886</td>\n",
       "      <td>-2.168899</td>\n",
       "      <td>0.690024</td>\n",
       "      <td>-0.890311</td>\n",
       "    </tr>\n",
       "    <tr>\n",
       "      <th>Steve</th>\n",
       "      <td>0.166922</td>\n",
       "      <td>1.095712</td>\n",
       "      <td>0.514363</td>\n",
       "      <td>-0.417773</td>\n",
       "      <td>-2.311431</td>\n",
       "    </tr>\n",
       "    <tr>\n",
       "      <th>Wes</th>\n",
       "      <td>-0.989125</td>\n",
       "      <td>NaN</td>\n",
       "      <td>NaN</td>\n",
       "      <td>-1.037329</td>\n",
       "      <td>0.764895</td>\n",
       "    </tr>\n",
       "    <tr>\n",
       "      <th>Jim</th>\n",
       "      <td>-0.742987</td>\n",
       "      <td>-0.419882</td>\n",
       "      <td>-0.243866</td>\n",
       "      <td>-1.878199</td>\n",
       "      <td>0.890531</td>\n",
       "    </tr>\n",
       "    <tr>\n",
       "      <th>Travis</th>\n",
       "      <td>-0.599328</td>\n",
       "      <td>2.709177</td>\n",
       "      <td>0.704749</td>\n",
       "      <td>-1.710326</td>\n",
       "      <td>-0.403264</td>\n",
       "    </tr>\n",
       "  </tbody>\n",
       "</table>\n",
       "</div>"
      ],
      "text/plain": [
       "               a         b         c         d         e\n",
       "Joe    -1.247329  0.036886 -2.168899  0.690024 -0.890311\n",
       "Steve   0.166922  1.095712  0.514363 -0.417773 -2.311431\n",
       "Wes    -0.989125       NaN       NaN -1.037329  0.764895\n",
       "Jim    -0.742987 -0.419882 -0.243866 -1.878199  0.890531\n",
       "Travis -0.599328  2.709177  0.704749 -1.710326 -0.403264"
      ]
     },
     "execution_count": 5,
     "metadata": {},
     "output_type": "execute_result"
    }
   ],
   "source": [
    "people"
   ]
  },
  {
   "cell_type": "code",
   "execution_count": 6,
   "metadata": {
    "collapsed": true
   },
   "outputs": [],
   "source": [
    "mapping = {'a':'red','b':'red','c':'blue','d':'blue','e':'red','f':'orange'}"
   ]
  },
  {
   "cell_type": "code",
   "execution_count": 7,
   "metadata": {
    "collapsed": false
   },
   "outputs": [
    {
     "data": {
      "text/plain": [
       "{'a': 'red', 'b': 'red', 'c': 'blue', 'd': 'blue', 'e': 'red', 'f': 'orange'}"
      ]
     },
     "execution_count": 7,
     "metadata": {},
     "output_type": "execute_result"
    }
   ],
   "source": [
    "mapping"
   ]
  },
  {
   "cell_type": "code",
   "execution_count": 8,
   "metadata": {
    "collapsed": true
   },
   "outputs": [],
   "source": [
    "by_column = people.groupby(mapping,axis=1)"
   ]
  },
  {
   "cell_type": "code",
   "execution_count": 10,
   "metadata": {
    "collapsed": false
   },
   "outputs": [
    {
     "name": "stdout",
     "output_type": "stream",
     "text": [
      "blue\n",
      "               c         d\n",
      "Joe    -2.168899  0.690024\n",
      "Steve   0.514363 -0.417773\n",
      "Wes          NaN -1.037329\n",
      "Jim    -0.243866 -1.878199\n",
      "Travis  0.704749 -1.710326\n",
      "red\n",
      "               a         b         e\n",
      "Joe    -1.247329  0.036886 -0.890311\n",
      "Steve   0.166922  1.095712 -2.311431\n",
      "Wes    -0.989125       NaN  0.764895\n",
      "Jim    -0.742987 -0.419882  0.890531\n",
      "Travis -0.599328  2.709177 -0.403264\n"
     ]
    }
   ],
   "source": [
    "for i,j in by_column:\n",
    "    print(i)\n",
    "    print(j)"
   ]
  },
  {
   "cell_type": "code",
   "execution_count": 11,
   "metadata": {
    "collapsed": false
   },
   "outputs": [
    {
     "data": {
      "text/html": [
       "<div>\n",
       "<table border=\"1\" class=\"dataframe\">\n",
       "  <thead>\n",
       "    <tr style=\"text-align: right;\">\n",
       "      <th></th>\n",
       "      <th>blue</th>\n",
       "      <th>red</th>\n",
       "    </tr>\n",
       "  </thead>\n",
       "  <tbody>\n",
       "    <tr>\n",
       "      <th>Joe</th>\n",
       "      <td>-1.478875</td>\n",
       "      <td>-2.100755</td>\n",
       "    </tr>\n",
       "    <tr>\n",
       "      <th>Steve</th>\n",
       "      <td>0.096590</td>\n",
       "      <td>-1.048796</td>\n",
       "    </tr>\n",
       "    <tr>\n",
       "      <th>Wes</th>\n",
       "      <td>-1.037329</td>\n",
       "      <td>-0.224229</td>\n",
       "    </tr>\n",
       "    <tr>\n",
       "      <th>Jim</th>\n",
       "      <td>-2.122065</td>\n",
       "      <td>-0.272339</td>\n",
       "    </tr>\n",
       "    <tr>\n",
       "      <th>Travis</th>\n",
       "      <td>-1.005578</td>\n",
       "      <td>1.706585</td>\n",
       "    </tr>\n",
       "  </tbody>\n",
       "</table>\n",
       "</div>"
      ],
      "text/plain": [
       "            blue       red\n",
       "Joe    -1.478875 -2.100755\n",
       "Steve   0.096590 -1.048796\n",
       "Wes    -1.037329 -0.224229\n",
       "Jim    -2.122065 -0.272339\n",
       "Travis -1.005578  1.706585"
      ]
     },
     "execution_count": 11,
     "metadata": {},
     "output_type": "execute_result"
    }
   ],
   "source": [
    "by_column.sum()"
   ]
  },
  {
   "cell_type": "code",
   "execution_count": 12,
   "metadata": {
    "collapsed": false
   },
   "outputs": [
    {
     "data": {
      "text/plain": [
       "a       red\n",
       "b       red\n",
       "c      blue\n",
       "d      blue\n",
       "e       red\n",
       "f    orange\n",
       "dtype: object"
      ]
     },
     "execution_count": 12,
     "metadata": {},
     "output_type": "execute_result"
    }
   ],
   "source": [
    "map_series = Series(mapping)\n",
    "map_series"
   ]
  },
  {
   "cell_type": "code",
   "execution_count": 13,
   "metadata": {
    "collapsed": false
   },
   "outputs": [
    {
     "data": {
      "text/html": [
       "<div>\n",
       "<table border=\"1\" class=\"dataframe\">\n",
       "  <thead>\n",
       "    <tr style=\"text-align: right;\">\n",
       "      <th></th>\n",
       "      <th>blue</th>\n",
       "      <th>red</th>\n",
       "    </tr>\n",
       "  </thead>\n",
       "  <tbody>\n",
       "    <tr>\n",
       "      <th>Joe</th>\n",
       "      <td>2</td>\n",
       "      <td>3</td>\n",
       "    </tr>\n",
       "    <tr>\n",
       "      <th>Steve</th>\n",
       "      <td>2</td>\n",
       "      <td>3</td>\n",
       "    </tr>\n",
       "    <tr>\n",
       "      <th>Wes</th>\n",
       "      <td>1</td>\n",
       "      <td>2</td>\n",
       "    </tr>\n",
       "    <tr>\n",
       "      <th>Jim</th>\n",
       "      <td>2</td>\n",
       "      <td>3</td>\n",
       "    </tr>\n",
       "    <tr>\n",
       "      <th>Travis</th>\n",
       "      <td>2</td>\n",
       "      <td>3</td>\n",
       "    </tr>\n",
       "  </tbody>\n",
       "</table>\n",
       "</div>"
      ],
      "text/plain": [
       "        blue  red\n",
       "Joe        2    3\n",
       "Steve      2    3\n",
       "Wes        1    2\n",
       "Jim        2    3\n",
       "Travis     2    3"
      ]
     },
     "execution_count": 13,
     "metadata": {},
     "output_type": "execute_result"
    }
   ],
   "source": [
    "people.groupby(map_series,axis = 1).count()"
   ]
  },
  {
   "cell_type": "markdown",
   "metadata": {},
   "source": [
    "# Grouping with functions"
   ]
  },
  {
   "cell_type": "code",
   "execution_count": 15,
   "metadata": {
    "collapsed": true
   },
   "outputs": [],
   "source": [
    "#want to groupby length of string of names"
   ]
  },
  {
   "cell_type": "code",
   "execution_count": 18,
   "metadata": {
    "collapsed": false
   },
   "outputs": [
    {
     "data": {
      "text/html": [
       "<div>\n",
       "<table border=\"1\" class=\"dataframe\">\n",
       "  <thead>\n",
       "    <tr style=\"text-align: right;\">\n",
       "      <th></th>\n",
       "      <th>a</th>\n",
       "      <th>b</th>\n",
       "      <th>c</th>\n",
       "      <th>d</th>\n",
       "      <th>e</th>\n",
       "    </tr>\n",
       "  </thead>\n",
       "  <tbody>\n",
       "    <tr>\n",
       "      <th>3</th>\n",
       "      <td>-2.979441</td>\n",
       "      <td>-0.382997</td>\n",
       "      <td>-2.412765</td>\n",
       "      <td>-2.225504</td>\n",
       "      <td>0.765115</td>\n",
       "    </tr>\n",
       "    <tr>\n",
       "      <th>5</th>\n",
       "      <td>0.166922</td>\n",
       "      <td>1.095712</td>\n",
       "      <td>0.514363</td>\n",
       "      <td>-0.417773</td>\n",
       "      <td>-2.311431</td>\n",
       "    </tr>\n",
       "    <tr>\n",
       "      <th>6</th>\n",
       "      <td>-0.599328</td>\n",
       "      <td>2.709177</td>\n",
       "      <td>0.704749</td>\n",
       "      <td>-1.710326</td>\n",
       "      <td>-0.403264</td>\n",
       "    </tr>\n",
       "  </tbody>\n",
       "</table>\n",
       "</div>"
      ],
      "text/plain": [
       "          a         b         c         d         e\n",
       "3 -2.979441 -0.382997 -2.412765 -2.225504  0.765115\n",
       "5  0.166922  1.095712  0.514363 -0.417773 -2.311431\n",
       "6 -0.599328  2.709177  0.704749 -1.710326 -0.403264"
      ]
     },
     "execution_count": 18,
     "metadata": {},
     "output_type": "execute_result"
    }
   ],
   "source": [
    "people.groupby(len).sum()"
   ]
  },
  {
   "cell_type": "code",
   "execution_count": 20,
   "metadata": {
    "collapsed": true
   },
   "outputs": [],
   "source": [
    "#mixing functions with arrays,dicts or Series"
   ]
  },
  {
   "cell_type": "code",
   "execution_count": 21,
   "metadata": {
    "collapsed": true
   },
   "outputs": [],
   "source": [
    "key_list = ['one','one','one','two','two']"
   ]
  },
  {
   "cell_type": "code",
   "execution_count": 22,
   "metadata": {
    "collapsed": false
   },
   "outputs": [
    {
     "data": {
      "text/html": [
       "<div>\n",
       "<table border=\"1\" class=\"dataframe\">\n",
       "  <thead>\n",
       "    <tr style=\"text-align: right;\">\n",
       "      <th></th>\n",
       "      <th></th>\n",
       "      <th>a</th>\n",
       "      <th>b</th>\n",
       "      <th>c</th>\n",
       "      <th>d</th>\n",
       "      <th>e</th>\n",
       "    </tr>\n",
       "  </thead>\n",
       "  <tbody>\n",
       "    <tr>\n",
       "      <th rowspan=\"2\" valign=\"top\">3</th>\n",
       "      <th>one</th>\n",
       "      <td>-1.247329</td>\n",
       "      <td>0.036886</td>\n",
       "      <td>-2.168899</td>\n",
       "      <td>-1.037329</td>\n",
       "      <td>-0.890311</td>\n",
       "    </tr>\n",
       "    <tr>\n",
       "      <th>two</th>\n",
       "      <td>-0.742987</td>\n",
       "      <td>-0.419882</td>\n",
       "      <td>-0.243866</td>\n",
       "      <td>-1.878199</td>\n",
       "      <td>0.890531</td>\n",
       "    </tr>\n",
       "    <tr>\n",
       "      <th>5</th>\n",
       "      <th>one</th>\n",
       "      <td>0.166922</td>\n",
       "      <td>1.095712</td>\n",
       "      <td>0.514363</td>\n",
       "      <td>-0.417773</td>\n",
       "      <td>-2.311431</td>\n",
       "    </tr>\n",
       "    <tr>\n",
       "      <th>6</th>\n",
       "      <th>two</th>\n",
       "      <td>-0.599328</td>\n",
       "      <td>2.709177</td>\n",
       "      <td>0.704749</td>\n",
       "      <td>-1.710326</td>\n",
       "      <td>-0.403264</td>\n",
       "    </tr>\n",
       "  </tbody>\n",
       "</table>\n",
       "</div>"
      ],
      "text/plain": [
       "              a         b         c         d         e\n",
       "3 one -1.247329  0.036886 -2.168899 -1.037329 -0.890311\n",
       "  two -0.742987 -0.419882 -0.243866 -1.878199  0.890531\n",
       "5 one  0.166922  1.095712  0.514363 -0.417773 -2.311431\n",
       "6 two -0.599328  2.709177  0.704749 -1.710326 -0.403264"
      ]
     },
     "execution_count": 22,
     "metadata": {},
     "output_type": "execute_result"
    }
   ],
   "source": [
    "people.groupby([len,key_list]).min()"
   ]
  },
  {
   "cell_type": "code",
   "execution_count": 23,
   "metadata": {
    "collapsed": false
   },
   "outputs": [
    {
     "name": "stdout",
     "output_type": "stream",
     "text": [
      "(3, 'one')\n",
      "            a         b         c         d         e\n",
      "Joe -1.247329  0.036886 -2.168899  0.690024 -0.890311\n",
      "Wes -0.989125       NaN       NaN -1.037329  0.764895\n",
      "(3, 'two')\n",
      "            a         b         c         d         e\n",
      "Jim -0.742987 -0.419882 -0.243866 -1.878199  0.890531\n",
      "(5, 'one')\n",
      "              a         b         c         d         e\n",
      "Steve  0.166922  1.095712  0.514363 -0.417773 -2.311431\n",
      "(6, 'two')\n",
      "               a         b         c         d         e\n",
      "Travis -0.599328  2.709177  0.704749 -1.710326 -0.403264\n"
     ]
    }
   ],
   "source": [
    "for i,j in people.groupby([len,key_list]):\n",
    "    print(i)\n",
    "    print(j)"
   ]
  },
  {
   "cell_type": "markdown",
   "metadata": {},
   "source": [
    "# Grouping by Index levels"
   ]
  },
  {
   "cell_type": "code",
   "execution_count": 26,
   "metadata": {
    "collapsed": false
   },
   "outputs": [],
   "source": [
    "columns = pd.MultiIndex.from_arrays([['US','US','US','JP','JP'],[1,3,5,1,3]],names=['cty','tenor'])"
   ]
  },
  {
   "cell_type": "code",
   "execution_count": 27,
   "metadata": {
    "collapsed": false
   },
   "outputs": [
    {
     "data": {
      "text/html": [
       "<div>\n",
       "<table border=\"1\" class=\"dataframe\">\n",
       "  <thead>\n",
       "    <tr>\n",
       "      <th>cty</th>\n",
       "      <th colspan=\"3\" halign=\"left\">US</th>\n",
       "      <th colspan=\"2\" halign=\"left\">JP</th>\n",
       "    </tr>\n",
       "    <tr>\n",
       "      <th>tenor</th>\n",
       "      <th>1</th>\n",
       "      <th>3</th>\n",
       "      <th>5</th>\n",
       "      <th>1</th>\n",
       "      <th>3</th>\n",
       "    </tr>\n",
       "  </thead>\n",
       "  <tbody>\n",
       "    <tr>\n",
       "      <th>0</th>\n",
       "      <td>-0.022978</td>\n",
       "      <td>0.627406</td>\n",
       "      <td>-1.151486</td>\n",
       "      <td>-1.561882</td>\n",
       "      <td>0.488814</td>\n",
       "    </tr>\n",
       "    <tr>\n",
       "      <th>1</th>\n",
       "      <td>-0.756904</td>\n",
       "      <td>-1.141272</td>\n",
       "      <td>0.197162</td>\n",
       "      <td>-2.134256</td>\n",
       "      <td>1.792771</td>\n",
       "    </tr>\n",
       "    <tr>\n",
       "      <th>2</th>\n",
       "      <td>0.266621</td>\n",
       "      <td>-2.798367</td>\n",
       "      <td>0.682079</td>\n",
       "      <td>1.543748</td>\n",
       "      <td>0.965586</td>\n",
       "    </tr>\n",
       "    <tr>\n",
       "      <th>3</th>\n",
       "      <td>-1.286612</td>\n",
       "      <td>-0.933729</td>\n",
       "      <td>-0.317464</td>\n",
       "      <td>0.111730</td>\n",
       "      <td>-1.045842</td>\n",
       "    </tr>\n",
       "  </tbody>\n",
       "</table>\n",
       "</div>"
      ],
      "text/plain": [
       "cty          US                            JP          \n",
       "tenor         1         3         5         1         3\n",
       "0     -0.022978  0.627406 -1.151486 -1.561882  0.488814\n",
       "1     -0.756904 -1.141272  0.197162 -2.134256  1.792771\n",
       "2      0.266621 -2.798367  0.682079  1.543748  0.965586\n",
       "3     -1.286612 -0.933729 -0.317464  0.111730 -1.045842"
      ]
     },
     "execution_count": 27,
     "metadata": {},
     "output_type": "execute_result"
    }
   ],
   "source": [
    "hier_df = DataFrame(np.random.randn(4,5),columns=columns)\n",
    "hier_df"
   ]
  },
  {
   "cell_type": "code",
   "execution_count": 28,
   "metadata": {
    "collapsed": false
   },
   "outputs": [
    {
     "data": {
      "text/html": [
       "<div>\n",
       "<table border=\"1\" class=\"dataframe\">\n",
       "  <thead>\n",
       "    <tr style=\"text-align: right;\">\n",
       "      <th>cty</th>\n",
       "      <th>JP</th>\n",
       "      <th>US</th>\n",
       "    </tr>\n",
       "  </thead>\n",
       "  <tbody>\n",
       "    <tr>\n",
       "      <th>0</th>\n",
       "      <td>2</td>\n",
       "      <td>3</td>\n",
       "    </tr>\n",
       "    <tr>\n",
       "      <th>1</th>\n",
       "      <td>2</td>\n",
       "      <td>3</td>\n",
       "    </tr>\n",
       "    <tr>\n",
       "      <th>2</th>\n",
       "      <td>2</td>\n",
       "      <td>3</td>\n",
       "    </tr>\n",
       "    <tr>\n",
       "      <th>3</th>\n",
       "      <td>2</td>\n",
       "      <td>3</td>\n",
       "    </tr>\n",
       "  </tbody>\n",
       "</table>\n",
       "</div>"
      ],
      "text/plain": [
       "cty  JP  US\n",
       "0     2   3\n",
       "1     2   3\n",
       "2     2   3\n",
       "3     2   3"
      ]
     },
     "execution_count": 28,
     "metadata": {},
     "output_type": "execute_result"
    }
   ],
   "source": [
    "hier_df.groupby(level='cty',axis=1).count()"
   ]
  },
  {
   "cell_type": "markdown",
   "metadata": {},
   "source": [
    "# DATA Aggretation"
   ]
  },
  {
   "cell_type": "code",
   "execution_count": 30,
   "metadata": {
    "collapsed": false
   },
   "outputs": [
    {
     "data": {
      "text/html": [
       "<div>\n",
       "<table border=\"1\" class=\"dataframe\">\n",
       "  <thead>\n",
       "    <tr style=\"text-align: right;\">\n",
       "      <th></th>\n",
       "      <th>data1</th>\n",
       "      <th>data2</th>\n",
       "      <th>key1</th>\n",
       "      <th>key2</th>\n",
       "    </tr>\n",
       "  </thead>\n",
       "  <tbody>\n",
       "    <tr>\n",
       "      <th>0</th>\n",
       "      <td>-0.343521</td>\n",
       "      <td>2.464304</td>\n",
       "      <td>a</td>\n",
       "      <td>one</td>\n",
       "    </tr>\n",
       "    <tr>\n",
       "      <th>1</th>\n",
       "      <td>-0.496838</td>\n",
       "      <td>0.725268</td>\n",
       "      <td>a</td>\n",
       "      <td>two</td>\n",
       "    </tr>\n",
       "    <tr>\n",
       "      <th>2</th>\n",
       "      <td>1.275171</td>\n",
       "      <td>-0.993779</td>\n",
       "      <td>b</td>\n",
       "      <td>one</td>\n",
       "    </tr>\n",
       "    <tr>\n",
       "      <th>3</th>\n",
       "      <td>1.868629</td>\n",
       "      <td>0.353953</td>\n",
       "      <td>b</td>\n",
       "      <td>two</td>\n",
       "    </tr>\n",
       "    <tr>\n",
       "      <th>4</th>\n",
       "      <td>3.225798</td>\n",
       "      <td>-1.024886</td>\n",
       "      <td>a</td>\n",
       "      <td>one</td>\n",
       "    </tr>\n",
       "  </tbody>\n",
       "</table>\n",
       "</div>"
      ],
      "text/plain": [
       "      data1     data2 key1 key2\n",
       "0 -0.343521  2.464304    a  one\n",
       "1 -0.496838  0.725268    a  two\n",
       "2  1.275171 -0.993779    b  one\n",
       "3  1.868629  0.353953    b  two\n",
       "4  3.225798 -1.024886    a  one"
      ]
     },
     "execution_count": 30,
     "metadata": {},
     "output_type": "execute_result"
    }
   ],
   "source": [
    "df"
   ]
  },
  {
   "cell_type": "code",
   "execution_count": 31,
   "metadata": {
    "collapsed": true
   },
   "outputs": [],
   "source": [
    "#To compute statistical measures in columns"
   ]
  },
  {
   "cell_type": "code",
   "execution_count": 32,
   "metadata": {
    "collapsed": true
   },
   "outputs": [],
   "source": [
    "grouped = df.groupby('key1')"
   ]
  },
  {
   "cell_type": "code",
   "execution_count": 33,
   "metadata": {
    "collapsed": false
   },
   "outputs": [
    {
     "data": {
      "text/plain": [
       "key1\n",
       "a    2.511935\n",
       "b    1.809283\n",
       "Name: data1, dtype: float64"
      ]
     },
     "execution_count": 33,
     "metadata": {},
     "output_type": "execute_result"
    }
   ],
   "source": [
    "grouped['data1'].quantile(0.9)"
   ]
  },
  {
   "cell_type": "code",
   "execution_count": 34,
   "metadata": {
    "collapsed": true
   },
   "outputs": [],
   "source": [
    "def peak_to_peak(arr):\n",
    "    return arr.max() - arr.min()"
   ]
  },
  {
   "cell_type": "code",
   "execution_count": 35,
   "metadata": {
    "collapsed": false
   },
   "outputs": [
    {
     "data": {
      "text/html": [
       "<div>\n",
       "<table border=\"1\" class=\"dataframe\">\n",
       "  <thead>\n",
       "    <tr style=\"text-align: right;\">\n",
       "      <th></th>\n",
       "      <th>data1</th>\n",
       "      <th>data2</th>\n",
       "    </tr>\n",
       "    <tr>\n",
       "      <th>key1</th>\n",
       "      <th></th>\n",
       "      <th></th>\n",
       "    </tr>\n",
       "  </thead>\n",
       "  <tbody>\n",
       "    <tr>\n",
       "      <th>a</th>\n",
       "      <td>3.722637</td>\n",
       "      <td>3.489190</td>\n",
       "    </tr>\n",
       "    <tr>\n",
       "      <th>b</th>\n",
       "      <td>0.593458</td>\n",
       "      <td>1.347732</td>\n",
       "    </tr>\n",
       "  </tbody>\n",
       "</table>\n",
       "</div>"
      ],
      "text/plain": [
       "         data1     data2\n",
       "key1                    \n",
       "a     3.722637  3.489190\n",
       "b     0.593458  1.347732"
      ]
     },
     "execution_count": 35,
     "metadata": {},
     "output_type": "execute_result"
    }
   ],
   "source": [
    "grouped.agg(peak_to_peak)"
   ]
  },
  {
   "cell_type": "code",
   "execution_count": 36,
   "metadata": {
    "collapsed": false
   },
   "outputs": [
    {
     "data": {
      "text/html": [
       "<div>\n",
       "<table border=\"1\" class=\"dataframe\">\n",
       "  <thead>\n",
       "    <tr style=\"text-align: right;\">\n",
       "      <th></th>\n",
       "      <th></th>\n",
       "      <th>data1</th>\n",
       "      <th>data2</th>\n",
       "    </tr>\n",
       "    <tr>\n",
       "      <th>key1</th>\n",
       "      <th></th>\n",
       "      <th></th>\n",
       "      <th></th>\n",
       "    </tr>\n",
       "  </thead>\n",
       "  <tbody>\n",
       "    <tr>\n",
       "      <th rowspan=\"8\" valign=\"top\">a</th>\n",
       "      <th>count</th>\n",
       "      <td>3.000000</td>\n",
       "      <td>3.000000</td>\n",
       "    </tr>\n",
       "    <tr>\n",
       "      <th>mean</th>\n",
       "      <td>0.795146</td>\n",
       "      <td>0.721562</td>\n",
       "    </tr>\n",
       "    <tr>\n",
       "      <th>std</th>\n",
       "      <td>2.106402</td>\n",
       "      <td>1.744598</td>\n",
       "    </tr>\n",
       "    <tr>\n",
       "      <th>min</th>\n",
       "      <td>-0.496838</td>\n",
       "      <td>-1.024886</td>\n",
       "    </tr>\n",
       "    <tr>\n",
       "      <th>25%</th>\n",
       "      <td>-0.420180</td>\n",
       "      <td>-0.149809</td>\n",
       "    </tr>\n",
       "    <tr>\n",
       "      <th>50%</th>\n",
       "      <td>-0.343521</td>\n",
       "      <td>0.725268</td>\n",
       "    </tr>\n",
       "    <tr>\n",
       "      <th>75%</th>\n",
       "      <td>1.441139</td>\n",
       "      <td>1.594786</td>\n",
       "    </tr>\n",
       "    <tr>\n",
       "      <th>max</th>\n",
       "      <td>3.225798</td>\n",
       "      <td>2.464304</td>\n",
       "    </tr>\n",
       "    <tr>\n",
       "      <th rowspan=\"8\" valign=\"top\">b</th>\n",
       "      <th>count</th>\n",
       "      <td>2.000000</td>\n",
       "      <td>2.000000</td>\n",
       "    </tr>\n",
       "    <tr>\n",
       "      <th>mean</th>\n",
       "      <td>1.571900</td>\n",
       "      <td>-0.319913</td>\n",
       "    </tr>\n",
       "    <tr>\n",
       "      <th>std</th>\n",
       "      <td>0.419638</td>\n",
       "      <td>0.952991</td>\n",
       "    </tr>\n",
       "    <tr>\n",
       "      <th>min</th>\n",
       "      <td>1.275171</td>\n",
       "      <td>-0.993779</td>\n",
       "    </tr>\n",
       "    <tr>\n",
       "      <th>25%</th>\n",
       "      <td>1.423535</td>\n",
       "      <td>-0.656846</td>\n",
       "    </tr>\n",
       "    <tr>\n",
       "      <th>50%</th>\n",
       "      <td>1.571900</td>\n",
       "      <td>-0.319913</td>\n",
       "    </tr>\n",
       "    <tr>\n",
       "      <th>75%</th>\n",
       "      <td>1.720265</td>\n",
       "      <td>0.017020</td>\n",
       "    </tr>\n",
       "    <tr>\n",
       "      <th>max</th>\n",
       "      <td>1.868629</td>\n",
       "      <td>0.353953</td>\n",
       "    </tr>\n",
       "  </tbody>\n",
       "</table>\n",
       "</div>"
      ],
      "text/plain": [
       "               data1     data2\n",
       "key1                          \n",
       "a    count  3.000000  3.000000\n",
       "     mean   0.795146  0.721562\n",
       "     std    2.106402  1.744598\n",
       "     min   -0.496838 -1.024886\n",
       "     25%   -0.420180 -0.149809\n",
       "     50%   -0.343521  0.725268\n",
       "     75%    1.441139  1.594786\n",
       "     max    3.225798  2.464304\n",
       "b    count  2.000000  2.000000\n",
       "     mean   1.571900 -0.319913\n",
       "     std    0.419638  0.952991\n",
       "     min    1.275171 -0.993779\n",
       "     25%    1.423535 -0.656846\n",
       "     50%    1.571900 -0.319913\n",
       "     75%    1.720265  0.017020\n",
       "     max    1.868629  0.353953"
      ]
     },
     "execution_count": 36,
     "metadata": {},
     "output_type": "execute_result"
    }
   ],
   "source": [
    "grouped.describe()"
   ]
  },
  {
   "cell_type": "code",
   "execution_count": 30,
   "metadata": {
    "collapsed": false
   },
   "outputs": [],
   "source": [
    "tips=pd.read_csv('C:/Users/HP/Desktop/tips.csv')"
   ]
  },
  {
   "cell_type": "code",
   "execution_count": 41,
   "metadata": {
    "collapsed": false
   },
   "outputs": [
    {
     "data": {
      "text/html": [
       "<div>\n",
       "<table border=\"1\" class=\"dataframe\">\n",
       "  <thead>\n",
       "    <tr style=\"text-align: right;\">\n",
       "      <th></th>\n",
       "      <th>total_bill</th>\n",
       "      <th>tip</th>\n",
       "      <th>sex</th>\n",
       "      <th>smoker</th>\n",
       "      <th>day</th>\n",
       "      <th>time</th>\n",
       "      <th>size</th>\n",
       "    </tr>\n",
       "  </thead>\n",
       "  <tbody>\n",
       "    <tr>\n",
       "      <th>0</th>\n",
       "      <td>16.99</td>\n",
       "      <td>1.01</td>\n",
       "      <td>Female</td>\n",
       "      <td>No</td>\n",
       "      <td>Sun</td>\n",
       "      <td>Dinner</td>\n",
       "      <td>2</td>\n",
       "    </tr>\n",
       "    <tr>\n",
       "      <th>1</th>\n",
       "      <td>10.34</td>\n",
       "      <td>1.66</td>\n",
       "      <td>Male</td>\n",
       "      <td>No</td>\n",
       "      <td>Sun</td>\n",
       "      <td>Dinner</td>\n",
       "      <td>3</td>\n",
       "    </tr>\n",
       "    <tr>\n",
       "      <th>2</th>\n",
       "      <td>21.01</td>\n",
       "      <td>3.50</td>\n",
       "      <td>Male</td>\n",
       "      <td>No</td>\n",
       "      <td>Sun</td>\n",
       "      <td>Dinner</td>\n",
       "      <td>3</td>\n",
       "    </tr>\n",
       "    <tr>\n",
       "      <th>3</th>\n",
       "      <td>23.68</td>\n",
       "      <td>3.31</td>\n",
       "      <td>Male</td>\n",
       "      <td>No</td>\n",
       "      <td>Sun</td>\n",
       "      <td>Dinner</td>\n",
       "      <td>2</td>\n",
       "    </tr>\n",
       "    <tr>\n",
       "      <th>4</th>\n",
       "      <td>24.59</td>\n",
       "      <td>3.61</td>\n",
       "      <td>Female</td>\n",
       "      <td>No</td>\n",
       "      <td>Sun</td>\n",
       "      <td>Dinner</td>\n",
       "      <td>4</td>\n",
       "    </tr>\n",
       "    <tr>\n",
       "      <th>5</th>\n",
       "      <td>25.29</td>\n",
       "      <td>4.71</td>\n",
       "      <td>Male</td>\n",
       "      <td>No</td>\n",
       "      <td>Sun</td>\n",
       "      <td>Dinner</td>\n",
       "      <td>4</td>\n",
       "    </tr>\n",
       "  </tbody>\n",
       "</table>\n",
       "</div>"
      ],
      "text/plain": [
       "   total_bill   tip     sex smoker  day    time  size\n",
       "0       16.99  1.01  Female     No  Sun  Dinner     2\n",
       "1       10.34  1.66    Male     No  Sun  Dinner     3\n",
       "2       21.01  3.50    Male     No  Sun  Dinner     3\n",
       "3       23.68  3.31    Male     No  Sun  Dinner     2\n",
       "4       24.59  3.61  Female     No  Sun  Dinner     4\n",
       "5       25.29  4.71    Male     No  Sun  Dinner     4"
      ]
     },
     "execution_count": 41,
     "metadata": {},
     "output_type": "execute_result"
    }
   ],
   "source": [
    "tips.ix[:5,:]"
   ]
  },
  {
   "cell_type": "code",
   "execution_count": 42,
   "metadata": {
    "collapsed": true
   },
   "outputs": [],
   "source": [
    "#Add tip percentage of total bill"
   ]
  },
  {
   "cell_type": "code",
   "execution_count": 40,
   "metadata": {
    "collapsed": true
   },
   "outputs": [],
   "source": [
    "tips['tip_pct'] = tips['tip']/tips['total_bill']"
   ]
  },
  {
   "cell_type": "code",
   "execution_count": 30,
   "metadata": {
    "collapsed": false
   },
   "outputs": [
    {
     "data": {
      "text/html": [
       "<div>\n",
       "<table border=\"1\" class=\"dataframe\">\n",
       "  <thead>\n",
       "    <tr style=\"text-align: right;\">\n",
       "      <th></th>\n",
       "      <th>total_bill</th>\n",
       "      <th>tip</th>\n",
       "      <th>sex</th>\n",
       "      <th>smoker</th>\n",
       "      <th>day</th>\n",
       "      <th>time</th>\n",
       "      <th>size</th>\n",
       "      <th>tip_pct</th>\n",
       "    </tr>\n",
       "  </thead>\n",
       "  <tbody>\n",
       "    <tr>\n",
       "      <th>0</th>\n",
       "      <td>16.99</td>\n",
       "      <td>1.01</td>\n",
       "      <td>Female</td>\n",
       "      <td>No</td>\n",
       "      <td>Sun</td>\n",
       "      <td>Dinner</td>\n",
       "      <td>2</td>\n",
       "      <td>0.059447</td>\n",
       "    </tr>\n",
       "    <tr>\n",
       "      <th>1</th>\n",
       "      <td>10.34</td>\n",
       "      <td>1.66</td>\n",
       "      <td>Male</td>\n",
       "      <td>No</td>\n",
       "      <td>Sun</td>\n",
       "      <td>Dinner</td>\n",
       "      <td>3</td>\n",
       "      <td>0.160542</td>\n",
       "    </tr>\n",
       "    <tr>\n",
       "      <th>2</th>\n",
       "      <td>21.01</td>\n",
       "      <td>3.50</td>\n",
       "      <td>Male</td>\n",
       "      <td>No</td>\n",
       "      <td>Sun</td>\n",
       "      <td>Dinner</td>\n",
       "      <td>3</td>\n",
       "      <td>0.166587</td>\n",
       "    </tr>\n",
       "    <tr>\n",
       "      <th>3</th>\n",
       "      <td>23.68</td>\n",
       "      <td>3.31</td>\n",
       "      <td>Male</td>\n",
       "      <td>No</td>\n",
       "      <td>Sun</td>\n",
       "      <td>Dinner</td>\n",
       "      <td>2</td>\n",
       "      <td>0.139780</td>\n",
       "    </tr>\n",
       "    <tr>\n",
       "      <th>4</th>\n",
       "      <td>24.59</td>\n",
       "      <td>3.61</td>\n",
       "      <td>Female</td>\n",
       "      <td>No</td>\n",
       "      <td>Sun</td>\n",
       "      <td>Dinner</td>\n",
       "      <td>4</td>\n",
       "      <td>0.146808</td>\n",
       "    </tr>\n",
       "    <tr>\n",
       "      <th>5</th>\n",
       "      <td>25.29</td>\n",
       "      <td>4.71</td>\n",
       "      <td>Male</td>\n",
       "      <td>No</td>\n",
       "      <td>Sun</td>\n",
       "      <td>Dinner</td>\n",
       "      <td>4</td>\n",
       "      <td>0.186240</td>\n",
       "    </tr>\n",
       "  </tbody>\n",
       "</table>\n",
       "</div>"
      ],
      "text/plain": [
       "   total_bill   tip     sex smoker  day    time  size   tip_pct\n",
       "0       16.99  1.01  Female     No  Sun  Dinner     2  0.059447\n",
       "1       10.34  1.66    Male     No  Sun  Dinner     3  0.160542\n",
       "2       21.01  3.50    Male     No  Sun  Dinner     3  0.166587\n",
       "3       23.68  3.31    Male     No  Sun  Dinner     2  0.139780\n",
       "4       24.59  3.61  Female     No  Sun  Dinner     4  0.146808\n",
       "5       25.29  4.71    Male     No  Sun  Dinner     4  0.186240"
      ]
     },
     "execution_count": 30,
     "metadata": {},
     "output_type": "execute_result"
    }
   ],
   "source": [
    "tips.ix[:5,:]"
   ]
  },
  {
   "cell_type": "markdown",
   "metadata": {},
   "source": [
    "# Column wise and Multiple function Application"
   ]
  },
  {
   "cell_type": "code",
   "execution_count": 45,
   "metadata": {
    "collapsed": true
   },
   "outputs": [],
   "source": [
    "grouped = tips.groupby(['sex','smoker'])"
   ]
  },
  {
   "cell_type": "code",
   "execution_count": 46,
   "metadata": {
    "collapsed": false
   },
   "outputs": [
    {
     "name": "stdout",
     "output_type": "stream",
     "text": [
      "('Female', 'No')\n",
      "     total_bill   tip     sex smoker   day    time  size   tip_pct\n",
      "0         16.99  1.01  Female     No   Sun  Dinner     2  0.059447\n",
      "4         24.59  3.61  Female     No   Sun  Dinner     4  0.146808\n",
      "11        35.26  5.00  Female     No   Sun  Dinner     4  0.141804\n",
      "14        14.83  3.02  Female     No   Sun  Dinner     2  0.203641\n",
      "16        10.33  1.67  Female     No   Sun  Dinner     3  0.161665\n",
      "18        16.97  3.50  Female     No   Sun  Dinner     3  0.206246\n",
      "21        20.29  2.75  Female     No   Sat  Dinner     2  0.135535\n",
      "22        15.77  2.23  Female     No   Sat  Dinner     2  0.141408\n",
      "29        19.65  3.00  Female     No   Sat  Dinner     2  0.152672\n",
      "32        15.06  3.00  Female     No   Sat  Dinner     2  0.199203\n",
      "33        20.69  2.45  Female     No   Sat  Dinner     4  0.118415\n",
      "37        16.93  3.07  Female     No   Sat  Dinner     3  0.181335\n",
      "51        10.29  2.60  Female     No   Sun  Dinner     2  0.252672\n",
      "52        34.81  5.20  Female     No   Sun  Dinner     4  0.149382\n",
      "57        26.41  1.50  Female     No   Sat  Dinner     2  0.056797\n",
      "66        16.45  2.47  Female     No   Sat  Dinner     2  0.150152\n",
      "71        17.07  3.00  Female     No   Sat  Dinner     3  0.175747\n",
      "74        14.73  2.20  Female     No   Sat  Dinner     2  0.149355\n",
      "82        10.07  1.83  Female     No  Thur   Lunch     1  0.181728\n",
      "85        34.83  5.17  Female     No  Thur   Lunch     4  0.148435\n",
      "94        22.75  3.25  Female     No   Fri  Dinner     2  0.142857\n",
      "104       20.92  4.08  Female     No   Sat  Dinner     2  0.195029\n",
      "111        7.25  1.00  Female     No   Sat  Dinner     1  0.137931\n",
      "114       25.71  4.00  Female     No   Sun  Dinner     3  0.155581\n",
      "115       17.31  3.50  Female     No   Sun  Dinner     2  0.202195\n",
      "117       10.65  1.50  Female     No  Thur   Lunch     2  0.140845\n",
      "118       12.43  1.80  Female     No  Thur   Lunch     2  0.144811\n",
      "119       24.08  2.92  Female     No  Thur   Lunch     4  0.121262\n",
      "121       13.42  1.68  Female     No  Thur   Lunch     2  0.125186\n",
      "124       12.48  2.52  Female     No  Thur   Lunch     2  0.201923\n",
      "125       29.80  4.20  Female     No  Thur   Lunch     6  0.140940\n",
      "127       14.52  2.00  Female     No  Thur   Lunch     2  0.137741\n",
      "128       11.38  2.00  Female     No  Thur   Lunch     2  0.175747\n",
      "131       20.27  2.83  Female     No  Thur   Lunch     2  0.139615\n",
      "132       11.17  1.50  Female     No  Thur   Lunch     2  0.134288\n",
      "133       12.26  2.00  Female     No  Thur   Lunch     2  0.163132\n",
      "134       18.26  3.25  Female     No  Thur   Lunch     2  0.177985\n",
      "135        8.51  1.25  Female     No  Thur   Lunch     2  0.146886\n",
      "136       10.33  2.00  Female     No  Thur   Lunch     2  0.193611\n",
      "137       14.15  2.00  Female     No  Thur   Lunch     2  0.141343\n",
      "139       13.16  2.75  Female     No  Thur   Lunch     2  0.208967\n",
      "140       17.47  3.50  Female     No  Thur   Lunch     2  0.200343\n",
      "143       27.05  5.00  Female     No  Thur   Lunch     6  0.184843\n",
      "144       16.43  2.30  Female     No  Thur   Lunch     2  0.139988\n",
      "145        8.35  1.50  Female     No  Thur   Lunch     2  0.179641\n",
      "146       18.64  1.36  Female     No  Thur   Lunch     3  0.072961\n",
      "147       11.87  1.63  Female     No  Thur   Lunch     2  0.137321\n",
      "155       29.85  5.14  Female     No   Sun  Dinner     5  0.172194\n",
      "157       25.00  3.75  Female     No   Sun  Dinner     4  0.150000\n",
      "158       13.39  2.61  Female     No   Sun  Dinner     2  0.194922\n",
      "162       16.21  2.00  Female     No   Sun  Dinner     3  0.123381\n",
      "223       15.98  3.00  Female     No   Fri   Lunch     3  0.187735\n",
      "238       35.83  4.67  Female     No   Sat  Dinner     3  0.130338\n",
      "243       18.78  3.00  Female     No  Thur  Dinner     2  0.159744\n",
      "('Female', 'Yes')\n",
      "     total_bill   tip     sex smoker   day    time  size   tip_pct\n",
      "67         3.07  1.00  Female    Yes   Sat  Dinner     1  0.325733\n",
      "72        26.86  3.14  Female    Yes   Sat  Dinner     2  0.116902\n",
      "73        25.28  5.00  Female    Yes   Sat  Dinner     2  0.197785\n",
      "92         5.75  1.00  Female    Yes   Fri  Dinner     2  0.173913\n",
      "93        16.32  4.30  Female    Yes   Fri  Dinner     2  0.263480\n",
      "100       11.35  2.50  Female    Yes   Fri  Dinner     2  0.220264\n",
      "101       15.38  3.00  Female    Yes   Fri  Dinner     2  0.195059\n",
      "102       44.30  2.50  Female    Yes   Sat  Dinner     3  0.056433\n",
      "103       22.42  3.48  Female    Yes   Sat  Dinner     2  0.155219\n",
      "109       14.31  4.00  Female    Yes   Sat  Dinner     2  0.279525\n",
      "164       17.51  3.00  Female    Yes   Sun  Dinner     2  0.171331\n",
      "168       10.59  1.61  Female    Yes   Sat  Dinner     2  0.152030\n",
      "169       10.63  2.00  Female    Yes   Sat  Dinner     2  0.188147\n",
      "178        9.60  4.00  Female    Yes   Sun  Dinner     2  0.416667\n",
      "186       20.90  3.50  Female    Yes   Sun  Dinner     3  0.167464\n",
      "188       18.15  3.50  Female    Yes   Sun  Dinner     3  0.192837\n",
      "191       19.81  4.19  Female    Yes  Thur   Lunch     2  0.211509\n",
      "197       43.11  5.00  Female    Yes  Thur   Lunch     4  0.115982\n",
      "198       13.00  2.00  Female    Yes  Thur   Lunch     2  0.153846\n",
      "201       12.74  2.01  Female    Yes  Thur   Lunch     2  0.157771\n",
      "202       13.00  2.00  Female    Yes  Thur   Lunch     2  0.153846\n",
      "203       16.40  2.50  Female    Yes  Thur   Lunch     2  0.152439\n",
      "205       16.47  3.23  Female    Yes  Thur   Lunch     3  0.196114\n",
      "209       12.76  2.23  Female    Yes   Sat  Dinner     2  0.174765\n",
      "213       13.27  2.50  Female    Yes   Sat  Dinner     2  0.188395\n",
      "214       28.17  6.50  Female    Yes   Sat  Dinner     3  0.230742\n",
      "215       12.90  1.10  Female    Yes   Sat  Dinner     2  0.085271\n",
      "219       30.14  3.09  Female    Yes   Sat  Dinner     4  0.102522\n",
      "221       13.42  3.48  Female    Yes   Fri   Lunch     2  0.259314\n",
      "225       16.27  2.50  Female    Yes   Fri   Lunch     2  0.153657\n",
      "226       10.09  2.00  Female    Yes   Fri   Lunch     2  0.198216\n",
      "229       22.12  2.88  Female    Yes   Sat  Dinner     2  0.130199\n",
      "240       27.18  2.00  Female    Yes   Sat  Dinner     2  0.073584\n",
      "('Male', 'No')\n",
      "     total_bill   tip   sex smoker   day    time  size   tip_pct\n",
      "1         10.34  1.66  Male     No   Sun  Dinner     3  0.160542\n",
      "2         21.01  3.50  Male     No   Sun  Dinner     3  0.166587\n",
      "3         23.68  3.31  Male     No   Sun  Dinner     2  0.139780\n",
      "5         25.29  4.71  Male     No   Sun  Dinner     4  0.186240\n",
      "6          8.77  2.00  Male     No   Sun  Dinner     2  0.228050\n",
      "7         26.88  3.12  Male     No   Sun  Dinner     4  0.116071\n",
      "8         15.04  1.96  Male     No   Sun  Dinner     2  0.130319\n",
      "9         14.78  3.23  Male     No   Sun  Dinner     2  0.218539\n",
      "10        10.27  1.71  Male     No   Sun  Dinner     2  0.166504\n",
      "12        15.42  1.57  Male     No   Sun  Dinner     2  0.101816\n",
      "13        18.43  3.00  Male     No   Sun  Dinner     4  0.162778\n",
      "15        21.58  3.92  Male     No   Sun  Dinner     2  0.181650\n",
      "17        16.29  3.71  Male     No   Sun  Dinner     3  0.227747\n",
      "19        20.65  3.35  Male     No   Sat  Dinner     3  0.162228\n",
      "20        17.92  4.08  Male     No   Sat  Dinner     2  0.227679\n",
      "23        39.42  7.58  Male     No   Sat  Dinner     4  0.192288\n",
      "24        19.82  3.18  Male     No   Sat  Dinner     2  0.160444\n",
      "25        17.81  2.34  Male     No   Sat  Dinner     4  0.131387\n",
      "26        13.37  2.00  Male     No   Sat  Dinner     2  0.149589\n",
      "27        12.69  2.00  Male     No   Sat  Dinner     2  0.157604\n",
      "28        21.70  4.30  Male     No   Sat  Dinner     2  0.198157\n",
      "30         9.55  1.45  Male     No   Sat  Dinner     2  0.151832\n",
      "31        18.35  2.50  Male     No   Sat  Dinner     4  0.136240\n",
      "34        17.78  3.27  Male     No   Sat  Dinner     2  0.183915\n",
      "35        24.06  3.60  Male     No   Sat  Dinner     3  0.149626\n",
      "36        16.31  2.00  Male     No   Sat  Dinner     3  0.122624\n",
      "38        18.69  2.31  Male     No   Sat  Dinner     3  0.123596\n",
      "39        31.27  5.00  Male     No   Sat  Dinner     3  0.159898\n",
      "40        16.04  2.24  Male     No   Sat  Dinner     3  0.139651\n",
      "41        17.46  2.54  Male     No   Sun  Dinner     2  0.145475\n",
      "..          ...   ...   ...    ...   ...     ...   ...       ...\n",
      "126        8.52  1.48  Male     No  Thur   Lunch     2  0.173709\n",
      "129       22.82  2.18  Male     No  Thur   Lunch     3  0.095530\n",
      "130       19.08  1.50  Male     No  Thur   Lunch     2  0.078616\n",
      "141       34.30  6.70  Male     No  Thur   Lunch     6  0.195335\n",
      "142       41.19  5.00  Male     No  Thur   Lunch     5  0.121389\n",
      "148        9.78  1.73  Male     No  Thur   Lunch     2  0.176892\n",
      "149        7.51  2.00  Male     No  Thur   Lunch     2  0.266312\n",
      "150       14.07  2.50  Male     No   Sun  Dinner     2  0.177683\n",
      "151       13.13  2.00  Male     No   Sun  Dinner     2  0.152323\n",
      "152       17.26  2.74  Male     No   Sun  Dinner     3  0.158749\n",
      "153       24.55  2.00  Male     No   Sun  Dinner     4  0.081466\n",
      "154       19.77  2.00  Male     No   Sun  Dinner     4  0.101163\n",
      "156       48.17  5.00  Male     No   Sun  Dinner     6  0.103799\n",
      "159       16.49  2.00  Male     No   Sun  Dinner     4  0.121286\n",
      "160       21.50  3.50  Male     No   Sun  Dinner     4  0.162791\n",
      "161       12.66  2.50  Male     No   Sun  Dinner     2  0.197472\n",
      "163       13.81  2.00  Male     No   Sun  Dinner     2  0.144823\n",
      "165       24.52  3.48  Male     No   Sun  Dinner     3  0.141925\n",
      "166       20.76  2.24  Male     No   Sun  Dinner     2  0.107900\n",
      "167       31.71  4.50  Male     No   Sun  Dinner     4  0.141911\n",
      "185       20.69  5.00  Male     No   Sun  Dinner     5  0.241663\n",
      "195        7.56  1.44  Male     No  Thur   Lunch     2  0.190476\n",
      "212       48.33  9.00  Male     No   Sat  Dinner     4  0.186220\n",
      "227       20.45  3.00  Male     No   Sat  Dinner     4  0.146699\n",
      "228       13.28  2.72  Male     No   Sat  Dinner     2  0.204819\n",
      "232       11.61  3.39  Male     No   Sat  Dinner     2  0.291990\n",
      "233       10.77  1.47  Male     No   Sat  Dinner     2  0.136490\n",
      "235       10.07  1.25  Male     No   Sat  Dinner     2  0.124131\n",
      "239       29.03  5.92  Male     No   Sat  Dinner     3  0.203927\n",
      "242       17.82  1.75  Male     No   Sat  Dinner     2  0.098204\n",
      "\n",
      "[97 rows x 8 columns]\n",
      "('Male', 'Yes')\n",
      "     total_bill    tip   sex smoker   day    time  size   tip_pct\n",
      "56        38.01   3.00  Male    Yes   Sat  Dinner     4  0.078927\n",
      "58        11.24   1.76  Male    Yes   Sat  Dinner     2  0.156584\n",
      "60        20.29   3.21  Male    Yes   Sat  Dinner     2  0.158206\n",
      "61        13.81   2.00  Male    Yes   Sat  Dinner     2  0.144823\n",
      "62        11.02   1.98  Male    Yes   Sat  Dinner     2  0.179673\n",
      "63        18.29   3.76  Male    Yes   Sat  Dinner     4  0.205577\n",
      "69        15.01   2.09  Male    Yes   Sat  Dinner     2  0.139241\n",
      "76        17.92   3.08  Male    Yes   Sat  Dinner     2  0.171875\n",
      "80        19.44   3.00  Male    Yes  Thur   Lunch     2  0.154321\n",
      "83        32.68   5.00  Male    Yes  Thur   Lunch     2  0.152999\n",
      "90        28.97   3.00  Male    Yes   Fri  Dinner     2  0.103555\n",
      "95        40.17   4.73  Male    Yes   Fri  Dinner     4  0.117750\n",
      "96        27.28   4.00  Male    Yes   Fri  Dinner     2  0.146628\n",
      "97        12.03   1.50  Male    Yes   Fri  Dinner     2  0.124688\n",
      "98        21.01   3.00  Male    Yes   Fri  Dinner     2  0.142789\n",
      "105       15.36   1.64  Male    Yes   Sat  Dinner     2  0.106771\n",
      "106       20.49   4.06  Male    Yes   Sat  Dinner     2  0.198145\n",
      "107       25.21   4.29  Male    Yes   Sat  Dinner     2  0.170171\n",
      "138       16.00   2.00  Male    Yes  Thur   Lunch     2  0.125000\n",
      "170       50.81  10.00  Male    Yes   Sat  Dinner     3  0.196812\n",
      "171       15.81   3.16  Male    Yes   Sat  Dinner     2  0.199873\n",
      "172        7.25   5.15  Male    Yes   Sun  Dinner     2  0.710345\n",
      "173       31.85   3.18  Male    Yes   Sun  Dinner     2  0.099843\n",
      "174       16.82   4.00  Male    Yes   Sun  Dinner     2  0.237812\n",
      "175       32.90   3.11  Male    Yes   Sun  Dinner     2  0.094529\n",
      "176       17.89   2.00  Male    Yes   Sun  Dinner     2  0.111794\n",
      "177       14.48   2.00  Male    Yes   Sun  Dinner     2  0.138122\n",
      "179       34.63   3.55  Male    Yes   Sun  Dinner     2  0.102512\n",
      "180       34.65   3.68  Male    Yes   Sun  Dinner     4  0.106205\n",
      "181       23.33   5.65  Male    Yes   Sun  Dinner     2  0.242177\n",
      "182       45.35   3.50  Male    Yes   Sun  Dinner     3  0.077178\n",
      "183       23.17   6.50  Male    Yes   Sun  Dinner     4  0.280535\n",
      "184       40.55   3.00  Male    Yes   Sun  Dinner     2  0.073983\n",
      "187       30.46   2.00  Male    Yes   Sun  Dinner     5  0.065660\n",
      "189       23.10   4.00  Male    Yes   Sun  Dinner     3  0.173160\n",
      "190       15.69   1.50  Male    Yes   Sun  Dinner     2  0.095602\n",
      "192       28.44   2.56  Male    Yes  Thur   Lunch     2  0.090014\n",
      "193       15.48   2.02  Male    Yes  Thur   Lunch     2  0.130491\n",
      "194       16.58   4.00  Male    Yes  Thur   Lunch     2  0.241255\n",
      "196       10.34   2.00  Male    Yes  Thur   Lunch     2  0.193424\n",
      "199       13.51   2.00  Male    Yes  Thur   Lunch     2  0.148038\n",
      "200       18.71   4.00  Male    Yes  Thur   Lunch     3  0.213789\n",
      "204       20.53   4.00  Male    Yes  Thur   Lunch     4  0.194837\n",
      "206       26.59   3.41  Male    Yes   Sat  Dinner     3  0.128244\n",
      "207       38.73   3.00  Male    Yes   Sat  Dinner     4  0.077459\n",
      "208       24.27   2.03  Male    Yes   Sat  Dinner     2  0.083642\n",
      "210       30.06   2.00  Male    Yes   Sat  Dinner     3  0.066534\n",
      "211       25.89   5.16  Male    Yes   Sat  Dinner     4  0.199305\n",
      "216       28.15   3.00  Male    Yes   Sat  Dinner     5  0.106572\n",
      "217       11.59   1.50  Male    Yes   Sat  Dinner     2  0.129422\n",
      "218        7.74   1.44  Male    Yes   Sat  Dinner     2  0.186047\n",
      "220       12.16   2.20  Male    Yes   Fri   Lunch     2  0.180921\n",
      "222        8.58   1.92  Male    Yes   Fri   Lunch     1  0.223776\n",
      "224       13.42   1.58  Male    Yes   Fri   Lunch     2  0.117735\n",
      "230       24.01   2.00  Male    Yes   Sat  Dinner     4  0.083299\n",
      "231       15.69   3.00  Male    Yes   Sat  Dinner     3  0.191205\n",
      "234       15.53   3.00  Male    Yes   Sat  Dinner     2  0.193175\n",
      "236       12.60   1.00  Male    Yes   Sat  Dinner     2  0.079365\n",
      "237       32.83   1.17  Male    Yes   Sat  Dinner     2  0.035638\n",
      "241       22.67   2.00  Male    Yes   Sat  Dinner     2  0.088222\n"
     ]
    }
   ],
   "source": [
    "for i,j in grouped:\n",
    "    print(i)\n",
    "    print(j)"
   ]
  },
  {
   "cell_type": "code",
   "execution_count": 47,
   "metadata": {
    "collapsed": true
   },
   "outputs": [],
   "source": [
    "grouped_pct = grouped['tip_pct']"
   ]
  },
  {
   "cell_type": "code",
   "execution_count": 49,
   "metadata": {
    "collapsed": false
   },
   "outputs": [
    {
     "name": "stdout",
     "output_type": "stream",
     "text": [
      "('Female', 'No')\n",
      "0      0.059447\n",
      "4      0.146808\n",
      "11     0.141804\n",
      "14     0.203641\n",
      "16     0.161665\n",
      "18     0.206246\n",
      "21     0.135535\n",
      "22     0.141408\n",
      "29     0.152672\n",
      "32     0.199203\n",
      "33     0.118415\n",
      "37     0.181335\n",
      "51     0.252672\n",
      "52     0.149382\n",
      "57     0.056797\n",
      "66     0.150152\n",
      "71     0.175747\n",
      "74     0.149355\n",
      "82     0.181728\n",
      "85     0.148435\n",
      "94     0.142857\n",
      "104    0.195029\n",
      "111    0.137931\n",
      "114    0.155581\n",
      "115    0.202195\n",
      "117    0.140845\n",
      "118    0.144811\n",
      "119    0.121262\n",
      "121    0.125186\n",
      "124    0.201923\n",
      "125    0.140940\n",
      "127    0.137741\n",
      "128    0.175747\n",
      "131    0.139615\n",
      "132    0.134288\n",
      "133    0.163132\n",
      "134    0.177985\n",
      "135    0.146886\n",
      "136    0.193611\n",
      "137    0.141343\n",
      "139    0.208967\n",
      "140    0.200343\n",
      "143    0.184843\n",
      "144    0.139988\n",
      "145    0.179641\n",
      "146    0.072961\n",
      "147    0.137321\n",
      "155    0.172194\n",
      "157    0.150000\n",
      "158    0.194922\n",
      "162    0.123381\n",
      "223    0.187735\n",
      "238    0.130338\n",
      "243    0.159744\n",
      "Name: tip_pct, dtype: float64\n",
      "('Female', 'Yes')\n",
      "67     0.325733\n",
      "72     0.116902\n",
      "73     0.197785\n",
      "92     0.173913\n",
      "93     0.263480\n",
      "100    0.220264\n",
      "101    0.195059\n",
      "102    0.056433\n",
      "103    0.155219\n",
      "109    0.279525\n",
      "164    0.171331\n",
      "168    0.152030\n",
      "169    0.188147\n",
      "178    0.416667\n",
      "186    0.167464\n",
      "188    0.192837\n",
      "191    0.211509\n",
      "197    0.115982\n",
      "198    0.153846\n",
      "201    0.157771\n",
      "202    0.153846\n",
      "203    0.152439\n",
      "205    0.196114\n",
      "209    0.174765\n",
      "213    0.188395\n",
      "214    0.230742\n",
      "215    0.085271\n",
      "219    0.102522\n",
      "221    0.259314\n",
      "225    0.153657\n",
      "226    0.198216\n",
      "229    0.130199\n",
      "240    0.073584\n",
      "Name: tip_pct, dtype: float64\n",
      "('Male', 'No')\n",
      "1      0.160542\n",
      "2      0.166587\n",
      "3      0.139780\n",
      "5      0.186240\n",
      "6      0.228050\n",
      "7      0.116071\n",
      "8      0.130319\n",
      "9      0.218539\n",
      "10     0.166504\n",
      "12     0.101816\n",
      "13     0.162778\n",
      "15     0.181650\n",
      "17     0.227747\n",
      "19     0.162228\n",
      "20     0.227679\n",
      "23     0.192288\n",
      "24     0.160444\n",
      "25     0.131387\n",
      "26     0.149589\n",
      "27     0.157604\n",
      "28     0.198157\n",
      "30     0.151832\n",
      "31     0.136240\n",
      "34     0.183915\n",
      "35     0.149626\n",
      "36     0.122624\n",
      "38     0.123596\n",
      "39     0.159898\n",
      "40     0.139651\n",
      "41     0.145475\n",
      "         ...   \n",
      "126    0.173709\n",
      "129    0.095530\n",
      "130    0.078616\n",
      "141    0.195335\n",
      "142    0.121389\n",
      "148    0.176892\n",
      "149    0.266312\n",
      "150    0.177683\n",
      "151    0.152323\n",
      "152    0.158749\n",
      "153    0.081466\n",
      "154    0.101163\n",
      "156    0.103799\n",
      "159    0.121286\n",
      "160    0.162791\n",
      "161    0.197472\n",
      "163    0.144823\n",
      "165    0.141925\n",
      "166    0.107900\n",
      "167    0.141911\n",
      "185    0.241663\n",
      "195    0.190476\n",
      "212    0.186220\n",
      "227    0.146699\n",
      "228    0.204819\n",
      "232    0.291990\n",
      "233    0.136490\n",
      "235    0.124131\n",
      "239    0.203927\n",
      "242    0.098204\n",
      "Name: tip_pct, dtype: float64\n",
      "('Male', 'Yes')\n",
      "56     0.078927\n",
      "58     0.156584\n",
      "60     0.158206\n",
      "61     0.144823\n",
      "62     0.179673\n",
      "63     0.205577\n",
      "69     0.139241\n",
      "76     0.171875\n",
      "80     0.154321\n",
      "83     0.152999\n",
      "90     0.103555\n",
      "95     0.117750\n",
      "96     0.146628\n",
      "97     0.124688\n",
      "98     0.142789\n",
      "105    0.106771\n",
      "106    0.198145\n",
      "107    0.170171\n",
      "138    0.125000\n",
      "170    0.196812\n",
      "171    0.199873\n",
      "172    0.710345\n",
      "173    0.099843\n",
      "174    0.237812\n",
      "175    0.094529\n",
      "176    0.111794\n",
      "177    0.138122\n",
      "179    0.102512\n",
      "180    0.106205\n",
      "181    0.242177\n",
      "182    0.077178\n",
      "183    0.280535\n",
      "184    0.073983\n",
      "187    0.065660\n",
      "189    0.173160\n",
      "190    0.095602\n",
      "192    0.090014\n",
      "193    0.130491\n",
      "194    0.241255\n",
      "196    0.193424\n",
      "199    0.148038\n",
      "200    0.213789\n",
      "204    0.194837\n",
      "206    0.128244\n",
      "207    0.077459\n",
      "208    0.083642\n",
      "210    0.066534\n",
      "211    0.199305\n",
      "216    0.106572\n",
      "217    0.129422\n",
      "218    0.186047\n",
      "220    0.180921\n",
      "222    0.223776\n",
      "224    0.117735\n",
      "230    0.083299\n",
      "231    0.191205\n",
      "234    0.193175\n",
      "236    0.079365\n",
      "237    0.035638\n",
      "241    0.088222\n",
      "Name: tip_pct, dtype: float64\n"
     ]
    }
   ],
   "source": [
    "for i,j in grouped_pct:\n",
    "    print(i)\n",
    "    print(j)"
   ]
  },
  {
   "cell_type": "code",
   "execution_count": 51,
   "metadata": {
    "collapsed": false
   },
   "outputs": [
    {
     "data": {
      "text/plain": [
       "sex     smoker\n",
       "Female  No        0.156921\n",
       "        Yes       0.182150\n",
       "Male    No        0.160669\n",
       "        Yes       0.152771\n",
       "Name: tip_pct, dtype: float64"
      ]
     },
     "execution_count": 51,
     "metadata": {},
     "output_type": "execute_result"
    }
   ],
   "source": [
    "grouped_pct.agg('mean')"
   ]
  },
  {
   "cell_type": "code",
   "execution_count": 52,
   "metadata": {
    "collapsed": false
   },
   "outputs": [
    {
     "data": {
      "text/html": [
       "<div>\n",
       "<table border=\"1\" class=\"dataframe\">\n",
       "  <thead>\n",
       "    <tr style=\"text-align: right;\">\n",
       "      <th></th>\n",
       "      <th></th>\n",
       "      <th>mean</th>\n",
       "      <th>std</th>\n",
       "      <th>peak_to_peak</th>\n",
       "    </tr>\n",
       "    <tr>\n",
       "      <th>sex</th>\n",
       "      <th>smoker</th>\n",
       "      <th></th>\n",
       "      <th></th>\n",
       "      <th></th>\n",
       "    </tr>\n",
       "  </thead>\n",
       "  <tbody>\n",
       "    <tr>\n",
       "      <th rowspan=\"2\" valign=\"top\">Female</th>\n",
       "      <th>No</th>\n",
       "      <td>0.156921</td>\n",
       "      <td>0.036421</td>\n",
       "      <td>0.195876</td>\n",
       "    </tr>\n",
       "    <tr>\n",
       "      <th>Yes</th>\n",
       "      <td>0.182150</td>\n",
       "      <td>0.071595</td>\n",
       "      <td>0.360233</td>\n",
       "    </tr>\n",
       "    <tr>\n",
       "      <th rowspan=\"2\" valign=\"top\">Male</th>\n",
       "      <th>No</th>\n",
       "      <td>0.160669</td>\n",
       "      <td>0.041849</td>\n",
       "      <td>0.220186</td>\n",
       "    </tr>\n",
       "    <tr>\n",
       "      <th>Yes</th>\n",
       "      <td>0.152771</td>\n",
       "      <td>0.090588</td>\n",
       "      <td>0.674707</td>\n",
       "    </tr>\n",
       "  </tbody>\n",
       "</table>\n",
       "</div>"
      ],
      "text/plain": [
       "                   mean       std  peak_to_peak\n",
       "sex    smoker                                  \n",
       "Female No      0.156921  0.036421      0.195876\n",
       "       Yes     0.182150  0.071595      0.360233\n",
       "Male   No      0.160669  0.041849      0.220186\n",
       "       Yes     0.152771  0.090588      0.674707"
      ]
     },
     "execution_count": 52,
     "metadata": {},
     "output_type": "execute_result"
    }
   ],
   "source": [
    "grouped_pct.agg(['mean','std',peak_to_peak])"
   ]
  },
  {
   "cell_type": "code",
   "execution_count": 53,
   "metadata": {
    "collapsed": true
   },
   "outputs": [],
   "source": [
    "#to change the column names pass as a (name.function) tuple"
   ]
  },
  {
   "cell_type": "code",
   "execution_count": 54,
   "metadata": {
    "collapsed": false
   },
   "outputs": [
    {
     "data": {
      "text/html": [
       "<div>\n",
       "<table border=\"1\" class=\"dataframe\">\n",
       "  <thead>\n",
       "    <tr style=\"text-align: right;\">\n",
       "      <th></th>\n",
       "      <th></th>\n",
       "      <th>foo</th>\n",
       "      <th>bar</th>\n",
       "    </tr>\n",
       "    <tr>\n",
       "      <th>sex</th>\n",
       "      <th>smoker</th>\n",
       "      <th></th>\n",
       "      <th></th>\n",
       "    </tr>\n",
       "  </thead>\n",
       "  <tbody>\n",
       "    <tr>\n",
       "      <th rowspan=\"2\" valign=\"top\">Female</th>\n",
       "      <th>No</th>\n",
       "      <td>0.156921</td>\n",
       "      <td>0.036421</td>\n",
       "    </tr>\n",
       "    <tr>\n",
       "      <th>Yes</th>\n",
       "      <td>0.182150</td>\n",
       "      <td>0.071595</td>\n",
       "    </tr>\n",
       "    <tr>\n",
       "      <th rowspan=\"2\" valign=\"top\">Male</th>\n",
       "      <th>No</th>\n",
       "      <td>0.160669</td>\n",
       "      <td>0.041849</td>\n",
       "    </tr>\n",
       "    <tr>\n",
       "      <th>Yes</th>\n",
       "      <td>0.152771</td>\n",
       "      <td>0.090588</td>\n",
       "    </tr>\n",
       "  </tbody>\n",
       "</table>\n",
       "</div>"
      ],
      "text/plain": [
       "                    foo       bar\n",
       "sex    smoker                    \n",
       "Female No      0.156921  0.036421\n",
       "       Yes     0.182150  0.071595\n",
       "Male   No      0.160669  0.041849\n",
       "       Yes     0.152771  0.090588"
      ]
     },
     "execution_count": 54,
     "metadata": {},
     "output_type": "execute_result"
    }
   ],
   "source": [
    "grouped_pct.agg([('foo','mean'),('bar',np.std)])"
   ]
  },
  {
   "cell_type": "code",
   "execution_count": 55,
   "metadata": {
    "collapsed": true
   },
   "outputs": [],
   "source": [
    "#with dataframe we have more options "
   ]
  },
  {
   "cell_type": "code",
   "execution_count": 56,
   "metadata": {
    "collapsed": true
   },
   "outputs": [],
   "source": [
    "functions = ['count','mean','max']\n",
    "result = grouped['tip_pct','total_bill'].agg(functions)"
   ]
  },
  {
   "cell_type": "code",
   "execution_count": 57,
   "metadata": {
    "collapsed": false
   },
   "outputs": [
    {
     "data": {
      "text/html": [
       "<div>\n",
       "<table border=\"1\" class=\"dataframe\">\n",
       "  <thead>\n",
       "    <tr>\n",
       "      <th></th>\n",
       "      <th></th>\n",
       "      <th colspan=\"3\" halign=\"left\">tip_pct</th>\n",
       "      <th colspan=\"3\" halign=\"left\">total_bill</th>\n",
       "    </tr>\n",
       "    <tr>\n",
       "      <th></th>\n",
       "      <th></th>\n",
       "      <th>count</th>\n",
       "      <th>mean</th>\n",
       "      <th>max</th>\n",
       "      <th>count</th>\n",
       "      <th>mean</th>\n",
       "      <th>max</th>\n",
       "    </tr>\n",
       "    <tr>\n",
       "      <th>sex</th>\n",
       "      <th>smoker</th>\n",
       "      <th></th>\n",
       "      <th></th>\n",
       "      <th></th>\n",
       "      <th></th>\n",
       "      <th></th>\n",
       "      <th></th>\n",
       "    </tr>\n",
       "  </thead>\n",
       "  <tbody>\n",
       "    <tr>\n",
       "      <th rowspan=\"2\" valign=\"top\">Female</th>\n",
       "      <th>No</th>\n",
       "      <td>54</td>\n",
       "      <td>0.156921</td>\n",
       "      <td>0.252672</td>\n",
       "      <td>54</td>\n",
       "      <td>18.105185</td>\n",
       "      <td>35.83</td>\n",
       "    </tr>\n",
       "    <tr>\n",
       "      <th>Yes</th>\n",
       "      <td>33</td>\n",
       "      <td>0.182150</td>\n",
       "      <td>0.416667</td>\n",
       "      <td>33</td>\n",
       "      <td>17.977879</td>\n",
       "      <td>44.30</td>\n",
       "    </tr>\n",
       "    <tr>\n",
       "      <th rowspan=\"2\" valign=\"top\">Male</th>\n",
       "      <th>No</th>\n",
       "      <td>97</td>\n",
       "      <td>0.160669</td>\n",
       "      <td>0.291990</td>\n",
       "      <td>97</td>\n",
       "      <td>19.791237</td>\n",
       "      <td>48.33</td>\n",
       "    </tr>\n",
       "    <tr>\n",
       "      <th>Yes</th>\n",
       "      <td>60</td>\n",
       "      <td>0.152771</td>\n",
       "      <td>0.710345</td>\n",
       "      <td>60</td>\n",
       "      <td>22.284500</td>\n",
       "      <td>50.81</td>\n",
       "    </tr>\n",
       "  </tbody>\n",
       "</table>\n",
       "</div>"
      ],
      "text/plain": [
       "              tip_pct                     total_bill                  \n",
       "                count      mean       max      count       mean    max\n",
       "sex    smoker                                                         \n",
       "Female No          54  0.156921  0.252672         54  18.105185  35.83\n",
       "       Yes         33  0.182150  0.416667         33  17.977879  44.30\n",
       "Male   No          97  0.160669  0.291990         97  19.791237  48.33\n",
       "       Yes         60  0.152771  0.710345         60  22.284500  50.81"
      ]
     },
     "execution_count": 57,
     "metadata": {},
     "output_type": "execute_result"
    }
   ],
   "source": [
    "result"
   ]
  },
  {
   "cell_type": "code",
   "execution_count": 58,
   "metadata": {
    "collapsed": false
   },
   "outputs": [
    {
     "data": {
      "text/html": [
       "<div>\n",
       "<table border=\"1\" class=\"dataframe\">\n",
       "  <thead>\n",
       "    <tr style=\"text-align: right;\">\n",
       "      <th></th>\n",
       "      <th></th>\n",
       "      <th>count</th>\n",
       "      <th>mean</th>\n",
       "      <th>max</th>\n",
       "    </tr>\n",
       "    <tr>\n",
       "      <th>sex</th>\n",
       "      <th>smoker</th>\n",
       "      <th></th>\n",
       "      <th></th>\n",
       "      <th></th>\n",
       "    </tr>\n",
       "  </thead>\n",
       "  <tbody>\n",
       "    <tr>\n",
       "      <th rowspan=\"2\" valign=\"top\">Female</th>\n",
       "      <th>No</th>\n",
       "      <td>54</td>\n",
       "      <td>0.156921</td>\n",
       "      <td>0.252672</td>\n",
       "    </tr>\n",
       "    <tr>\n",
       "      <th>Yes</th>\n",
       "      <td>33</td>\n",
       "      <td>0.182150</td>\n",
       "      <td>0.416667</td>\n",
       "    </tr>\n",
       "    <tr>\n",
       "      <th rowspan=\"2\" valign=\"top\">Male</th>\n",
       "      <th>No</th>\n",
       "      <td>97</td>\n",
       "      <td>0.160669</td>\n",
       "      <td>0.291990</td>\n",
       "    </tr>\n",
       "    <tr>\n",
       "      <th>Yes</th>\n",
       "      <td>60</td>\n",
       "      <td>0.152771</td>\n",
       "      <td>0.710345</td>\n",
       "    </tr>\n",
       "  </tbody>\n",
       "</table>\n",
       "</div>"
      ],
      "text/plain": [
       "               count      mean       max\n",
       "sex    smoker                           \n",
       "Female No         54  0.156921  0.252672\n",
       "       Yes        33  0.182150  0.416667\n",
       "Male   No         97  0.160669  0.291990\n",
       "       Yes        60  0.152771  0.710345"
      ]
     },
     "execution_count": 58,
     "metadata": {},
     "output_type": "execute_result"
    }
   ],
   "source": [
    "result['tip_pct']"
   ]
  },
  {
   "cell_type": "code",
   "execution_count": 59,
   "metadata": {
    "collapsed": true
   },
   "outputs": [],
   "source": [
    "#list of tuples with custom names can also be passed"
   ]
  },
  {
   "cell_type": "code",
   "execution_count": 60,
   "metadata": {
    "collapsed": true
   },
   "outputs": [],
   "source": [
    "ftuples = [('Durchschnitt','mean'),('Abweichung',np.var)]"
   ]
  },
  {
   "cell_type": "code",
   "execution_count": 61,
   "metadata": {
    "collapsed": false
   },
   "outputs": [
    {
     "data": {
      "text/html": [
       "<div>\n",
       "<table border=\"1\" class=\"dataframe\">\n",
       "  <thead>\n",
       "    <tr>\n",
       "      <th></th>\n",
       "      <th></th>\n",
       "      <th colspan=\"2\" halign=\"left\">tip_pct</th>\n",
       "      <th colspan=\"2\" halign=\"left\">total_bill</th>\n",
       "    </tr>\n",
       "    <tr>\n",
       "      <th></th>\n",
       "      <th></th>\n",
       "      <th>Durchschnitt</th>\n",
       "      <th>Abweichung</th>\n",
       "      <th>Durchschnitt</th>\n",
       "      <th>Abweichung</th>\n",
       "    </tr>\n",
       "    <tr>\n",
       "      <th>sex</th>\n",
       "      <th>smoker</th>\n",
       "      <th></th>\n",
       "      <th></th>\n",
       "      <th></th>\n",
       "      <th></th>\n",
       "    </tr>\n",
       "  </thead>\n",
       "  <tbody>\n",
       "    <tr>\n",
       "      <th rowspan=\"2\" valign=\"top\">Female</th>\n",
       "      <th>No</th>\n",
       "      <td>0.156921</td>\n",
       "      <td>0.001327</td>\n",
       "      <td>18.105185</td>\n",
       "      <td>53.092422</td>\n",
       "    </tr>\n",
       "    <tr>\n",
       "      <th>Yes</th>\n",
       "      <td>0.182150</td>\n",
       "      <td>0.005126</td>\n",
       "      <td>17.977879</td>\n",
       "      <td>84.451517</td>\n",
       "    </tr>\n",
       "    <tr>\n",
       "      <th rowspan=\"2\" valign=\"top\">Male</th>\n",
       "      <th>No</th>\n",
       "      <td>0.160669</td>\n",
       "      <td>0.001751</td>\n",
       "      <td>19.791237</td>\n",
       "      <td>76.152961</td>\n",
       "    </tr>\n",
       "    <tr>\n",
       "      <th>Yes</th>\n",
       "      <td>0.152771</td>\n",
       "      <td>0.008206</td>\n",
       "      <td>22.284500</td>\n",
       "      <td>98.244673</td>\n",
       "    </tr>\n",
       "  </tbody>\n",
       "</table>\n",
       "</div>"
      ],
      "text/plain": [
       "                   tip_pct              total_bill           \n",
       "              Durchschnitt Abweichung Durchschnitt Abweichung\n",
       "sex    smoker                                                \n",
       "Female No         0.156921   0.001327    18.105185  53.092422\n",
       "       Yes        0.182150   0.005126    17.977879  84.451517\n",
       "Male   No         0.160669   0.001751    19.791237  76.152961\n",
       "       Yes        0.152771   0.008206    22.284500  98.244673"
      ]
     },
     "execution_count": 61,
     "metadata": {},
     "output_type": "execute_result"
    }
   ],
   "source": [
    "grouped['tip_pct','total_bill'].agg(ftuples)"
   ]
  },
  {
   "cell_type": "code",
   "execution_count": 62,
   "metadata": {
    "collapsed": true
   },
   "outputs": [],
   "source": [
    "#apply different functions to different columns"
   ]
  },
  {
   "cell_type": "code",
   "execution_count": 63,
   "metadata": {
    "collapsed": false
   },
   "outputs": [
    {
     "data": {
      "text/html": [
       "<div>\n",
       "<table border=\"1\" class=\"dataframe\">\n",
       "  <thead>\n",
       "    <tr style=\"text-align: right;\">\n",
       "      <th></th>\n",
       "      <th></th>\n",
       "      <th>tip</th>\n",
       "      <th>size</th>\n",
       "    </tr>\n",
       "    <tr>\n",
       "      <th>sex</th>\n",
       "      <th>smoker</th>\n",
       "      <th></th>\n",
       "      <th></th>\n",
       "    </tr>\n",
       "  </thead>\n",
       "  <tbody>\n",
       "    <tr>\n",
       "      <th rowspan=\"2\" valign=\"top\">Female</th>\n",
       "      <th>No</th>\n",
       "      <td>5.2</td>\n",
       "      <td>140</td>\n",
       "    </tr>\n",
       "    <tr>\n",
       "      <th>Yes</th>\n",
       "      <td>6.5</td>\n",
       "      <td>74</td>\n",
       "    </tr>\n",
       "    <tr>\n",
       "      <th rowspan=\"2\" valign=\"top\">Male</th>\n",
       "      <th>No</th>\n",
       "      <td>9.0</td>\n",
       "      <td>263</td>\n",
       "    </tr>\n",
       "    <tr>\n",
       "      <th>Yes</th>\n",
       "      <td>10.0</td>\n",
       "      <td>150</td>\n",
       "    </tr>\n",
       "  </tbody>\n",
       "</table>\n",
       "</div>"
      ],
      "text/plain": [
       "                tip  size\n",
       "sex    smoker            \n",
       "Female No       5.2   140\n",
       "       Yes      6.5    74\n",
       "Male   No       9.0   263\n",
       "       Yes     10.0   150"
      ]
     },
     "execution_count": 63,
     "metadata": {},
     "output_type": "execute_result"
    }
   ],
   "source": [
    "grouped.agg({'tip':np.max,'size':'sum'})"
   ]
  },
  {
   "cell_type": "code",
   "execution_count": 64,
   "metadata": {
    "collapsed": false
   },
   "outputs": [
    {
     "data": {
      "text/html": [
       "<div>\n",
       "<table border=\"1\" class=\"dataframe\">\n",
       "  <thead>\n",
       "    <tr>\n",
       "      <th></th>\n",
       "      <th></th>\n",
       "      <th colspan=\"4\" halign=\"left\">tip_pct</th>\n",
       "      <th>size</th>\n",
       "    </tr>\n",
       "    <tr>\n",
       "      <th></th>\n",
       "      <th></th>\n",
       "      <th>min</th>\n",
       "      <th>max</th>\n",
       "      <th>mean</th>\n",
       "      <th>std</th>\n",
       "      <th>sum</th>\n",
       "    </tr>\n",
       "    <tr>\n",
       "      <th>sex</th>\n",
       "      <th>smoker</th>\n",
       "      <th></th>\n",
       "      <th></th>\n",
       "      <th></th>\n",
       "      <th></th>\n",
       "      <th></th>\n",
       "    </tr>\n",
       "  </thead>\n",
       "  <tbody>\n",
       "    <tr>\n",
       "      <th rowspan=\"2\" valign=\"top\">Female</th>\n",
       "      <th>No</th>\n",
       "      <td>0.056797</td>\n",
       "      <td>0.252672</td>\n",
       "      <td>0.156921</td>\n",
       "      <td>0.036421</td>\n",
       "      <td>140</td>\n",
       "    </tr>\n",
       "    <tr>\n",
       "      <th>Yes</th>\n",
       "      <td>0.056433</td>\n",
       "      <td>0.416667</td>\n",
       "      <td>0.182150</td>\n",
       "      <td>0.071595</td>\n",
       "      <td>74</td>\n",
       "    </tr>\n",
       "    <tr>\n",
       "      <th rowspan=\"2\" valign=\"top\">Male</th>\n",
       "      <th>No</th>\n",
       "      <td>0.071804</td>\n",
       "      <td>0.291990</td>\n",
       "      <td>0.160669</td>\n",
       "      <td>0.041849</td>\n",
       "      <td>263</td>\n",
       "    </tr>\n",
       "    <tr>\n",
       "      <th>Yes</th>\n",
       "      <td>0.035638</td>\n",
       "      <td>0.710345</td>\n",
       "      <td>0.152771</td>\n",
       "      <td>0.090588</td>\n",
       "      <td>150</td>\n",
       "    </tr>\n",
       "  </tbody>\n",
       "</table>\n",
       "</div>"
      ],
      "text/plain": [
       "                tip_pct                               size\n",
       "                    min       max      mean       std  sum\n",
       "sex    smoker                                             \n",
       "Female No      0.056797  0.252672  0.156921  0.036421  140\n",
       "       Yes     0.056433  0.416667  0.182150  0.071595   74\n",
       "Male   No      0.071804  0.291990  0.160669  0.041849  263\n",
       "       Yes     0.035638  0.710345  0.152771  0.090588  150"
      ]
     },
     "execution_count": 64,
     "metadata": {},
     "output_type": "execute_result"
    }
   ],
   "source": [
    "grouped.agg({'tip_pct':['min','max','mean','std'],'size':'sum'})"
   ]
  },
  {
   "cell_type": "code",
   "execution_count": 65,
   "metadata": {
    "collapsed": true
   },
   "outputs": [],
   "source": [
    "#returning aggregated data in unindexed form"
   ]
  },
  {
   "cell_type": "code",
   "execution_count": 3,
   "metadata": {
    "collapsed": false
   },
   "outputs": [
    {
     "data": {
      "text/html": [
       "<div>\n",
       "<table border=\"1\" class=\"dataframe\">\n",
       "  <thead>\n",
       "    <tr style=\"text-align: right;\">\n",
       "      <th></th>\n",
       "      <th>sex</th>\n",
       "      <th>smoker</th>\n",
       "      <th>total_bill</th>\n",
       "      <th>tip</th>\n",
       "      <th>size</th>\n",
       "    </tr>\n",
       "  </thead>\n",
       "  <tbody>\n",
       "    <tr>\n",
       "      <th>0</th>\n",
       "      <td>Female</td>\n",
       "      <td>No</td>\n",
       "      <td>18.105185</td>\n",
       "      <td>2.773519</td>\n",
       "      <td>2.592593</td>\n",
       "    </tr>\n",
       "    <tr>\n",
       "      <th>1</th>\n",
       "      <td>Female</td>\n",
       "      <td>Yes</td>\n",
       "      <td>17.977879</td>\n",
       "      <td>2.931515</td>\n",
       "      <td>2.242424</td>\n",
       "    </tr>\n",
       "    <tr>\n",
       "      <th>2</th>\n",
       "      <td>Male</td>\n",
       "      <td>No</td>\n",
       "      <td>19.791237</td>\n",
       "      <td>3.113402</td>\n",
       "      <td>2.711340</td>\n",
       "    </tr>\n",
       "    <tr>\n",
       "      <th>3</th>\n",
       "      <td>Male</td>\n",
       "      <td>Yes</td>\n",
       "      <td>22.284500</td>\n",
       "      <td>3.051167</td>\n",
       "      <td>2.500000</td>\n",
       "    </tr>\n",
       "  </tbody>\n",
       "</table>\n",
       "</div>"
      ],
      "text/plain": [
       "      sex smoker  total_bill       tip      size\n",
       "0  Female     No   18.105185  2.773519  2.592593\n",
       "1  Female    Yes   17.977879  2.931515  2.242424\n",
       "2    Male     No   19.791237  3.113402  2.711340\n",
       "3    Male    Yes   22.284500  3.051167  2.500000"
      ]
     },
     "execution_count": 3,
     "metadata": {},
     "output_type": "execute_result"
    }
   ],
   "source": [
    "tips.groupby(['sex','smoker'],as_index=False).mean()"
   ]
  },
  {
   "cell_type": "markdown",
   "metadata": {
    "collapsed": true
   },
   "source": [
    "# Group-wise Operations and Transformations"
   ]
  },
  {
   "cell_type": "code",
   "execution_count": 7,
   "metadata": {
    "collapsed": true
   },
   "outputs": [],
   "source": [
    "#add a column to a DataFrame containing group means for each index"
   ]
  },
  {
   "cell_type": "code",
   "execution_count": 6,
   "metadata": {
    "collapsed": false
   },
   "outputs": [
    {
     "data": {
      "text/html": [
       "<div>\n",
       "<table border=\"1\" class=\"dataframe\">\n",
       "  <thead>\n",
       "    <tr style=\"text-align: right;\">\n",
       "      <th></th>\n",
       "      <th>data1</th>\n",
       "      <th>data2</th>\n",
       "      <th>key1</th>\n",
       "      <th>key2</th>\n",
       "    </tr>\n",
       "  </thead>\n",
       "  <tbody>\n",
       "    <tr>\n",
       "      <th>0</th>\n",
       "      <td>0.124734</td>\n",
       "      <td>0.225007</td>\n",
       "      <td>a</td>\n",
       "      <td>one</td>\n",
       "    </tr>\n",
       "    <tr>\n",
       "      <th>1</th>\n",
       "      <td>-0.716090</td>\n",
       "      <td>0.872185</td>\n",
       "      <td>a</td>\n",
       "      <td>two</td>\n",
       "    </tr>\n",
       "    <tr>\n",
       "      <th>2</th>\n",
       "      <td>-1.342068</td>\n",
       "      <td>0.158098</td>\n",
       "      <td>b</td>\n",
       "      <td>one</td>\n",
       "    </tr>\n",
       "    <tr>\n",
       "      <th>3</th>\n",
       "      <td>0.353907</td>\n",
       "      <td>-1.143855</td>\n",
       "      <td>b</td>\n",
       "      <td>two</td>\n",
       "    </tr>\n",
       "    <tr>\n",
       "      <th>4</th>\n",
       "      <td>1.099746</td>\n",
       "      <td>0.409517</td>\n",
       "      <td>a</td>\n",
       "      <td>one</td>\n",
       "    </tr>\n",
       "  </tbody>\n",
       "</table>\n",
       "</div>"
      ],
      "text/plain": [
       "      data1     data2 key1 key2\n",
       "0  0.124734  0.225007    a  one\n",
       "1 -0.716090  0.872185    a  two\n",
       "2 -1.342068  0.158098    b  one\n",
       "3  0.353907 -1.143855    b  two\n",
       "4  1.099746  0.409517    a  one"
      ]
     },
     "execution_count": 6,
     "metadata": {},
     "output_type": "execute_result"
    }
   ],
   "source": [
    "df"
   ]
  },
  {
   "cell_type": "code",
   "execution_count": 8,
   "metadata": {
    "collapsed": true
   },
   "outputs": [],
   "source": [
    "#one way to do is to aggregate and then merge"
   ]
  },
  {
   "cell_type": "code",
   "execution_count": 9,
   "metadata": {
    "collapsed": false
   },
   "outputs": [
    {
     "data": {
      "text/html": [
       "<div>\n",
       "<table border=\"1\" class=\"dataframe\">\n",
       "  <thead>\n",
       "    <tr style=\"text-align: right;\">\n",
       "      <th></th>\n",
       "      <th>mean_data1</th>\n",
       "      <th>mean_data2</th>\n",
       "    </tr>\n",
       "    <tr>\n",
       "      <th>key1</th>\n",
       "      <th></th>\n",
       "      <th></th>\n",
       "    </tr>\n",
       "  </thead>\n",
       "  <tbody>\n",
       "    <tr>\n",
       "      <th>a</th>\n",
       "      <td>0.169463</td>\n",
       "      <td>0.502236</td>\n",
       "    </tr>\n",
       "    <tr>\n",
       "      <th>b</th>\n",
       "      <td>-0.494081</td>\n",
       "      <td>-0.492878</td>\n",
       "    </tr>\n",
       "  </tbody>\n",
       "</table>\n",
       "</div>"
      ],
      "text/plain": [
       "      mean_data1  mean_data2\n",
       "key1                        \n",
       "a       0.169463    0.502236\n",
       "b      -0.494081   -0.492878"
      ]
     },
     "execution_count": 9,
     "metadata": {},
     "output_type": "execute_result"
    }
   ],
   "source": [
    "k1_means = df.groupby('key1').mean().add_prefix('mean_')\n",
    "k1_means"
   ]
  },
  {
   "cell_type": "code",
   "execution_count": 13,
   "metadata": {
    "collapsed": false
   },
   "outputs": [
    {
     "data": {
      "text/html": [
       "<div>\n",
       "<table border=\"1\" class=\"dataframe\">\n",
       "  <thead>\n",
       "    <tr style=\"text-align: right;\">\n",
       "      <th></th>\n",
       "      <th>data1</th>\n",
       "      <th>data2</th>\n",
       "      <th>key1</th>\n",
       "      <th>key2</th>\n",
       "      <th>mean_data1</th>\n",
       "      <th>mean_data2</th>\n",
       "    </tr>\n",
       "  </thead>\n",
       "  <tbody>\n",
       "    <tr>\n",
       "      <th>0</th>\n",
       "      <td>0.124734</td>\n",
       "      <td>0.225007</td>\n",
       "      <td>a</td>\n",
       "      <td>one</td>\n",
       "      <td>0.169463</td>\n",
       "      <td>0.502236</td>\n",
       "    </tr>\n",
       "    <tr>\n",
       "      <th>1</th>\n",
       "      <td>-0.716090</td>\n",
       "      <td>0.872185</td>\n",
       "      <td>a</td>\n",
       "      <td>two</td>\n",
       "      <td>0.169463</td>\n",
       "      <td>0.502236</td>\n",
       "    </tr>\n",
       "    <tr>\n",
       "      <th>4</th>\n",
       "      <td>1.099746</td>\n",
       "      <td>0.409517</td>\n",
       "      <td>a</td>\n",
       "      <td>one</td>\n",
       "      <td>0.169463</td>\n",
       "      <td>0.502236</td>\n",
       "    </tr>\n",
       "    <tr>\n",
       "      <th>2</th>\n",
       "      <td>-1.342068</td>\n",
       "      <td>0.158098</td>\n",
       "      <td>b</td>\n",
       "      <td>one</td>\n",
       "      <td>-0.494081</td>\n",
       "      <td>-0.492878</td>\n",
       "    </tr>\n",
       "    <tr>\n",
       "      <th>3</th>\n",
       "      <td>0.353907</td>\n",
       "      <td>-1.143855</td>\n",
       "      <td>b</td>\n",
       "      <td>two</td>\n",
       "      <td>-0.494081</td>\n",
       "      <td>-0.492878</td>\n",
       "    </tr>\n",
       "  </tbody>\n",
       "</table>\n",
       "</div>"
      ],
      "text/plain": [
       "      data1     data2 key1 key2  mean_data1  mean_data2\n",
       "0  0.124734  0.225007    a  one    0.169463    0.502236\n",
       "1 -0.716090  0.872185    a  two    0.169463    0.502236\n",
       "4  1.099746  0.409517    a  one    0.169463    0.502236\n",
       "2 -1.342068  0.158098    b  one   -0.494081   -0.492878\n",
       "3  0.353907 -1.143855    b  two   -0.494081   -0.492878"
      ]
     },
     "execution_count": 13,
     "metadata": {},
     "output_type": "execute_result"
    }
   ],
   "source": [
    "pd.merge(df, k1_means, left_on='key1', right_index=True)"
   ]
  },
  {
   "cell_type": "code",
   "execution_count": 17,
   "metadata": {
    "collapsed": false
   },
   "outputs": [],
   "source": [
    "#Adding column using transform"
   ]
  },
  {
   "cell_type": "code",
   "execution_count": 18,
   "metadata": {
    "collapsed": false
   },
   "outputs": [
    {
     "data": {
      "text/html": [
       "<div>\n",
       "<table border=\"1\" class=\"dataframe\">\n",
       "  <thead>\n",
       "    <tr style=\"text-align: right;\">\n",
       "      <th></th>\n",
       "      <th>a</th>\n",
       "      <th>b</th>\n",
       "      <th>c</th>\n",
       "      <th>d</th>\n",
       "      <th>e</th>\n",
       "    </tr>\n",
       "  </thead>\n",
       "  <tbody>\n",
       "    <tr>\n",
       "      <th>Joe</th>\n",
       "      <td>-0.596882</td>\n",
       "      <td>-0.613971</td>\n",
       "      <td>-2.721421</td>\n",
       "      <td>-0.972023</td>\n",
       "      <td>-1.022027</td>\n",
       "    </tr>\n",
       "    <tr>\n",
       "      <th>Steve</th>\n",
       "      <td>0.036548</td>\n",
       "      <td>2.608573</td>\n",
       "      <td>-0.272536</td>\n",
       "      <td>0.875013</td>\n",
       "      <td>-0.270095</td>\n",
       "    </tr>\n",
       "    <tr>\n",
       "      <th>Wes</th>\n",
       "      <td>-0.610308</td>\n",
       "      <td>-1.554153</td>\n",
       "      <td>-0.569432</td>\n",
       "      <td>1.446204</td>\n",
       "      <td>-2.497564</td>\n",
       "    </tr>\n",
       "    <tr>\n",
       "      <th>Jim</th>\n",
       "      <td>-0.381635</td>\n",
       "      <td>0.069496</td>\n",
       "      <td>-0.059884</td>\n",
       "      <td>-0.894901</td>\n",
       "      <td>0.155882</td>\n",
       "    </tr>\n",
       "    <tr>\n",
       "      <th>Travis</th>\n",
       "      <td>1.816444</td>\n",
       "      <td>0.561435</td>\n",
       "      <td>0.952193</td>\n",
       "      <td>0.146944</td>\n",
       "      <td>1.263059</td>\n",
       "    </tr>\n",
       "  </tbody>\n",
       "</table>\n",
       "</div>"
      ],
      "text/plain": [
       "               a         b         c         d         e\n",
       "Joe    -0.596882 -0.613971 -2.721421 -0.972023 -1.022027\n",
       "Steve   0.036548  2.608573 -0.272536  0.875013 -0.270095\n",
       "Wes    -0.610308 -1.554153 -0.569432  1.446204 -2.497564\n",
       "Jim    -0.381635  0.069496 -0.059884 -0.894901  0.155882\n",
       "Travis  1.816444  0.561435  0.952193  0.146944  1.263059"
      ]
     },
     "execution_count": 18,
     "metadata": {},
     "output_type": "execute_result"
    }
   ],
   "source": [
    "people"
   ]
  },
  {
   "cell_type": "code",
   "execution_count": 19,
   "metadata": {
    "collapsed": false
   },
   "outputs": [
    {
     "data": {
      "text/html": [
       "<div>\n",
       "<table border=\"1\" class=\"dataframe\">\n",
       "  <thead>\n",
       "    <tr style=\"text-align: right;\">\n",
       "      <th></th>\n",
       "      <th>a</th>\n",
       "      <th>b</th>\n",
       "      <th>c</th>\n",
       "      <th>d</th>\n",
       "      <th>e</th>\n",
       "    </tr>\n",
       "  </thead>\n",
       "  <tbody>\n",
       "    <tr>\n",
       "      <th>one</th>\n",
       "      <td>0.203085</td>\n",
       "      <td>-0.535563</td>\n",
       "      <td>-0.779554</td>\n",
       "      <td>0.207042</td>\n",
       "      <td>-0.752177</td>\n",
       "    </tr>\n",
       "    <tr>\n",
       "      <th>two</th>\n",
       "      <td>-0.172544</td>\n",
       "      <td>1.339035</td>\n",
       "      <td>-0.166210</td>\n",
       "      <td>-0.009944</td>\n",
       "      <td>-0.057107</td>\n",
       "    </tr>\n",
       "  </tbody>\n",
       "</table>\n",
       "</div>"
      ],
      "text/plain": [
       "            a         b         c         d         e\n",
       "one  0.203085 -0.535563 -0.779554  0.207042 -0.752177\n",
       "two -0.172544  1.339035 -0.166210 -0.009944 -0.057107"
      ]
     },
     "execution_count": 19,
     "metadata": {},
     "output_type": "execute_result"
    }
   ],
   "source": [
    "key = ['one', 'two', 'one', 'two', 'one']\n",
    "people.groupby(key).mean()"
   ]
  },
  {
   "cell_type": "code",
   "execution_count": 21,
   "metadata": {
    "collapsed": true
   },
   "outputs": [],
   "source": [
    "#transform applies a function to each group,then places the results in appropriate locations"
   ]
  },
  {
   "cell_type": "code",
   "execution_count": 20,
   "metadata": {
    "collapsed": false
   },
   "outputs": [
    {
     "data": {
      "text/html": [
       "<div>\n",
       "<table border=\"1\" class=\"dataframe\">\n",
       "  <thead>\n",
       "    <tr style=\"text-align: right;\">\n",
       "      <th></th>\n",
       "      <th>a</th>\n",
       "      <th>b</th>\n",
       "      <th>c</th>\n",
       "      <th>d</th>\n",
       "      <th>e</th>\n",
       "    </tr>\n",
       "  </thead>\n",
       "  <tbody>\n",
       "    <tr>\n",
       "      <th>Joe</th>\n",
       "      <td>0.203085</td>\n",
       "      <td>-0.535563</td>\n",
       "      <td>-0.779554</td>\n",
       "      <td>0.207042</td>\n",
       "      <td>-0.752177</td>\n",
       "    </tr>\n",
       "    <tr>\n",
       "      <th>Steve</th>\n",
       "      <td>-0.172544</td>\n",
       "      <td>1.339035</td>\n",
       "      <td>-0.166210</td>\n",
       "      <td>-0.009944</td>\n",
       "      <td>-0.057107</td>\n",
       "    </tr>\n",
       "    <tr>\n",
       "      <th>Wes</th>\n",
       "      <td>0.203085</td>\n",
       "      <td>-0.535563</td>\n",
       "      <td>-0.779554</td>\n",
       "      <td>0.207042</td>\n",
       "      <td>-0.752177</td>\n",
       "    </tr>\n",
       "    <tr>\n",
       "      <th>Jim</th>\n",
       "      <td>-0.172544</td>\n",
       "      <td>1.339035</td>\n",
       "      <td>-0.166210</td>\n",
       "      <td>-0.009944</td>\n",
       "      <td>-0.057107</td>\n",
       "    </tr>\n",
       "    <tr>\n",
       "      <th>Travis</th>\n",
       "      <td>0.203085</td>\n",
       "      <td>-0.535563</td>\n",
       "      <td>-0.779554</td>\n",
       "      <td>0.207042</td>\n",
       "      <td>-0.752177</td>\n",
       "    </tr>\n",
       "  </tbody>\n",
       "</table>\n",
       "</div>"
      ],
      "text/plain": [
       "               a         b         c         d         e\n",
       "Joe     0.203085 -0.535563 -0.779554  0.207042 -0.752177\n",
       "Steve  -0.172544  1.339035 -0.166210 -0.009944 -0.057107\n",
       "Wes     0.203085 -0.535563 -0.779554  0.207042 -0.752177\n",
       "Jim    -0.172544  1.339035 -0.166210 -0.009944 -0.057107\n",
       "Travis  0.203085 -0.535563 -0.779554  0.207042 -0.752177"
      ]
     },
     "execution_count": 20,
     "metadata": {},
     "output_type": "execute_result"
    }
   ],
   "source": [
    "people.groupby(key).transform(np.mean)"
   ]
  },
  {
   "cell_type": "code",
   "execution_count": 22,
   "metadata": {
    "collapsed": true
   },
   "outputs": [],
   "source": [
    "#we wanted to substract the mean value from each group"
   ]
  },
  {
   "cell_type": "code",
   "execution_count": 23,
   "metadata": {
    "collapsed": true
   },
   "outputs": [],
   "source": [
    "#create a function and then pass it to transform"
   ]
  },
  {
   "cell_type": "code",
   "execution_count": 25,
   "metadata": {
    "collapsed": false
   },
   "outputs": [],
   "source": [
    "def demean(arr):\n",
    "    return arr-arr.mean()"
   ]
  },
  {
   "cell_type": "code",
   "execution_count": 26,
   "metadata": {
    "collapsed": false
   },
   "outputs": [
    {
     "data": {
      "text/html": [
       "<div>\n",
       "<table border=\"1\" class=\"dataframe\">\n",
       "  <thead>\n",
       "    <tr style=\"text-align: right;\">\n",
       "      <th></th>\n",
       "      <th>a</th>\n",
       "      <th>b</th>\n",
       "      <th>c</th>\n",
       "      <th>d</th>\n",
       "      <th>e</th>\n",
       "    </tr>\n",
       "  </thead>\n",
       "  <tbody>\n",
       "    <tr>\n",
       "      <th>Joe</th>\n",
       "      <td>-0.799967</td>\n",
       "      <td>-0.078408</td>\n",
       "      <td>-1.941868</td>\n",
       "      <td>-1.179065</td>\n",
       "      <td>-0.269849</td>\n",
       "    </tr>\n",
       "    <tr>\n",
       "      <th>Steve</th>\n",
       "      <td>0.209092</td>\n",
       "      <td>1.269538</td>\n",
       "      <td>-0.106326</td>\n",
       "      <td>0.884957</td>\n",
       "      <td>-0.212988</td>\n",
       "    </tr>\n",
       "    <tr>\n",
       "      <th>Wes</th>\n",
       "      <td>-0.813393</td>\n",
       "      <td>-1.018590</td>\n",
       "      <td>0.210121</td>\n",
       "      <td>1.239162</td>\n",
       "      <td>-1.745387</td>\n",
       "    </tr>\n",
       "    <tr>\n",
       "      <th>Jim</th>\n",
       "      <td>-0.209092</td>\n",
       "      <td>-1.269538</td>\n",
       "      <td>0.106326</td>\n",
       "      <td>-0.884957</td>\n",
       "      <td>0.212988</td>\n",
       "    </tr>\n",
       "    <tr>\n",
       "      <th>Travis</th>\n",
       "      <td>1.613360</td>\n",
       "      <td>1.096998</td>\n",
       "      <td>1.731747</td>\n",
       "      <td>-0.060097</td>\n",
       "      <td>2.015236</td>\n",
       "    </tr>\n",
       "  </tbody>\n",
       "</table>\n",
       "</div>"
      ],
      "text/plain": [
       "               a         b         c         d         e\n",
       "Joe    -0.799967 -0.078408 -1.941868 -1.179065 -0.269849\n",
       "Steve   0.209092  1.269538 -0.106326  0.884957 -0.212988\n",
       "Wes    -0.813393 -1.018590  0.210121  1.239162 -1.745387\n",
       "Jim    -0.209092 -1.269538  0.106326 -0.884957  0.212988\n",
       "Travis  1.613360  1.096998  1.731747 -0.060097  2.015236"
      ]
     },
     "execution_count": 26,
     "metadata": {},
     "output_type": "execute_result"
    }
   ],
   "source": [
    "demeaned = people.groupby(key).transform(demean)\n",
    "demeaned"
   ]
  },
  {
   "cell_type": "code",
   "execution_count": 27,
   "metadata": {
    "collapsed": false
   },
   "outputs": [
    {
     "data": {
      "text/html": [
       "<div>\n",
       "<table border=\"1\" class=\"dataframe\">\n",
       "  <thead>\n",
       "    <tr style=\"text-align: right;\">\n",
       "      <th></th>\n",
       "      <th>a</th>\n",
       "      <th>b</th>\n",
       "      <th>c</th>\n",
       "      <th>d</th>\n",
       "      <th>e</th>\n",
       "    </tr>\n",
       "  </thead>\n",
       "  <tbody>\n",
       "    <tr>\n",
       "      <th>one</th>\n",
       "      <td>-7.401487e-17</td>\n",
       "      <td>7.401487e-17</td>\n",
       "      <td>7.401487e-17</td>\n",
       "      <td>9.251859e-18</td>\n",
       "      <td>0.0</td>\n",
       "    </tr>\n",
       "    <tr>\n",
       "      <th>two</th>\n",
       "      <td>-1.387779e-17</td>\n",
       "      <td>0.000000e+00</td>\n",
       "      <td>1.387779e-17</td>\n",
       "      <td>0.000000e+00</td>\n",
       "      <td>0.0</td>\n",
       "    </tr>\n",
       "  </tbody>\n",
       "</table>\n",
       "</div>"
      ],
      "text/plain": [
       "                a             b             c             d    e\n",
       "one -7.401487e-17  7.401487e-17  7.401487e-17  9.251859e-18  0.0\n",
       "two -1.387779e-17  0.000000e+00  1.387779e-17  0.000000e+00  0.0"
      ]
     },
     "execution_count": 27,
     "metadata": {},
     "output_type": "execute_result"
    }
   ],
   "source": [
    "demeaned.groupby(key).mean()"
   ]
  },
  {
   "cell_type": "markdown",
   "metadata": {},
   "source": [
    "# Apply:General split-apply-combine"
   ]
  },
  {
   "cell_type": "code",
   "execution_count": 31,
   "metadata": {
    "collapsed": false
   },
   "outputs": [
    {
     "data": {
      "text/html": [
       "<div>\n",
       "<table border=\"1\" class=\"dataframe\">\n",
       "  <thead>\n",
       "    <tr style=\"text-align: right;\">\n",
       "      <th></th>\n",
       "      <th>total_bill</th>\n",
       "      <th>tip</th>\n",
       "      <th>sex</th>\n",
       "      <th>smoker</th>\n",
       "      <th>day</th>\n",
       "      <th>time</th>\n",
       "      <th>size</th>\n",
       "      <th>tip_pct</th>\n",
       "    </tr>\n",
       "  </thead>\n",
       "  <tbody>\n",
       "    <tr>\n",
       "      <th>0</th>\n",
       "      <td>16.99</td>\n",
       "      <td>1.01</td>\n",
       "      <td>Female</td>\n",
       "      <td>No</td>\n",
       "      <td>Sun</td>\n",
       "      <td>Dinner</td>\n",
       "      <td>2</td>\n",
       "      <td>0.059447</td>\n",
       "    </tr>\n",
       "    <tr>\n",
       "      <th>1</th>\n",
       "      <td>10.34</td>\n",
       "      <td>1.66</td>\n",
       "      <td>Male</td>\n",
       "      <td>No</td>\n",
       "      <td>Sun</td>\n",
       "      <td>Dinner</td>\n",
       "      <td>3</td>\n",
       "      <td>0.160542</td>\n",
       "    </tr>\n",
       "    <tr>\n",
       "      <th>2</th>\n",
       "      <td>21.01</td>\n",
       "      <td>3.50</td>\n",
       "      <td>Male</td>\n",
       "      <td>No</td>\n",
       "      <td>Sun</td>\n",
       "      <td>Dinner</td>\n",
       "      <td>3</td>\n",
       "      <td>0.166587</td>\n",
       "    </tr>\n",
       "    <tr>\n",
       "      <th>3</th>\n",
       "      <td>23.68</td>\n",
       "      <td>3.31</td>\n",
       "      <td>Male</td>\n",
       "      <td>No</td>\n",
       "      <td>Sun</td>\n",
       "      <td>Dinner</td>\n",
       "      <td>2</td>\n",
       "      <td>0.139780</td>\n",
       "    </tr>\n",
       "    <tr>\n",
       "      <th>4</th>\n",
       "      <td>24.59</td>\n",
       "      <td>3.61</td>\n",
       "      <td>Female</td>\n",
       "      <td>No</td>\n",
       "      <td>Sun</td>\n",
       "      <td>Dinner</td>\n",
       "      <td>4</td>\n",
       "      <td>0.146808</td>\n",
       "    </tr>\n",
       "    <tr>\n",
       "      <th>5</th>\n",
       "      <td>25.29</td>\n",
       "      <td>4.71</td>\n",
       "      <td>Male</td>\n",
       "      <td>No</td>\n",
       "      <td>Sun</td>\n",
       "      <td>Dinner</td>\n",
       "      <td>4</td>\n",
       "      <td>0.186240</td>\n",
       "    </tr>\n",
       "  </tbody>\n",
       "</table>\n",
       "</div>"
      ],
      "text/plain": [
       "   total_bill   tip     sex smoker  day    time  size   tip_pct\n",
       "0       16.99  1.01  Female     No  Sun  Dinner     2  0.059447\n",
       "1       10.34  1.66    Male     No  Sun  Dinner     3  0.160542\n",
       "2       21.01  3.50    Male     No  Sun  Dinner     3  0.166587\n",
       "3       23.68  3.31    Male     No  Sun  Dinner     2  0.139780\n",
       "4       24.59  3.61  Female     No  Sun  Dinner     4  0.146808\n",
       "5       25.29  4.71    Male     No  Sun  Dinner     4  0.186240"
      ]
     },
     "execution_count": 31,
     "metadata": {},
     "output_type": "execute_result"
    }
   ],
   "source": [
    "tips.ix[:5,:]"
   ]
  },
  {
   "cell_type": "code",
   "execution_count": 32,
   "metadata": {
    "collapsed": true
   },
   "outputs": [],
   "source": [
    "#suppose we wanted to select the top five tip_pct values by group"
   ]
  },
  {
   "cell_type": "code",
   "execution_count": 33,
   "metadata": {
    "collapsed": true
   },
   "outputs": [],
   "source": [
    "#first method is to write a function that selects the rows with the largest values in a particular column"
   ]
  },
  {
   "cell_type": "code",
   "execution_count": 39,
   "metadata": {
    "collapsed": true
   },
   "outputs": [],
   "source": [
    "def top(df,n=5,column='tip_pct'):\n",
    "    return df.sort_values(by=column)[-n:]"
   ]
  },
  {
   "cell_type": "code",
   "execution_count": 40,
   "metadata": {
    "collapsed": false
   },
   "outputs": [
    {
     "data": {
      "text/html": [
       "<div>\n",
       "<table border=\"1\" class=\"dataframe\">\n",
       "  <thead>\n",
       "    <tr style=\"text-align: right;\">\n",
       "      <th></th>\n",
       "      <th>total_bill</th>\n",
       "      <th>tip</th>\n",
       "      <th>sex</th>\n",
       "      <th>smoker</th>\n",
       "      <th>day</th>\n",
       "      <th>time</th>\n",
       "      <th>size</th>\n",
       "      <th>tip_pct</th>\n",
       "    </tr>\n",
       "  </thead>\n",
       "  <tbody>\n",
       "    <tr>\n",
       "      <th>183</th>\n",
       "      <td>23.17</td>\n",
       "      <td>6.50</td>\n",
       "      <td>Male</td>\n",
       "      <td>Yes</td>\n",
       "      <td>Sun</td>\n",
       "      <td>Dinner</td>\n",
       "      <td>4</td>\n",
       "      <td>0.280535</td>\n",
       "    </tr>\n",
       "    <tr>\n",
       "      <th>232</th>\n",
       "      <td>11.61</td>\n",
       "      <td>3.39</td>\n",
       "      <td>Male</td>\n",
       "      <td>No</td>\n",
       "      <td>Sat</td>\n",
       "      <td>Dinner</td>\n",
       "      <td>2</td>\n",
       "      <td>0.291990</td>\n",
       "    </tr>\n",
       "    <tr>\n",
       "      <th>67</th>\n",
       "      <td>3.07</td>\n",
       "      <td>1.00</td>\n",
       "      <td>Female</td>\n",
       "      <td>Yes</td>\n",
       "      <td>Sat</td>\n",
       "      <td>Dinner</td>\n",
       "      <td>1</td>\n",
       "      <td>0.325733</td>\n",
       "    </tr>\n",
       "    <tr>\n",
       "      <th>178</th>\n",
       "      <td>9.60</td>\n",
       "      <td>4.00</td>\n",
       "      <td>Female</td>\n",
       "      <td>Yes</td>\n",
       "      <td>Sun</td>\n",
       "      <td>Dinner</td>\n",
       "      <td>2</td>\n",
       "      <td>0.416667</td>\n",
       "    </tr>\n",
       "    <tr>\n",
       "      <th>172</th>\n",
       "      <td>7.25</td>\n",
       "      <td>5.15</td>\n",
       "      <td>Male</td>\n",
       "      <td>Yes</td>\n",
       "      <td>Sun</td>\n",
       "      <td>Dinner</td>\n",
       "      <td>2</td>\n",
       "      <td>0.710345</td>\n",
       "    </tr>\n",
       "  </tbody>\n",
       "</table>\n",
       "</div>"
      ],
      "text/plain": [
       "     total_bill   tip     sex smoker  day    time  size   tip_pct\n",
       "183       23.17  6.50    Male    Yes  Sun  Dinner     4  0.280535\n",
       "232       11.61  3.39    Male     No  Sat  Dinner     2  0.291990\n",
       "67         3.07  1.00  Female    Yes  Sat  Dinner     1  0.325733\n",
       "178        9.60  4.00  Female    Yes  Sun  Dinner     2  0.416667\n",
       "172        7.25  5.15    Male    Yes  Sun  Dinner     2  0.710345"
      ]
     },
     "execution_count": 40,
     "metadata": {},
     "output_type": "execute_result"
    }
   ],
   "source": [
    "top(tips,n=5)"
   ]
  },
  {
   "cell_type": "code",
   "execution_count": 41,
   "metadata": {
    "collapsed": true
   },
   "outputs": [],
   "source": [
    "#now if we group by smoker and call apply with this function"
   ]
  },
  {
   "cell_type": "code",
   "execution_count": 42,
   "metadata": {
    "collapsed": false
   },
   "outputs": [
    {
     "data": {
      "text/html": [
       "<div>\n",
       "<table border=\"1\" class=\"dataframe\">\n",
       "  <thead>\n",
       "    <tr style=\"text-align: right;\">\n",
       "      <th></th>\n",
       "      <th></th>\n",
       "      <th>total_bill</th>\n",
       "      <th>tip</th>\n",
       "      <th>sex</th>\n",
       "      <th>smoker</th>\n",
       "      <th>day</th>\n",
       "      <th>time</th>\n",
       "      <th>size</th>\n",
       "      <th>tip_pct</th>\n",
       "    </tr>\n",
       "    <tr>\n",
       "      <th>smoker</th>\n",
       "      <th></th>\n",
       "      <th></th>\n",
       "      <th></th>\n",
       "      <th></th>\n",
       "      <th></th>\n",
       "      <th></th>\n",
       "      <th></th>\n",
       "      <th></th>\n",
       "      <th></th>\n",
       "    </tr>\n",
       "  </thead>\n",
       "  <tbody>\n",
       "    <tr>\n",
       "      <th rowspan=\"5\" valign=\"top\">No</th>\n",
       "      <th>88</th>\n",
       "      <td>24.71</td>\n",
       "      <td>5.85</td>\n",
       "      <td>Male</td>\n",
       "      <td>No</td>\n",
       "      <td>Thur</td>\n",
       "      <td>Lunch</td>\n",
       "      <td>2</td>\n",
       "      <td>0.236746</td>\n",
       "    </tr>\n",
       "    <tr>\n",
       "      <th>185</th>\n",
       "      <td>20.69</td>\n",
       "      <td>5.00</td>\n",
       "      <td>Male</td>\n",
       "      <td>No</td>\n",
       "      <td>Sun</td>\n",
       "      <td>Dinner</td>\n",
       "      <td>5</td>\n",
       "      <td>0.241663</td>\n",
       "    </tr>\n",
       "    <tr>\n",
       "      <th>51</th>\n",
       "      <td>10.29</td>\n",
       "      <td>2.60</td>\n",
       "      <td>Female</td>\n",
       "      <td>No</td>\n",
       "      <td>Sun</td>\n",
       "      <td>Dinner</td>\n",
       "      <td>2</td>\n",
       "      <td>0.252672</td>\n",
       "    </tr>\n",
       "    <tr>\n",
       "      <th>149</th>\n",
       "      <td>7.51</td>\n",
       "      <td>2.00</td>\n",
       "      <td>Male</td>\n",
       "      <td>No</td>\n",
       "      <td>Thur</td>\n",
       "      <td>Lunch</td>\n",
       "      <td>2</td>\n",
       "      <td>0.266312</td>\n",
       "    </tr>\n",
       "    <tr>\n",
       "      <th>232</th>\n",
       "      <td>11.61</td>\n",
       "      <td>3.39</td>\n",
       "      <td>Male</td>\n",
       "      <td>No</td>\n",
       "      <td>Sat</td>\n",
       "      <td>Dinner</td>\n",
       "      <td>2</td>\n",
       "      <td>0.291990</td>\n",
       "    </tr>\n",
       "    <tr>\n",
       "      <th rowspan=\"5\" valign=\"top\">Yes</th>\n",
       "      <th>109</th>\n",
       "      <td>14.31</td>\n",
       "      <td>4.00</td>\n",
       "      <td>Female</td>\n",
       "      <td>Yes</td>\n",
       "      <td>Sat</td>\n",
       "      <td>Dinner</td>\n",
       "      <td>2</td>\n",
       "      <td>0.279525</td>\n",
       "    </tr>\n",
       "    <tr>\n",
       "      <th>183</th>\n",
       "      <td>23.17</td>\n",
       "      <td>6.50</td>\n",
       "      <td>Male</td>\n",
       "      <td>Yes</td>\n",
       "      <td>Sun</td>\n",
       "      <td>Dinner</td>\n",
       "      <td>4</td>\n",
       "      <td>0.280535</td>\n",
       "    </tr>\n",
       "    <tr>\n",
       "      <th>67</th>\n",
       "      <td>3.07</td>\n",
       "      <td>1.00</td>\n",
       "      <td>Female</td>\n",
       "      <td>Yes</td>\n",
       "      <td>Sat</td>\n",
       "      <td>Dinner</td>\n",
       "      <td>1</td>\n",
       "      <td>0.325733</td>\n",
       "    </tr>\n",
       "    <tr>\n",
       "      <th>178</th>\n",
       "      <td>9.60</td>\n",
       "      <td>4.00</td>\n",
       "      <td>Female</td>\n",
       "      <td>Yes</td>\n",
       "      <td>Sun</td>\n",
       "      <td>Dinner</td>\n",
       "      <td>2</td>\n",
       "      <td>0.416667</td>\n",
       "    </tr>\n",
       "    <tr>\n",
       "      <th>172</th>\n",
       "      <td>7.25</td>\n",
       "      <td>5.15</td>\n",
       "      <td>Male</td>\n",
       "      <td>Yes</td>\n",
       "      <td>Sun</td>\n",
       "      <td>Dinner</td>\n",
       "      <td>2</td>\n",
       "      <td>0.710345</td>\n",
       "    </tr>\n",
       "  </tbody>\n",
       "</table>\n",
       "</div>"
      ],
      "text/plain": [
       "            total_bill   tip     sex smoker   day    time  size   tip_pct\n",
       "smoker                                                                   \n",
       "No     88        24.71  5.85    Male     No  Thur   Lunch     2  0.236746\n",
       "       185       20.69  5.00    Male     No   Sun  Dinner     5  0.241663\n",
       "       51        10.29  2.60  Female     No   Sun  Dinner     2  0.252672\n",
       "       149        7.51  2.00    Male     No  Thur   Lunch     2  0.266312\n",
       "       232       11.61  3.39    Male     No   Sat  Dinner     2  0.291990\n",
       "Yes    109       14.31  4.00  Female    Yes   Sat  Dinner     2  0.279525\n",
       "       183       23.17  6.50    Male    Yes   Sun  Dinner     4  0.280535\n",
       "       67         3.07  1.00  Female    Yes   Sat  Dinner     1  0.325733\n",
       "       178        9.60  4.00  Female    Yes   Sun  Dinner     2  0.416667\n",
       "       172        7.25  5.15    Male    Yes   Sun  Dinner     2  0.710345"
      ]
     },
     "execution_count": 42,
     "metadata": {},
     "output_type": "execute_result"
    }
   ],
   "source": [
    "tips.groupby('smoker').apply(top)"
   ]
  },
  {
   "cell_type": "code",
   "execution_count": 44,
   "metadata": {
    "collapsed": false
   },
   "outputs": [
    {
     "data": {
      "text/html": [
       "<div>\n",
       "<table border=\"1\" class=\"dataframe\">\n",
       "  <thead>\n",
       "    <tr style=\"text-align: right;\">\n",
       "      <th></th>\n",
       "      <th></th>\n",
       "      <th></th>\n",
       "      <th>total_bill</th>\n",
       "      <th>tip</th>\n",
       "      <th>sex</th>\n",
       "      <th>smoker</th>\n",
       "      <th>day</th>\n",
       "      <th>time</th>\n",
       "      <th>size</th>\n",
       "      <th>tip_pct</th>\n",
       "    </tr>\n",
       "    <tr>\n",
       "      <th>smoker</th>\n",
       "      <th>day</th>\n",
       "      <th></th>\n",
       "      <th></th>\n",
       "      <th></th>\n",
       "      <th></th>\n",
       "      <th></th>\n",
       "      <th></th>\n",
       "      <th></th>\n",
       "      <th></th>\n",
       "      <th></th>\n",
       "    </tr>\n",
       "  </thead>\n",
       "  <tbody>\n",
       "    <tr>\n",
       "      <th rowspan=\"4\" valign=\"top\">No</th>\n",
       "      <th>Fri</th>\n",
       "      <th>94</th>\n",
       "      <td>22.75</td>\n",
       "      <td>3.25</td>\n",
       "      <td>Female</td>\n",
       "      <td>No</td>\n",
       "      <td>Fri</td>\n",
       "      <td>Dinner</td>\n",
       "      <td>2</td>\n",
       "      <td>0.142857</td>\n",
       "    </tr>\n",
       "    <tr>\n",
       "      <th>Sat</th>\n",
       "      <th>212</th>\n",
       "      <td>48.33</td>\n",
       "      <td>9.00</td>\n",
       "      <td>Male</td>\n",
       "      <td>No</td>\n",
       "      <td>Sat</td>\n",
       "      <td>Dinner</td>\n",
       "      <td>4</td>\n",
       "      <td>0.186220</td>\n",
       "    </tr>\n",
       "    <tr>\n",
       "      <th>Sun</th>\n",
       "      <th>156</th>\n",
       "      <td>48.17</td>\n",
       "      <td>5.00</td>\n",
       "      <td>Male</td>\n",
       "      <td>No</td>\n",
       "      <td>Sun</td>\n",
       "      <td>Dinner</td>\n",
       "      <td>6</td>\n",
       "      <td>0.103799</td>\n",
       "    </tr>\n",
       "    <tr>\n",
       "      <th>Thur</th>\n",
       "      <th>142</th>\n",
       "      <td>41.19</td>\n",
       "      <td>5.00</td>\n",
       "      <td>Male</td>\n",
       "      <td>No</td>\n",
       "      <td>Thur</td>\n",
       "      <td>Lunch</td>\n",
       "      <td>5</td>\n",
       "      <td>0.121389</td>\n",
       "    </tr>\n",
       "    <tr>\n",
       "      <th rowspan=\"4\" valign=\"top\">Yes</th>\n",
       "      <th>Fri</th>\n",
       "      <th>95</th>\n",
       "      <td>40.17</td>\n",
       "      <td>4.73</td>\n",
       "      <td>Male</td>\n",
       "      <td>Yes</td>\n",
       "      <td>Fri</td>\n",
       "      <td>Dinner</td>\n",
       "      <td>4</td>\n",
       "      <td>0.117750</td>\n",
       "    </tr>\n",
       "    <tr>\n",
       "      <th>Sat</th>\n",
       "      <th>170</th>\n",
       "      <td>50.81</td>\n",
       "      <td>10.00</td>\n",
       "      <td>Male</td>\n",
       "      <td>Yes</td>\n",
       "      <td>Sat</td>\n",
       "      <td>Dinner</td>\n",
       "      <td>3</td>\n",
       "      <td>0.196812</td>\n",
       "    </tr>\n",
       "    <tr>\n",
       "      <th>Sun</th>\n",
       "      <th>182</th>\n",
       "      <td>45.35</td>\n",
       "      <td>3.50</td>\n",
       "      <td>Male</td>\n",
       "      <td>Yes</td>\n",
       "      <td>Sun</td>\n",
       "      <td>Dinner</td>\n",
       "      <td>3</td>\n",
       "      <td>0.077178</td>\n",
       "    </tr>\n",
       "    <tr>\n",
       "      <th>Thur</th>\n",
       "      <th>197</th>\n",
       "      <td>43.11</td>\n",
       "      <td>5.00</td>\n",
       "      <td>Female</td>\n",
       "      <td>Yes</td>\n",
       "      <td>Thur</td>\n",
       "      <td>Lunch</td>\n",
       "      <td>4</td>\n",
       "      <td>0.115982</td>\n",
       "    </tr>\n",
       "  </tbody>\n",
       "</table>\n",
       "</div>"
      ],
      "text/plain": [
       "                 total_bill    tip     sex smoker   day    time  size  \\\n",
       "smoker day                                                              \n",
       "No     Fri  94        22.75   3.25  Female     No   Fri  Dinner     2   \n",
       "       Sat  212       48.33   9.00    Male     No   Sat  Dinner     4   \n",
       "       Sun  156       48.17   5.00    Male     No   Sun  Dinner     6   \n",
       "       Thur 142       41.19   5.00    Male     No  Thur   Lunch     5   \n",
       "Yes    Fri  95        40.17   4.73    Male    Yes   Fri  Dinner     4   \n",
       "       Sat  170       50.81  10.00    Male    Yes   Sat  Dinner     3   \n",
       "       Sun  182       45.35   3.50    Male    Yes   Sun  Dinner     3   \n",
       "       Thur 197       43.11   5.00  Female    Yes  Thur   Lunch     4   \n",
       "\n",
       "                  tip_pct  \n",
       "smoker day                 \n",
       "No     Fri  94   0.142857  \n",
       "       Sat  212  0.186220  \n",
       "       Sun  156  0.103799  \n",
       "       Thur 142  0.121389  \n",
       "Yes    Fri  95   0.117750  \n",
       "       Sat  170  0.196812  \n",
       "       Sun  182  0.077178  \n",
       "       Thur 197  0.115982  "
      ]
     },
     "execution_count": 44,
     "metadata": {},
     "output_type": "execute_result"
    }
   ],
   "source": [
    "tips.groupby(['smoker','day']).apply(top,n=1,column='total_bill')"
   ]
  },
  {
   "cell_type": "code",
   "execution_count": 45,
   "metadata": {
    "collapsed": true
   },
   "outputs": [],
   "source": [
    "#Inside groupby when we invoke describe,it is actually a shortcut for\n",
    "#f = lambda x:x.describe()\n",
    "#grouped.apply(f)"
   ]
  },
  {
   "cell_type": "code",
   "execution_count": 47,
   "metadata": {
    "collapsed": false
   },
   "outputs": [
    {
     "data": {
      "text/html": [
       "<div>\n",
       "<table border=\"1\" class=\"dataframe\">\n",
       "  <thead>\n",
       "    <tr style=\"text-align: right;\">\n",
       "      <th></th>\n",
       "      <th>total_bill</th>\n",
       "      <th>tip</th>\n",
       "      <th>sex</th>\n",
       "      <th>smoker</th>\n",
       "      <th>day</th>\n",
       "      <th>time</th>\n",
       "      <th>size</th>\n",
       "      <th>tip_pct</th>\n",
       "    </tr>\n",
       "  </thead>\n",
       "  <tbody>\n",
       "    <tr>\n",
       "      <th>88</th>\n",
       "      <td>24.71</td>\n",
       "      <td>5.85</td>\n",
       "      <td>Male</td>\n",
       "      <td>No</td>\n",
       "      <td>Thur</td>\n",
       "      <td>Lunch</td>\n",
       "      <td>2</td>\n",
       "      <td>0.236746</td>\n",
       "    </tr>\n",
       "    <tr>\n",
       "      <th>185</th>\n",
       "      <td>20.69</td>\n",
       "      <td>5.00</td>\n",
       "      <td>Male</td>\n",
       "      <td>No</td>\n",
       "      <td>Sun</td>\n",
       "      <td>Dinner</td>\n",
       "      <td>5</td>\n",
       "      <td>0.241663</td>\n",
       "    </tr>\n",
       "    <tr>\n",
       "      <th>51</th>\n",
       "      <td>10.29</td>\n",
       "      <td>2.60</td>\n",
       "      <td>Female</td>\n",
       "      <td>No</td>\n",
       "      <td>Sun</td>\n",
       "      <td>Dinner</td>\n",
       "      <td>2</td>\n",
       "      <td>0.252672</td>\n",
       "    </tr>\n",
       "    <tr>\n",
       "      <th>149</th>\n",
       "      <td>7.51</td>\n",
       "      <td>2.00</td>\n",
       "      <td>Male</td>\n",
       "      <td>No</td>\n",
       "      <td>Thur</td>\n",
       "      <td>Lunch</td>\n",
       "      <td>2</td>\n",
       "      <td>0.266312</td>\n",
       "    </tr>\n",
       "    <tr>\n",
       "      <th>232</th>\n",
       "      <td>11.61</td>\n",
       "      <td>3.39</td>\n",
       "      <td>Male</td>\n",
       "      <td>No</td>\n",
       "      <td>Sat</td>\n",
       "      <td>Dinner</td>\n",
       "      <td>2</td>\n",
       "      <td>0.291990</td>\n",
       "    </tr>\n",
       "    <tr>\n",
       "      <th>109</th>\n",
       "      <td>14.31</td>\n",
       "      <td>4.00</td>\n",
       "      <td>Female</td>\n",
       "      <td>Yes</td>\n",
       "      <td>Sat</td>\n",
       "      <td>Dinner</td>\n",
       "      <td>2</td>\n",
       "      <td>0.279525</td>\n",
       "    </tr>\n",
       "    <tr>\n",
       "      <th>183</th>\n",
       "      <td>23.17</td>\n",
       "      <td>6.50</td>\n",
       "      <td>Male</td>\n",
       "      <td>Yes</td>\n",
       "      <td>Sun</td>\n",
       "      <td>Dinner</td>\n",
       "      <td>4</td>\n",
       "      <td>0.280535</td>\n",
       "    </tr>\n",
       "    <tr>\n",
       "      <th>67</th>\n",
       "      <td>3.07</td>\n",
       "      <td>1.00</td>\n",
       "      <td>Female</td>\n",
       "      <td>Yes</td>\n",
       "      <td>Sat</td>\n",
       "      <td>Dinner</td>\n",
       "      <td>1</td>\n",
       "      <td>0.325733</td>\n",
       "    </tr>\n",
       "    <tr>\n",
       "      <th>178</th>\n",
       "      <td>9.60</td>\n",
       "      <td>4.00</td>\n",
       "      <td>Female</td>\n",
       "      <td>Yes</td>\n",
       "      <td>Sun</td>\n",
       "      <td>Dinner</td>\n",
       "      <td>2</td>\n",
       "      <td>0.416667</td>\n",
       "    </tr>\n",
       "    <tr>\n",
       "      <th>172</th>\n",
       "      <td>7.25</td>\n",
       "      <td>5.15</td>\n",
       "      <td>Male</td>\n",
       "      <td>Yes</td>\n",
       "      <td>Sun</td>\n",
       "      <td>Dinner</td>\n",
       "      <td>2</td>\n",
       "      <td>0.710345</td>\n",
       "    </tr>\n",
       "  </tbody>\n",
       "</table>\n",
       "</div>"
      ],
      "text/plain": [
       "     total_bill   tip     sex smoker   day    time  size   tip_pct\n",
       "88        24.71  5.85    Male     No  Thur   Lunch     2  0.236746\n",
       "185       20.69  5.00    Male     No   Sun  Dinner     5  0.241663\n",
       "51        10.29  2.60  Female     No   Sun  Dinner     2  0.252672\n",
       "149        7.51  2.00    Male     No  Thur   Lunch     2  0.266312\n",
       "232       11.61  3.39    Male     No   Sat  Dinner     2  0.291990\n",
       "109       14.31  4.00  Female    Yes   Sat  Dinner     2  0.279525\n",
       "183       23.17  6.50    Male    Yes   Sun  Dinner     4  0.280535\n",
       "67         3.07  1.00  Female    Yes   Sat  Dinner     1  0.325733\n",
       "178        9.60  4.00  Female    Yes   Sun  Dinner     2  0.416667\n",
       "172        7.25  5.15    Male    Yes   Sun  Dinner     2  0.710345"
      ]
     },
     "execution_count": 47,
     "metadata": {},
     "output_type": "execute_result"
    }
   ],
   "source": [
    "#suppresing the group keys\n",
    "tips.groupby('smoker',group_keys=False).apply(top)"
   ]
  },
  {
   "cell_type": "markdown",
   "metadata": {},
   "source": [
    "# Quantile and Bucket Analysis"
   ]
  },
  {
   "cell_type": "code",
   "execution_count": 48,
   "metadata": {
    "collapsed": true
   },
   "outputs": [],
   "source": [
    "#cut function"
   ]
  },
  {
   "cell_type": "code",
   "execution_count": 49,
   "metadata": {
    "collapsed": false
   },
   "outputs": [
    {
     "data": {
      "text/plain": [
       "[(18, 25], (18, 25], (18, 25], (25, 35], (18, 25], ..., (25, 35], (60, 100], (35, 60], (35, 60], (25, 35]]\n",
       "Length: 12\n",
       "Categories (4, object): [(18, 25] < (25, 35] < (35, 60] < (60, 100]]"
      ]
     },
     "execution_count": 49,
     "metadata": {},
     "output_type": "execute_result"
    }
   ],
   "source": [
    "ages = [20,22,25,27,21,23,37,31,61,45,41,32]\n",
    "bins = [18,25,35,60,100]\n",
    "cats = pd.cut(ages,bins)\n",
    "cats"
   ]
  },
  {
   "cell_type": "code",
   "execution_count": 50,
   "metadata": {
    "collapsed": true
   },
   "outputs": [],
   "source": [
    "frame = DataFrame({'data1':np.random.randn(1000),'data2':np.random.randn(1000)})\n",
    "factor = pd.cut(frame.data1,4)"
   ]
  },
  {
   "cell_type": "code",
   "execution_count": 52,
   "metadata": {
    "collapsed": false
   },
   "outputs": [
    {
     "data": {
      "text/html": [
       "<div>\n",
       "<table border=\"1\" class=\"dataframe\">\n",
       "  <thead>\n",
       "    <tr style=\"text-align: right;\">\n",
       "      <th></th>\n",
       "      <th>data1</th>\n",
       "      <th>data2</th>\n",
       "    </tr>\n",
       "  </thead>\n",
       "  <tbody>\n",
       "    <tr>\n",
       "      <th>0</th>\n",
       "      <td>-1.053484</td>\n",
       "      <td>-1.286602</td>\n",
       "    </tr>\n",
       "    <tr>\n",
       "      <th>1</th>\n",
       "      <td>0.370266</td>\n",
       "      <td>0.540067</td>\n",
       "    </tr>\n",
       "    <tr>\n",
       "      <th>2</th>\n",
       "      <td>-0.833889</td>\n",
       "      <td>1.913177</td>\n",
       "    </tr>\n",
       "    <tr>\n",
       "      <th>3</th>\n",
       "      <td>-0.654324</td>\n",
       "      <td>0.500328</td>\n",
       "    </tr>\n",
       "    <tr>\n",
       "      <th>4</th>\n",
       "      <td>0.190573</td>\n",
       "      <td>-0.501388</td>\n",
       "    </tr>\n",
       "    <tr>\n",
       "      <th>5</th>\n",
       "      <td>0.280989</td>\n",
       "      <td>-0.524091</td>\n",
       "    </tr>\n",
       "    <tr>\n",
       "      <th>6</th>\n",
       "      <td>0.031784</td>\n",
       "      <td>-1.280343</td>\n",
       "    </tr>\n",
       "    <tr>\n",
       "      <th>7</th>\n",
       "      <td>0.279099</td>\n",
       "      <td>-0.852097</td>\n",
       "    </tr>\n",
       "    <tr>\n",
       "      <th>8</th>\n",
       "      <td>-1.733059</td>\n",
       "      <td>-1.146810</td>\n",
       "    </tr>\n",
       "    <tr>\n",
       "      <th>9</th>\n",
       "      <td>0.902699</td>\n",
       "      <td>1.363415</td>\n",
       "    </tr>\n",
       "  </tbody>\n",
       "</table>\n",
       "</div>"
      ],
      "text/plain": [
       "      data1     data2\n",
       "0 -1.053484 -1.286602\n",
       "1  0.370266  0.540067\n",
       "2 -0.833889  1.913177\n",
       "3 -0.654324  0.500328\n",
       "4  0.190573 -0.501388\n",
       "5  0.280989 -0.524091\n",
       "6  0.031784 -1.280343\n",
       "7  0.279099 -0.852097\n",
       "8 -1.733059 -1.146810\n",
       "9  0.902699  1.363415"
      ]
     },
     "execution_count": 52,
     "metadata": {},
     "output_type": "execute_result"
    }
   ],
   "source": [
    "frame[:10]"
   ]
  },
  {
   "cell_type": "code",
   "execution_count": 53,
   "metadata": {
    "collapsed": false
   },
   "outputs": [
    {
     "data": {
      "text/plain": [
       "0    (-1.697, -0.0968]\n",
       "1     (-0.0968, 1.504]\n",
       "2    (-1.697, -0.0968]\n",
       "3    (-1.697, -0.0968]\n",
       "4     (-0.0968, 1.504]\n",
       "5     (-0.0968, 1.504]\n",
       "6     (-0.0968, 1.504]\n",
       "7     (-0.0968, 1.504]\n",
       "8     (-3.304, -1.697]\n",
       "9     (-0.0968, 1.504]\n",
       "Name: data1, dtype: category\n",
       "Categories (4, object): [(-3.304, -1.697] < (-1.697, -0.0968] < (-0.0968, 1.504] < (1.504, 3.104]]"
      ]
     },
     "execution_count": 53,
     "metadata": {},
     "output_type": "execute_result"
    }
   ],
   "source": [
    "factor[:10]"
   ]
  },
  {
   "cell_type": "code",
   "execution_count": 54,
   "metadata": {
    "collapsed": true
   },
   "outputs": [],
   "source": [
    "#the factor object returned by cut can be passed directly to groupby.So we could compute a set of statistics for the \n",
    "#data2 column like so:"
   ]
  },
  {
   "cell_type": "code",
   "execution_count": 55,
   "metadata": {
    "collapsed": true
   },
   "outputs": [],
   "source": [
    "def get_stats(group):\n",
    "    return {'min':group.min(),'max':group.max(),'count':group.count(),'mean':group.mean()}"
   ]
  },
  {
   "cell_type": "code",
   "execution_count": 56,
   "metadata": {
    "collapsed": true
   },
   "outputs": [],
   "source": [
    "grouped = frame.data2.groupby(factor)"
   ]
  },
  {
   "cell_type": "code",
   "execution_count": 57,
   "metadata": {
    "collapsed": false
   },
   "outputs": [
    {
     "data": {
      "text/html": [
       "<div>\n",
       "<table border=\"1\" class=\"dataframe\">\n",
       "  <thead>\n",
       "    <tr style=\"text-align: right;\">\n",
       "      <th></th>\n",
       "      <th>count</th>\n",
       "      <th>max</th>\n",
       "      <th>mean</th>\n",
       "      <th>min</th>\n",
       "    </tr>\n",
       "    <tr>\n",
       "      <th>data1</th>\n",
       "      <th></th>\n",
       "      <th></th>\n",
       "      <th></th>\n",
       "      <th></th>\n",
       "    </tr>\n",
       "  </thead>\n",
       "  <tbody>\n",
       "    <tr>\n",
       "      <th>(-3.304, -1.697]</th>\n",
       "      <td>53.0</td>\n",
       "      <td>1.929419</td>\n",
       "      <td>-0.168787</td>\n",
       "      <td>-2.361773</td>\n",
       "    </tr>\n",
       "    <tr>\n",
       "      <th>(-1.697, -0.0968]</th>\n",
       "      <td>411.0</td>\n",
       "      <td>2.670030</td>\n",
       "      <td>0.076572</td>\n",
       "      <td>-2.925485</td>\n",
       "    </tr>\n",
       "    <tr>\n",
       "      <th>(-0.0968, 1.504]</th>\n",
       "      <td>463.0</td>\n",
       "      <td>2.682087</td>\n",
       "      <td>0.007251</td>\n",
       "      <td>-3.415037</td>\n",
       "    </tr>\n",
       "    <tr>\n",
       "      <th>(1.504, 3.104]</th>\n",
       "      <td>73.0</td>\n",
       "      <td>2.437214</td>\n",
       "      <td>-0.101446</td>\n",
       "      <td>-3.461403</td>\n",
       "    </tr>\n",
       "  </tbody>\n",
       "</table>\n",
       "</div>"
      ],
      "text/plain": [
       "                   count       max      mean       min\n",
       "data1                                                 \n",
       "(-3.304, -1.697]    53.0  1.929419 -0.168787 -2.361773\n",
       "(-1.697, -0.0968]  411.0  2.670030  0.076572 -2.925485\n",
       "(-0.0968, 1.504]   463.0  2.682087  0.007251 -3.415037\n",
       "(1.504, 3.104]      73.0  2.437214 -0.101446 -3.461403"
      ]
     },
     "execution_count": 57,
     "metadata": {},
     "output_type": "execute_result"
    }
   ],
   "source": [
    "grouped.apply(get_stats).unstack()"
   ]
  },
  {
   "cell_type": "code",
   "execution_count": 58,
   "metadata": {
    "collapsed": true
   },
   "outputs": [],
   "source": [
    "#to compute equal size buckets"
   ]
  },
  {
   "cell_type": "code",
   "execution_count": 59,
   "metadata": {
    "collapsed": false
   },
   "outputs": [
    {
     "data": {
      "text/html": [
       "<div>\n",
       "<table border=\"1\" class=\"dataframe\">\n",
       "  <thead>\n",
       "    <tr style=\"text-align: right;\">\n",
       "      <th></th>\n",
       "      <th>count</th>\n",
       "      <th>max</th>\n",
       "      <th>mean</th>\n",
       "      <th>min</th>\n",
       "    </tr>\n",
       "    <tr>\n",
       "      <th>data1</th>\n",
       "      <th></th>\n",
       "      <th></th>\n",
       "      <th></th>\n",
       "      <th></th>\n",
       "    </tr>\n",
       "  </thead>\n",
       "  <tbody>\n",
       "    <tr>\n",
       "      <th>0</th>\n",
       "      <td>100.0</td>\n",
       "      <td>1.929419</td>\n",
       "      <td>-0.058219</td>\n",
       "      <td>-2.547324</td>\n",
       "    </tr>\n",
       "    <tr>\n",
       "      <th>1</th>\n",
       "      <td>100.0</td>\n",
       "      <td>2.486766</td>\n",
       "      <td>0.254131</td>\n",
       "      <td>-2.925485</td>\n",
       "    </tr>\n",
       "    <tr>\n",
       "      <th>2</th>\n",
       "      <td>100.0</td>\n",
       "      <td>2.670030</td>\n",
       "      <td>0.046269</td>\n",
       "      <td>-2.083970</td>\n",
       "    </tr>\n",
       "    <tr>\n",
       "      <th>3</th>\n",
       "      <td>100.0</td>\n",
       "      <td>2.184656</td>\n",
       "      <td>0.084724</td>\n",
       "      <td>-2.069474</td>\n",
       "    </tr>\n",
       "    <tr>\n",
       "      <th>4</th>\n",
       "      <td>100.0</td>\n",
       "      <td>2.033503</td>\n",
       "      <td>-0.158191</td>\n",
       "      <td>-3.415037</td>\n",
       "    </tr>\n",
       "    <tr>\n",
       "      <th>5</th>\n",
       "      <td>100.0</td>\n",
       "      <td>2.351088</td>\n",
       "      <td>-0.062426</td>\n",
       "      <td>-2.639178</td>\n",
       "    </tr>\n",
       "    <tr>\n",
       "      <th>6</th>\n",
       "      <td>100.0</td>\n",
       "      <td>2.682087</td>\n",
       "      <td>-0.015425</td>\n",
       "      <td>-1.789323</td>\n",
       "    </tr>\n",
       "    <tr>\n",
       "      <th>7</th>\n",
       "      <td>100.0</td>\n",
       "      <td>2.304672</td>\n",
       "      <td>0.156313</td>\n",
       "      <td>-2.496147</td>\n",
       "    </tr>\n",
       "    <tr>\n",
       "      <th>8</th>\n",
       "      <td>100.0</td>\n",
       "      <td>2.315446</td>\n",
       "      <td>0.011505</td>\n",
       "      <td>-2.780507</td>\n",
       "    </tr>\n",
       "    <tr>\n",
       "      <th>9</th>\n",
       "      <td>100.0</td>\n",
       "      <td>2.437214</td>\n",
       "      <td>-0.073912</td>\n",
       "      <td>-3.461403</td>\n",
       "    </tr>\n",
       "  </tbody>\n",
       "</table>\n",
       "</div>"
      ],
      "text/plain": [
       "       count       max      mean       min\n",
       "data1                                     \n",
       "0      100.0  1.929419 -0.058219 -2.547324\n",
       "1      100.0  2.486766  0.254131 -2.925485\n",
       "2      100.0  2.670030  0.046269 -2.083970\n",
       "3      100.0  2.184656  0.084724 -2.069474\n",
       "4      100.0  2.033503 -0.158191 -3.415037\n",
       "5      100.0  2.351088 -0.062426 -2.639178\n",
       "6      100.0  2.682087 -0.015425 -1.789323\n",
       "7      100.0  2.304672  0.156313 -2.496147\n",
       "8      100.0  2.315446  0.011505 -2.780507\n",
       "9      100.0  2.437214 -0.073912 -3.461403"
      ]
     },
     "execution_count": 59,
     "metadata": {},
     "output_type": "execute_result"
    }
   ],
   "source": [
    "grouping = pd.qcut(frame.data1,10,labels =False)\n",
    "grouped = frame.data2.groupby(grouping)\n",
    "grouped.apply(get_stats).unstack()"
   ]
  },
  {
   "cell_type": "markdown",
   "metadata": {
    "collapsed": true
   },
   "source": [
    "# Example:Filling Missing values with group specific values"
   ]
  },
  {
   "cell_type": "code",
   "execution_count": 2,
   "metadata": {
    "collapsed": true
   },
   "outputs": [],
   "source": [
    "s = Series(np.random.randn(6))"
   ]
  },
  {
   "cell_type": "code",
   "execution_count": 3,
   "metadata": {
    "collapsed": true
   },
   "outputs": [],
   "source": [
    "s[::2] = np.nan"
   ]
  },
  {
   "cell_type": "code",
   "execution_count": 4,
   "metadata": {
    "collapsed": false
   },
   "outputs": [
    {
     "data": {
      "text/plain": [
       "0         NaN\n",
       "1   -1.474962\n",
       "2         NaN\n",
       "3    0.771539\n",
       "4         NaN\n",
       "5    0.460818\n",
       "dtype: float64"
      ]
     },
     "execution_count": 4,
     "metadata": {},
     "output_type": "execute_result"
    }
   ],
   "source": [
    "s"
   ]
  },
  {
   "cell_type": "code",
   "execution_count": 5,
   "metadata": {
    "collapsed": false
   },
   "outputs": [
    {
     "data": {
      "text/plain": [
       "0   -0.080869\n",
       "1   -1.474962\n",
       "2   -0.080869\n",
       "3    0.771539\n",
       "4   -0.080869\n",
       "5    0.460818\n",
       "dtype: float64"
      ]
     },
     "execution_count": 5,
     "metadata": {},
     "output_type": "execute_result"
    }
   ],
   "source": [
    "s.fillna(s.mean())"
   ]
  },
  {
   "cell_type": "code",
   "execution_count": 6,
   "metadata": {
    "collapsed": true
   },
   "outputs": [],
   "source": [
    "#fill value to vary by group"
   ]
  },
  {
   "cell_type": "code",
   "execution_count": 7,
   "metadata": {
    "collapsed": true
   },
   "outputs": [],
   "source": [
    "states = ['ohio','new york','vermont','florida','oregon','nevada','california','idaho']"
   ]
  },
  {
   "cell_type": "code",
   "execution_count": 8,
   "metadata": {
    "collapsed": true
   },
   "outputs": [],
   "source": [
    "group_key = ['East'] * 4 + ['West'] * 4"
   ]
  },
  {
   "cell_type": "code",
   "execution_count": 9,
   "metadata": {
    "collapsed": false
   },
   "outputs": [
    {
     "data": {
      "text/plain": [
       "['East', 'East', 'East', 'East', 'West', 'West', 'West', 'West']"
      ]
     },
     "execution_count": 9,
     "metadata": {},
     "output_type": "execute_result"
    }
   ],
   "source": [
    "group_key"
   ]
  },
  {
   "cell_type": "code",
   "execution_count": 10,
   "metadata": {
    "collapsed": true
   },
   "outputs": [],
   "source": [
    "data = Series(np.random.randn(8),index = states)"
   ]
  },
  {
   "cell_type": "code",
   "execution_count": 11,
   "metadata": {
    "collapsed": false
   },
   "outputs": [
    {
     "data": {
      "text/plain": [
       "ohio         -0.817869\n",
       "new york      0.124549\n",
       "vermont      -0.895686\n",
       "florida      -1.718558\n",
       "oregon        0.905875\n",
       "nevada        0.000062\n",
       "california   -0.518153\n",
       "idaho         1.016666\n",
       "dtype: float64"
      ]
     },
     "execution_count": 11,
     "metadata": {},
     "output_type": "execute_result"
    }
   ],
   "source": [
    "data"
   ]
  },
  {
   "cell_type": "code",
   "execution_count": 12,
   "metadata": {
    "collapsed": false
   },
   "outputs": [
    {
     "data": {
      "text/plain": [
       "ohio         -0.817869\n",
       "new york      0.124549\n",
       "vermont            NaN\n",
       "florida      -1.718558\n",
       "oregon        0.905875\n",
       "nevada             NaN\n",
       "california   -0.518153\n",
       "idaho              NaN\n",
       "dtype: float64"
      ]
     },
     "execution_count": 12,
     "metadata": {},
     "output_type": "execute_result"
    }
   ],
   "source": [
    "data[['vermont','nevada','idaho']] = np.nan\n",
    "data"
   ]
  },
  {
   "cell_type": "code",
   "execution_count": 14,
   "metadata": {
    "collapsed": false
   },
   "outputs": [
    {
     "data": {
      "text/plain": [
       "East   -0.803959\n",
       "West    0.193861\n",
       "dtype: float64"
      ]
     },
     "execution_count": 14,
     "metadata": {},
     "output_type": "execute_result"
    }
   ],
   "source": [
    "data.groupby(group_key).mean()"
   ]
  },
  {
   "cell_type": "code",
   "execution_count": 15,
   "metadata": {
    "collapsed": true
   },
   "outputs": [],
   "source": [
    "#we can fill the NA values using the group means like so:"
   ]
  },
  {
   "cell_type": "code",
   "execution_count": 16,
   "metadata": {
    "collapsed": true
   },
   "outputs": [],
   "source": [
    "fill_mean = lambda g: g.fillna(g.mean())"
   ]
  },
  {
   "cell_type": "code",
   "execution_count": 17,
   "metadata": {
    "collapsed": false
   },
   "outputs": [
    {
     "data": {
      "text/plain": [
       "ohio         -0.817869\n",
       "new york      0.124549\n",
       "vermont      -0.803959\n",
       "florida      -1.718558\n",
       "oregon        0.905875\n",
       "nevada        0.193861\n",
       "california   -0.518153\n",
       "idaho         0.193861\n",
       "dtype: float64"
      ]
     },
     "execution_count": 17,
     "metadata": {},
     "output_type": "execute_result"
    }
   ],
   "source": [
    "data.groupby(group_key).apply(fill_mean)"
   ]
  },
  {
   "cell_type": "code",
   "execution_count": 19,
   "metadata": {
    "collapsed": false
   },
   "outputs": [
    {
     "name": "stdout",
     "output_type": "stream",
     "text": [
      "East\n",
      "ohio       -0.817869\n",
      "new york    0.124549\n",
      "vermont          NaN\n",
      "florida    -1.718558\n",
      "dtype: float64\n",
      "West\n",
      "oregon        0.905875\n",
      "nevada             NaN\n",
      "california   -0.518153\n",
      "idaho              NaN\n",
      "dtype: float64\n"
     ]
    }
   ],
   "source": [
    "for i,j in data.groupby(group_key):\n",
    "    print(i)\n",
    "    print(j)"
   ]
  },
  {
   "cell_type": "code",
   "execution_count": 20,
   "metadata": {
    "collapsed": true
   },
   "outputs": [],
   "source": [
    "#if we want to set predefined values"
   ]
  },
  {
   "cell_type": "code",
   "execution_count": 21,
   "metadata": {
    "collapsed": true
   },
   "outputs": [],
   "source": [
    "fill_values = {'East' :0.5,'West':-1}"
   ]
  },
  {
   "cell_type": "code",
   "execution_count": 25,
   "metadata": {
    "collapsed": false
   },
   "outputs": [
    {
     "data": {
      "text/plain": [
       "ohio         -0.817869\n",
       "new york      0.124549\n",
       "vermont       0.500000\n",
       "florida      -1.718558\n",
       "oregon        0.905875\n",
       "nevada       -1.000000\n",
       "california   -0.518153\n",
       "idaho        -1.000000\n",
       "dtype: float64"
      ]
     },
     "execution_count": 25,
     "metadata": {},
     "output_type": "execute_result"
    }
   ],
   "source": [
    "fill_func = lambda g: g.fillna(fill_values[g.name])\n",
    "data.groupby(group_key).apply(fill_func)"
   ]
  },
  {
   "cell_type": "markdown",
   "metadata": {},
   "source": [
    "# Example:Random Sampling and Permutation"
   ]
  },
  {
   "cell_type": "code",
   "execution_count": null,
   "metadata": {
    "collapsed": true
   },
   "outputs": [],
   "source": [
    "#USE np.random.permutation(N)[:k] where N->total size and k(sample size)"
   ]
  },
  {
   "cell_type": "markdown",
   "metadata": {},
   "source": [
    "# Example:Group Weighted Average and Correlation"
   ]
  },
  {
   "cell_type": "code",
   "execution_count": 27,
   "metadata": {
    "collapsed": false
   },
   "outputs": [
    {
     "data": {
      "text/html": [
       "<div>\n",
       "<table border=\"1\" class=\"dataframe\">\n",
       "  <thead>\n",
       "    <tr style=\"text-align: right;\">\n",
       "      <th></th>\n",
       "      <th>category</th>\n",
       "      <th>data</th>\n",
       "      <th>weights</th>\n",
       "    </tr>\n",
       "  </thead>\n",
       "  <tbody>\n",
       "    <tr>\n",
       "      <th>0</th>\n",
       "      <td>a</td>\n",
       "      <td>0.250942</td>\n",
       "      <td>-0.344599</td>\n",
       "    </tr>\n",
       "    <tr>\n",
       "      <th>1</th>\n",
       "      <td>a</td>\n",
       "      <td>0.173843</td>\n",
       "      <td>-0.284082</td>\n",
       "    </tr>\n",
       "    <tr>\n",
       "      <th>2</th>\n",
       "      <td>a</td>\n",
       "      <td>0.174907</td>\n",
       "      <td>0.730803</td>\n",
       "    </tr>\n",
       "    <tr>\n",
       "      <th>3</th>\n",
       "      <td>a</td>\n",
       "      <td>0.248942</td>\n",
       "      <td>-1.555833</td>\n",
       "    </tr>\n",
       "    <tr>\n",
       "      <th>4</th>\n",
       "      <td>b</td>\n",
       "      <td>0.567241</td>\n",
       "      <td>-0.175226</td>\n",
       "    </tr>\n",
       "    <tr>\n",
       "      <th>5</th>\n",
       "      <td>b</td>\n",
       "      <td>-0.393431</td>\n",
       "      <td>0.848646</td>\n",
       "    </tr>\n",
       "    <tr>\n",
       "      <th>6</th>\n",
       "      <td>b</td>\n",
       "      <td>1.328535</td>\n",
       "      <td>-0.048465</td>\n",
       "    </tr>\n",
       "    <tr>\n",
       "      <th>7</th>\n",
       "      <td>b</td>\n",
       "      <td>1.071226</td>\n",
       "      <td>0.783012</td>\n",
       "    </tr>\n",
       "  </tbody>\n",
       "</table>\n",
       "</div>"
      ],
      "text/plain": [
       "  category      data   weights\n",
       "0        a  0.250942 -0.344599\n",
       "1        a  0.173843 -0.284082\n",
       "2        a  0.174907  0.730803\n",
       "3        a  0.248942 -1.555833\n",
       "4        b  0.567241 -0.175226\n",
       "5        b -0.393431  0.848646\n",
       "6        b  1.328535 -0.048465\n",
       "7        b  1.071226  0.783012"
      ]
     },
     "execution_count": 27,
     "metadata": {},
     "output_type": "execute_result"
    }
   ],
   "source": [
    "df = DataFrame({'category':['a','a','a','a','b','b','b','b'],'data':np.random.randn(8),'weights':np.random.randn(8)})\n",
    "df"
   ]
  },
  {
   "cell_type": "code",
   "execution_count": 28,
   "metadata": {
    "collapsed": true
   },
   "outputs": [],
   "source": [
    "grouped = df.groupby('category')"
   ]
  },
  {
   "cell_type": "code",
   "execution_count": 29,
   "metadata": {
    "collapsed": false
   },
   "outputs": [
    {
     "data": {
      "text/plain": [
       "category\n",
       "a    0.271959\n",
       "b    0.242276\n",
       "dtype: float64"
      ]
     },
     "execution_count": 29,
     "metadata": {},
     "output_type": "execute_result"
    }
   ],
   "source": [
    "get_wavg = lambda g:np.average(g['data'],weights=g['weights'])\n",
    "grouped.apply(get_wavg)"
   ]
  },
  {
   "cell_type": "markdown",
   "metadata": {},
   "source": [
    "# Pivot Tables and Cross_Tabulation"
   ]
  },
  {
   "cell_type": "code",
   "execution_count": null,
   "metadata": {
    "collapsed": true
   },
   "outputs": [],
   "source": [
    "#A pivot table is a data summarization tool"
   ]
  },
  {
   "cell_type": "code",
   "execution_count": 31,
   "metadata": {
    "collapsed": false
   },
   "outputs": [
    {
     "data": {
      "text/html": [
       "<div>\n",
       "<table border=\"1\" class=\"dataframe\">\n",
       "  <thead>\n",
       "    <tr style=\"text-align: right;\">\n",
       "      <th></th>\n",
       "      <th>total_bill</th>\n",
       "      <th>tip</th>\n",
       "      <th>sex</th>\n",
       "      <th>smoker</th>\n",
       "      <th>day</th>\n",
       "      <th>time</th>\n",
       "      <th>size</th>\n",
       "    </tr>\n",
       "  </thead>\n",
       "  <tbody>\n",
       "    <tr>\n",
       "      <th>0</th>\n",
       "      <td>16.99</td>\n",
       "      <td>1.01</td>\n",
       "      <td>Female</td>\n",
       "      <td>No</td>\n",
       "      <td>Sun</td>\n",
       "      <td>Dinner</td>\n",
       "      <td>2</td>\n",
       "    </tr>\n",
       "    <tr>\n",
       "      <th>1</th>\n",
       "      <td>10.34</td>\n",
       "      <td>1.66</td>\n",
       "      <td>Male</td>\n",
       "      <td>No</td>\n",
       "      <td>Sun</td>\n",
       "      <td>Dinner</td>\n",
       "      <td>3</td>\n",
       "    </tr>\n",
       "    <tr>\n",
       "      <th>2</th>\n",
       "      <td>21.01</td>\n",
       "      <td>3.50</td>\n",
       "      <td>Male</td>\n",
       "      <td>No</td>\n",
       "      <td>Sun</td>\n",
       "      <td>Dinner</td>\n",
       "      <td>3</td>\n",
       "    </tr>\n",
       "    <tr>\n",
       "      <th>3</th>\n",
       "      <td>23.68</td>\n",
       "      <td>3.31</td>\n",
       "      <td>Male</td>\n",
       "      <td>No</td>\n",
       "      <td>Sun</td>\n",
       "      <td>Dinner</td>\n",
       "      <td>2</td>\n",
       "    </tr>\n",
       "    <tr>\n",
       "      <th>4</th>\n",
       "      <td>24.59</td>\n",
       "      <td>3.61</td>\n",
       "      <td>Female</td>\n",
       "      <td>No</td>\n",
       "      <td>Sun</td>\n",
       "      <td>Dinner</td>\n",
       "      <td>4</td>\n",
       "    </tr>\n",
       "    <tr>\n",
       "      <th>5</th>\n",
       "      <td>25.29</td>\n",
       "      <td>4.71</td>\n",
       "      <td>Male</td>\n",
       "      <td>No</td>\n",
       "      <td>Sun</td>\n",
       "      <td>Dinner</td>\n",
       "      <td>4</td>\n",
       "    </tr>\n",
       "  </tbody>\n",
       "</table>\n",
       "</div>"
      ],
      "text/plain": [
       "   total_bill   tip     sex smoker  day    time  size\n",
       "0       16.99  1.01  Female     No  Sun  Dinner     2\n",
       "1       10.34  1.66    Male     No  Sun  Dinner     3\n",
       "2       21.01  3.50    Male     No  Sun  Dinner     3\n",
       "3       23.68  3.31    Male     No  Sun  Dinner     2\n",
       "4       24.59  3.61  Female     No  Sun  Dinner     4\n",
       "5       25.29  4.71    Male     No  Sun  Dinner     4"
      ]
     },
     "execution_count": 31,
     "metadata": {},
     "output_type": "execute_result"
    }
   ],
   "source": [
    "tips.ix[:5,:]"
   ]
  },
  {
   "cell_type": "code",
   "execution_count": 32,
   "metadata": {
    "collapsed": true
   },
   "outputs": [],
   "source": [
    "#computing a table of group means arranged by sex and smoker on the rows"
   ]
  },
  {
   "cell_type": "code",
   "execution_count": 39,
   "metadata": {
    "collapsed": false
   },
   "outputs": [
    {
     "data": {
      "text/html": [
       "<div>\n",
       "<table border=\"1\" class=\"dataframe\">\n",
       "  <thead>\n",
       "    <tr style=\"text-align: right;\">\n",
       "      <th></th>\n",
       "      <th></th>\n",
       "      <th>size</th>\n",
       "      <th>tip</th>\n",
       "      <th>total_bill</th>\n",
       "    </tr>\n",
       "    <tr>\n",
       "      <th>sex</th>\n",
       "      <th>smoker</th>\n",
       "      <th></th>\n",
       "      <th></th>\n",
       "      <th></th>\n",
       "    </tr>\n",
       "  </thead>\n",
       "  <tbody>\n",
       "    <tr>\n",
       "      <th rowspan=\"2\" valign=\"top\">Female</th>\n",
       "      <th>No</th>\n",
       "      <td>2.592593</td>\n",
       "      <td>2.773519</td>\n",
       "      <td>18.105185</td>\n",
       "    </tr>\n",
       "    <tr>\n",
       "      <th>Yes</th>\n",
       "      <td>2.242424</td>\n",
       "      <td>2.931515</td>\n",
       "      <td>17.977879</td>\n",
       "    </tr>\n",
       "    <tr>\n",
       "      <th rowspan=\"2\" valign=\"top\">Male</th>\n",
       "      <th>No</th>\n",
       "      <td>2.711340</td>\n",
       "      <td>3.113402</td>\n",
       "      <td>19.791237</td>\n",
       "    </tr>\n",
       "    <tr>\n",
       "      <th>Yes</th>\n",
       "      <td>2.500000</td>\n",
       "      <td>3.051167</td>\n",
       "      <td>22.284500</td>\n",
       "    </tr>\n",
       "  </tbody>\n",
       "</table>\n",
       "</div>"
      ],
      "text/plain": [
       "                   size       tip  total_bill\n",
       "sex    smoker                                \n",
       "Female No      2.592593  2.773519   18.105185\n",
       "       Yes     2.242424  2.931515   17.977879\n",
       "Male   No      2.711340  3.113402   19.791237\n",
       "       Yes     2.500000  3.051167   22.284500"
      ]
     },
     "execution_count": 39,
     "metadata": {},
     "output_type": "execute_result"
    }
   ],
   "source": [
    "tips.pivot_table(index=['sex','smoker'])"
   ]
  },
  {
   "cell_type": "code",
   "execution_count": 41,
   "metadata": {
    "collapsed": false
   },
   "outputs": [
    {
     "data": {
      "text/html": [
       "<div>\n",
       "<table border=\"1\" class=\"dataframe\">\n",
       "  <thead>\n",
       "    <tr>\n",
       "      <th></th>\n",
       "      <th></th>\n",
       "      <th colspan=\"2\" halign=\"left\">tip_pct</th>\n",
       "      <th colspan=\"2\" halign=\"left\">size</th>\n",
       "    </tr>\n",
       "    <tr>\n",
       "      <th></th>\n",
       "      <th>smoker</th>\n",
       "      <th>No</th>\n",
       "      <th>Yes</th>\n",
       "      <th>No</th>\n",
       "      <th>Yes</th>\n",
       "    </tr>\n",
       "    <tr>\n",
       "      <th>sex</th>\n",
       "      <th>day</th>\n",
       "      <th></th>\n",
       "      <th></th>\n",
       "      <th></th>\n",
       "      <th></th>\n",
       "    </tr>\n",
       "  </thead>\n",
       "  <tbody>\n",
       "    <tr>\n",
       "      <th rowspan=\"4\" valign=\"top\">Female</th>\n",
       "      <th>Fri</th>\n",
       "      <td>0.165296</td>\n",
       "      <td>0.209129</td>\n",
       "      <td>2.500000</td>\n",
       "      <td>2.000000</td>\n",
       "    </tr>\n",
       "    <tr>\n",
       "      <th>Sat</th>\n",
       "      <td>0.147993</td>\n",
       "      <td>0.163817</td>\n",
       "      <td>2.307692</td>\n",
       "      <td>2.200000</td>\n",
       "    </tr>\n",
       "    <tr>\n",
       "      <th>Sun</th>\n",
       "      <td>0.165710</td>\n",
       "      <td>0.237075</td>\n",
       "      <td>3.071429</td>\n",
       "      <td>2.500000</td>\n",
       "    </tr>\n",
       "    <tr>\n",
       "      <th>Thur</th>\n",
       "      <td>0.155971</td>\n",
       "      <td>0.163073</td>\n",
       "      <td>2.480000</td>\n",
       "      <td>2.428571</td>\n",
       "    </tr>\n",
       "    <tr>\n",
       "      <th rowspan=\"4\" valign=\"top\">Male</th>\n",
       "      <th>Fri</th>\n",
       "      <td>0.138005</td>\n",
       "      <td>0.144730</td>\n",
       "      <td>2.000000</td>\n",
       "      <td>2.125000</td>\n",
       "    </tr>\n",
       "    <tr>\n",
       "      <th>Sat</th>\n",
       "      <td>0.162132</td>\n",
       "      <td>0.139067</td>\n",
       "      <td>2.656250</td>\n",
       "      <td>2.629630</td>\n",
       "    </tr>\n",
       "    <tr>\n",
       "      <th>Sun</th>\n",
       "      <td>0.158291</td>\n",
       "      <td>0.173964</td>\n",
       "      <td>2.883721</td>\n",
       "      <td>2.600000</td>\n",
       "    </tr>\n",
       "    <tr>\n",
       "      <th>Thur</th>\n",
       "      <td>0.165706</td>\n",
       "      <td>0.164417</td>\n",
       "      <td>2.500000</td>\n",
       "      <td>2.300000</td>\n",
       "    </tr>\n",
       "  </tbody>\n",
       "</table>\n",
       "</div>"
      ],
      "text/plain": [
       "              tip_pct                size          \n",
       "smoker             No       Yes        No       Yes\n",
       "sex    day                                         \n",
       "Female Fri   0.165296  0.209129  2.500000  2.000000\n",
       "       Sat   0.147993  0.163817  2.307692  2.200000\n",
       "       Sun   0.165710  0.237075  3.071429  2.500000\n",
       "       Thur  0.155971  0.163073  2.480000  2.428571\n",
       "Male   Fri   0.138005  0.144730  2.000000  2.125000\n",
       "       Sat   0.162132  0.139067  2.656250  2.629630\n",
       "       Sun   0.158291  0.173964  2.883721  2.600000\n",
       "       Thur  0.165706  0.164417  2.500000  2.300000"
      ]
     },
     "execution_count": 41,
     "metadata": {},
     "output_type": "execute_result"
    }
   ],
   "source": [
    "tips.pivot_table(['tip_pct','size'],index=['sex','day'],columns='smoker')"
   ]
  },
  {
   "cell_type": "code",
   "execution_count": 42,
   "metadata": {
    "collapsed": true
   },
   "outputs": [],
   "source": [
    "#This table could be augmented to include partial totals by passing margins= true."
   ]
  },
  {
   "cell_type": "code",
   "execution_count": 43,
   "metadata": {
    "collapsed": false
   },
   "outputs": [
    {
     "data": {
      "text/html": [
       "<div>\n",
       "<table border=\"1\" class=\"dataframe\">\n",
       "  <thead>\n",
       "    <tr>\n",
       "      <th></th>\n",
       "      <th></th>\n",
       "      <th colspan=\"3\" halign=\"left\">tip_pct</th>\n",
       "      <th colspan=\"3\" halign=\"left\">size</th>\n",
       "    </tr>\n",
       "    <tr>\n",
       "      <th></th>\n",
       "      <th>smoker</th>\n",
       "      <th>No</th>\n",
       "      <th>Yes</th>\n",
       "      <th>All</th>\n",
       "      <th>No</th>\n",
       "      <th>Yes</th>\n",
       "      <th>All</th>\n",
       "    </tr>\n",
       "    <tr>\n",
       "      <th>sex</th>\n",
       "      <th>day</th>\n",
       "      <th></th>\n",
       "      <th></th>\n",
       "      <th></th>\n",
       "      <th></th>\n",
       "      <th></th>\n",
       "      <th></th>\n",
       "    </tr>\n",
       "  </thead>\n",
       "  <tbody>\n",
       "    <tr>\n",
       "      <th rowspan=\"4\" valign=\"top\">Female</th>\n",
       "      <th>Fri</th>\n",
       "      <td>0.165296</td>\n",
       "      <td>0.209129</td>\n",
       "      <td>0.199388</td>\n",
       "      <td>2.500000</td>\n",
       "      <td>2.000000</td>\n",
       "      <td>2.111111</td>\n",
       "    </tr>\n",
       "    <tr>\n",
       "      <th>Sat</th>\n",
       "      <td>0.147993</td>\n",
       "      <td>0.163817</td>\n",
       "      <td>0.156470</td>\n",
       "      <td>2.307692</td>\n",
       "      <td>2.200000</td>\n",
       "      <td>2.250000</td>\n",
       "    </tr>\n",
       "    <tr>\n",
       "      <th>Sun</th>\n",
       "      <td>0.165710</td>\n",
       "      <td>0.237075</td>\n",
       "      <td>0.181569</td>\n",
       "      <td>3.071429</td>\n",
       "      <td>2.500000</td>\n",
       "      <td>2.944444</td>\n",
       "    </tr>\n",
       "    <tr>\n",
       "      <th>Thur</th>\n",
       "      <td>0.155971</td>\n",
       "      <td>0.163073</td>\n",
       "      <td>0.157525</td>\n",
       "      <td>2.480000</td>\n",
       "      <td>2.428571</td>\n",
       "      <td>2.468750</td>\n",
       "    </tr>\n",
       "    <tr>\n",
       "      <th rowspan=\"4\" valign=\"top\">Male</th>\n",
       "      <th>Fri</th>\n",
       "      <td>0.138005</td>\n",
       "      <td>0.144730</td>\n",
       "      <td>0.143385</td>\n",
       "      <td>2.000000</td>\n",
       "      <td>2.125000</td>\n",
       "      <td>2.100000</td>\n",
       "    </tr>\n",
       "    <tr>\n",
       "      <th>Sat</th>\n",
       "      <td>0.162132</td>\n",
       "      <td>0.139067</td>\n",
       "      <td>0.151577</td>\n",
       "      <td>2.656250</td>\n",
       "      <td>2.629630</td>\n",
       "      <td>2.644068</td>\n",
       "    </tr>\n",
       "    <tr>\n",
       "      <th>Sun</th>\n",
       "      <td>0.158291</td>\n",
       "      <td>0.173964</td>\n",
       "      <td>0.162344</td>\n",
       "      <td>2.883721</td>\n",
       "      <td>2.600000</td>\n",
       "      <td>2.810345</td>\n",
       "    </tr>\n",
       "    <tr>\n",
       "      <th>Thur</th>\n",
       "      <td>0.165706</td>\n",
       "      <td>0.164417</td>\n",
       "      <td>0.165276</td>\n",
       "      <td>2.500000</td>\n",
       "      <td>2.300000</td>\n",
       "      <td>2.433333</td>\n",
       "    </tr>\n",
       "    <tr>\n",
       "      <th>All</th>\n",
       "      <th></th>\n",
       "      <td>0.159328</td>\n",
       "      <td>0.163196</td>\n",
       "      <td>0.160803</td>\n",
       "      <td>2.668874</td>\n",
       "      <td>2.408602</td>\n",
       "      <td>2.569672</td>\n",
       "    </tr>\n",
       "  </tbody>\n",
       "</table>\n",
       "</div>"
      ],
      "text/plain": [
       "              tip_pct                          size                    \n",
       "smoker             No       Yes       All        No       Yes       All\n",
       "sex    day                                                             \n",
       "Female Fri   0.165296  0.209129  0.199388  2.500000  2.000000  2.111111\n",
       "       Sat   0.147993  0.163817  0.156470  2.307692  2.200000  2.250000\n",
       "       Sun   0.165710  0.237075  0.181569  3.071429  2.500000  2.944444\n",
       "       Thur  0.155971  0.163073  0.157525  2.480000  2.428571  2.468750\n",
       "Male   Fri   0.138005  0.144730  0.143385  2.000000  2.125000  2.100000\n",
       "       Sat   0.162132  0.139067  0.151577  2.656250  2.629630  2.644068\n",
       "       Sun   0.158291  0.173964  0.162344  2.883721  2.600000  2.810345\n",
       "       Thur  0.165706  0.164417  0.165276  2.500000  2.300000  2.433333\n",
       "All          0.159328  0.163196  0.160803  2.668874  2.408602  2.569672"
      ]
     },
     "execution_count": 43,
     "metadata": {},
     "output_type": "execute_result"
    }
   ],
   "source": [
    "tips.pivot_table(['tip_pct','size'],index=['sex','day'],columns='smoker',margins=True)"
   ]
  },
  {
   "cell_type": "code",
   "execution_count": 44,
   "metadata": {
    "collapsed": true
   },
   "outputs": [],
   "source": [
    "#to use a different agg function pass it to aggfunc"
   ]
  },
  {
   "cell_type": "code",
   "execution_count": 45,
   "metadata": {
    "collapsed": false
   },
   "outputs": [
    {
     "data": {
      "text/html": [
       "<div>\n",
       "<table border=\"1\" class=\"dataframe\">\n",
       "  <thead>\n",
       "    <tr style=\"text-align: right;\">\n",
       "      <th></th>\n",
       "      <th>day</th>\n",
       "      <th>Fri</th>\n",
       "      <th>Sat</th>\n",
       "      <th>Sun</th>\n",
       "      <th>Thur</th>\n",
       "      <th>All</th>\n",
       "    </tr>\n",
       "    <tr>\n",
       "      <th>sex</th>\n",
       "      <th>smoker</th>\n",
       "      <th></th>\n",
       "      <th></th>\n",
       "      <th></th>\n",
       "      <th></th>\n",
       "      <th></th>\n",
       "    </tr>\n",
       "  </thead>\n",
       "  <tbody>\n",
       "    <tr>\n",
       "      <th rowspan=\"2\" valign=\"top\">Female</th>\n",
       "      <th>No</th>\n",
       "      <td>2.0</td>\n",
       "      <td>13.0</td>\n",
       "      <td>14.0</td>\n",
       "      <td>25.0</td>\n",
       "      <td>54.0</td>\n",
       "    </tr>\n",
       "    <tr>\n",
       "      <th>Yes</th>\n",
       "      <td>7.0</td>\n",
       "      <td>15.0</td>\n",
       "      <td>4.0</td>\n",
       "      <td>7.0</td>\n",
       "      <td>33.0</td>\n",
       "    </tr>\n",
       "    <tr>\n",
       "      <th rowspan=\"2\" valign=\"top\">Male</th>\n",
       "      <th>No</th>\n",
       "      <td>2.0</td>\n",
       "      <td>32.0</td>\n",
       "      <td>43.0</td>\n",
       "      <td>20.0</td>\n",
       "      <td>97.0</td>\n",
       "    </tr>\n",
       "    <tr>\n",
       "      <th>Yes</th>\n",
       "      <td>8.0</td>\n",
       "      <td>27.0</td>\n",
       "      <td>15.0</td>\n",
       "      <td>10.0</td>\n",
       "      <td>60.0</td>\n",
       "    </tr>\n",
       "    <tr>\n",
       "      <th>All</th>\n",
       "      <th></th>\n",
       "      <td>19.0</td>\n",
       "      <td>87.0</td>\n",
       "      <td>76.0</td>\n",
       "      <td>62.0</td>\n",
       "      <td>244.0</td>\n",
       "    </tr>\n",
       "  </tbody>\n",
       "</table>\n",
       "</div>"
      ],
      "text/plain": [
       "day             Fri   Sat   Sun  Thur    All\n",
       "sex    smoker                               \n",
       "Female No       2.0  13.0  14.0  25.0   54.0\n",
       "       Yes      7.0  15.0   4.0   7.0   33.0\n",
       "Male   No       2.0  32.0  43.0  20.0   97.0\n",
       "       Yes      8.0  27.0  15.0  10.0   60.0\n",
       "All            19.0  87.0  76.0  62.0  244.0"
      ]
     },
     "execution_count": 45,
     "metadata": {},
     "output_type": "execute_result"
    }
   ],
   "source": [
    "tips.pivot_table('tip_pct',index=['sex','smoker'],columns='day',aggfunc=len,margins=True)"
   ]
  },
  {
   "cell_type": "code",
   "execution_count": 46,
   "metadata": {
    "collapsed": true
   },
   "outputs": [],
   "source": [
    "#if some combinations are empty we would want to pass fill_value:"
   ]
  },
  {
   "cell_type": "code",
   "execution_count": 47,
   "metadata": {
    "collapsed": false
   },
   "outputs": [
    {
     "data": {
      "text/html": [
       "<div>\n",
       "<table border=\"1\" class=\"dataframe\">\n",
       "  <thead>\n",
       "    <tr style=\"text-align: right;\">\n",
       "      <th></th>\n",
       "      <th></th>\n",
       "      <th>day</th>\n",
       "      <th>Fri</th>\n",
       "      <th>Sat</th>\n",
       "      <th>Sun</th>\n",
       "      <th>Thur</th>\n",
       "    </tr>\n",
       "    <tr>\n",
       "      <th>time</th>\n",
       "      <th>sex</th>\n",
       "      <th>smoker</th>\n",
       "      <th></th>\n",
       "      <th></th>\n",
       "      <th></th>\n",
       "      <th></th>\n",
       "    </tr>\n",
       "  </thead>\n",
       "  <tbody>\n",
       "    <tr>\n",
       "      <th rowspan=\"4\" valign=\"top\">Dinner</th>\n",
       "      <th rowspan=\"2\" valign=\"top\">Female</th>\n",
       "      <th>No</th>\n",
       "      <td>2</td>\n",
       "      <td>30</td>\n",
       "      <td>43</td>\n",
       "      <td>2</td>\n",
       "    </tr>\n",
       "    <tr>\n",
       "      <th>Yes</th>\n",
       "      <td>8</td>\n",
       "      <td>33</td>\n",
       "      <td>10</td>\n",
       "      <td>0</td>\n",
       "    </tr>\n",
       "    <tr>\n",
       "      <th rowspan=\"2\" valign=\"top\">Male</th>\n",
       "      <th>No</th>\n",
       "      <td>4</td>\n",
       "      <td>85</td>\n",
       "      <td>124</td>\n",
       "      <td>0</td>\n",
       "    </tr>\n",
       "    <tr>\n",
       "      <th>Yes</th>\n",
       "      <td>12</td>\n",
       "      <td>71</td>\n",
       "      <td>39</td>\n",
       "      <td>0</td>\n",
       "    </tr>\n",
       "    <tr>\n",
       "      <th rowspan=\"4\" valign=\"top\">Lunch</th>\n",
       "      <th rowspan=\"2\" valign=\"top\">Female</th>\n",
       "      <th>No</th>\n",
       "      <td>3</td>\n",
       "      <td>0</td>\n",
       "      <td>0</td>\n",
       "      <td>60</td>\n",
       "    </tr>\n",
       "    <tr>\n",
       "      <th>Yes</th>\n",
       "      <td>6</td>\n",
       "      <td>0</td>\n",
       "      <td>0</td>\n",
       "      <td>17</td>\n",
       "    </tr>\n",
       "    <tr>\n",
       "      <th rowspan=\"2\" valign=\"top\">Male</th>\n",
       "      <th>No</th>\n",
       "      <td>0</td>\n",
       "      <td>0</td>\n",
       "      <td>0</td>\n",
       "      <td>50</td>\n",
       "    </tr>\n",
       "    <tr>\n",
       "      <th>Yes</th>\n",
       "      <td>5</td>\n",
       "      <td>0</td>\n",
       "      <td>0</td>\n",
       "      <td>23</td>\n",
       "    </tr>\n",
       "  </tbody>\n",
       "</table>\n",
       "</div>"
      ],
      "text/plain": [
       "day                   Fri  Sat  Sun  Thur\n",
       "time   sex    smoker                     \n",
       "Dinner Female No        2   30   43     2\n",
       "              Yes       8   33   10     0\n",
       "       Male   No        4   85  124     0\n",
       "              Yes      12   71   39     0\n",
       "Lunch  Female No        3    0    0    60\n",
       "              Yes       6    0    0    17\n",
       "       Male   No        0    0    0    50\n",
       "              Yes       5    0    0    23"
      ]
     },
     "execution_count": 47,
     "metadata": {},
     "output_type": "execute_result"
    }
   ],
   "source": [
    "tips.pivot_table('size',index=['time','sex','smoker'],columns='day',aggfunc=sum,fill_value=0)"
   ]
  },
  {
   "cell_type": "markdown",
   "metadata": {},
   "source": [
    "# Cross-Tabulations:Crosstab"
   ]
  },
  {
   "cell_type": "code",
   "execution_count": 50,
   "metadata": {
    "collapsed": true
   },
   "outputs": [],
   "source": [
    "#A cross-tabulation is a special case of apivot table thet computes group frequencies"
   ]
  },
  {
   "cell_type": "code",
   "execution_count": 49,
   "metadata": {
    "collapsed": false
   },
   "outputs": [
    {
     "data": {
      "text/html": [
       "<div>\n",
       "<table border=\"1\" class=\"dataframe\">\n",
       "  <thead>\n",
       "    <tr style=\"text-align: right;\">\n",
       "      <th>smoker</th>\n",
       "      <th>No</th>\n",
       "      <th>Yes</th>\n",
       "      <th>All</th>\n",
       "    </tr>\n",
       "    <tr>\n",
       "      <th>sex</th>\n",
       "      <th></th>\n",
       "      <th></th>\n",
       "      <th></th>\n",
       "    </tr>\n",
       "  </thead>\n",
       "  <tbody>\n",
       "    <tr>\n",
       "      <th>Female</th>\n",
       "      <td>54</td>\n",
       "      <td>33</td>\n",
       "      <td>87</td>\n",
       "    </tr>\n",
       "    <tr>\n",
       "      <th>Male</th>\n",
       "      <td>97</td>\n",
       "      <td>60</td>\n",
       "      <td>157</td>\n",
       "    </tr>\n",
       "    <tr>\n",
       "      <th>All</th>\n",
       "      <td>151</td>\n",
       "      <td>93</td>\n",
       "      <td>244</td>\n",
       "    </tr>\n",
       "  </tbody>\n",
       "</table>\n",
       "</div>"
      ],
      "text/plain": [
       "smoker   No  Yes  All\n",
       "sex                  \n",
       "Female   54   33   87\n",
       "Male     97   60  157\n",
       "All     151   93  244"
      ]
     },
     "execution_count": 49,
     "metadata": {},
     "output_type": "execute_result"
    }
   ],
   "source": [
    "pd.crosstab(tips.sex,tips.smoker,margins=True)"
   ]
  },
  {
   "cell_type": "code",
   "execution_count": 51,
   "metadata": {
    "collapsed": true
   },
   "outputs": [],
   "source": [
    "#the first two arguments can be either an array or Series or list of arrays"
   ]
  },
  {
   "cell_type": "code",
   "execution_count": 52,
   "metadata": {
    "collapsed": false
   },
   "outputs": [
    {
     "data": {
      "text/html": [
       "<div>\n",
       "<table border=\"1\" class=\"dataframe\">\n",
       "  <thead>\n",
       "    <tr style=\"text-align: right;\">\n",
       "      <th></th>\n",
       "      <th>smoker</th>\n",
       "      <th>No</th>\n",
       "      <th>Yes</th>\n",
       "      <th>All</th>\n",
       "    </tr>\n",
       "    <tr>\n",
       "      <th>time</th>\n",
       "      <th>day</th>\n",
       "      <th></th>\n",
       "      <th></th>\n",
       "      <th></th>\n",
       "    </tr>\n",
       "  </thead>\n",
       "  <tbody>\n",
       "    <tr>\n",
       "      <th rowspan=\"4\" valign=\"top\">Dinner</th>\n",
       "      <th>Fri</th>\n",
       "      <td>3</td>\n",
       "      <td>9</td>\n",
       "      <td>12</td>\n",
       "    </tr>\n",
       "    <tr>\n",
       "      <th>Sat</th>\n",
       "      <td>45</td>\n",
       "      <td>42</td>\n",
       "      <td>87</td>\n",
       "    </tr>\n",
       "    <tr>\n",
       "      <th>Sun</th>\n",
       "      <td>57</td>\n",
       "      <td>19</td>\n",
       "      <td>76</td>\n",
       "    </tr>\n",
       "    <tr>\n",
       "      <th>Thur</th>\n",
       "      <td>1</td>\n",
       "      <td>0</td>\n",
       "      <td>1</td>\n",
       "    </tr>\n",
       "    <tr>\n",
       "      <th rowspan=\"2\" valign=\"top\">Lunch</th>\n",
       "      <th>Fri</th>\n",
       "      <td>1</td>\n",
       "      <td>6</td>\n",
       "      <td>7</td>\n",
       "    </tr>\n",
       "    <tr>\n",
       "      <th>Thur</th>\n",
       "      <td>44</td>\n",
       "      <td>17</td>\n",
       "      <td>61</td>\n",
       "    </tr>\n",
       "    <tr>\n",
       "      <th>All</th>\n",
       "      <th></th>\n",
       "      <td>151</td>\n",
       "      <td>93</td>\n",
       "      <td>244</td>\n",
       "    </tr>\n",
       "  </tbody>\n",
       "</table>\n",
       "</div>"
      ],
      "text/plain": [
       "smoker        No  Yes  All\n",
       "time   day                \n",
       "Dinner Fri     3    9   12\n",
       "       Sat    45   42   87\n",
       "       Sun    57   19   76\n",
       "       Thur    1    0    1\n",
       "Lunch  Fri     1    6    7\n",
       "       Thur   44   17   61\n",
       "All          151   93  244"
      ]
     },
     "execution_count": 52,
     "metadata": {},
     "output_type": "execute_result"
    }
   ],
   "source": [
    "pd.crosstab([tips.time,tips.day],tips.smoker,margins=True)"
   ]
  },
  {
   "cell_type": "code",
   "execution_count": null,
   "metadata": {
    "collapsed": true
   },
   "outputs": [],
   "source": []
  }
 ],
 "metadata": {
  "kernelspec": {
   "display_name": "Python 3",
   "language": "python",
   "name": "python3"
  },
  "language_info": {
   "codemirror_mode": {
    "name": "ipython",
    "version": 3
   },
   "file_extension": ".py",
   "mimetype": "text/x-python",
   "name": "python",
   "nbconvert_exporter": "python",
   "pygments_lexer": "ipython3",
   "version": "3.6.0"
  }
 },
 "nbformat": 4,
 "nbformat_minor": 2
}
